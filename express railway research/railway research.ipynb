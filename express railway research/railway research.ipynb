{
 "cells": [
  {
   "cell_type": "markdown",
   "id": "8a12a2ca",
   "metadata": {
    "toc": true
   },
   "source": [
    "<h1>Table of Contents<span class=\"tocSkip\"></span></h1>\n",
    "<div class=\"toc\"><ul class=\"toc-item\"><li><span><a href=\"#Описание-проекта\" data-toc-modified-id=\"Описание-проекта-1\"><span class=\"toc-item-num\">1&nbsp;&nbsp;</span><font face=\"liberation serif\" size=\"5\">Описание проекта</font></a></span><ul class=\"toc-item\"><li><span><a href=\"#Описание-данных.\" data-toc-modified-id=\"Описание-данных.-1.1\"><span class=\"toc-item-num\">1.1&nbsp;&nbsp;</span><font face=\"liberation serif\" size=\"4\">Описание данных.</font></a></span></li><li><span><a href=\"#Цели.\" data-toc-modified-id=\"Цели.-1.2\"><span class=\"toc-item-num\">1.2&nbsp;&nbsp;</span><font face=\"liberation serif\" size=\"4\">Цели.</font></a></span></li><li><span><a href=\"#Декомпозиция-задачи.\" data-toc-modified-id=\"Декомпозиция-задачи.-1.3\"><span class=\"toc-item-num\">1.3&nbsp;&nbsp;</span><font face=\"liberation serif\" size=\"4\">Декомпозиция задачи.</font></a></span></li></ul></li><li><span><a href=\"#Общая-подготовка\" data-toc-modified-id=\"Общая-подготовка-2\"><span class=\"toc-item-num\">2&nbsp;&nbsp;</span><font face=\"liberation serif\" size=\"5\">Общая подготовка</font></a></span></li><li><span><a href=\"#Mодуль-my_func\" data-toc-modified-id=\"Mодуль-my_func-3\"><span class=\"toc-item-num\">3&nbsp;&nbsp;</span><font face=\"liberation serif\" size=\"5\">Mодуль my_func</font></a></span><ul class=\"toc-item\"><li><span><a href=\"#Выполним-загрузку-и-вывод-информации-через-запрос-SQL\" data-toc-modified-id=\"Выполним-загрузку-и-вывод-информации-через-запрос-SQL-3.1\"><span class=\"toc-item-num\">3.1&nbsp;&nbsp;</span><font face=\"liberation serif\" size=\"4\">Выполним загрузку и вывод информации через запрос SQL</font></a></span></li><li><span><a href=\"#Корректировка-типов-данных-\" data-toc-modified-id=\"Корректировка-типов-данных--3.2\"><span class=\"toc-item-num\">3.2&nbsp;&nbsp;</span><font face=\"liberation serif\" size=\"4\">Корректировка типов данных </font></a></span></li><li><span><a href=\"#Обогащение-данных-информацией-из-файла-sp_gr_test.xlsx\" data-toc-modified-id=\"Обогащение-данных-информацией-из-файла-sp_gr_test.xlsx-3.3\"><span class=\"toc-item-num\">3.3&nbsp;&nbsp;</span><font face=\"liberation serif\" size=\"4\">Обогащение данных информацией из файла sp_gr_test.xlsx</font></a></span></li></ul></li><li><span><a href=\"#Базовый-анализ-данных-(согласно-ТЗ)\" data-toc-modified-id=\"Базовый-анализ-данных-(согласно-ТЗ)-4\"><span class=\"toc-item-num\">4&nbsp;&nbsp;</span><font face=\"liberation serif\" size=\"5\">Базовый анализ данных (согласно ТЗ)</font></a></span><ul class=\"toc-item\"><li><span><a href=\"#Период-за-который-имеются-данные.\" data-toc-modified-id=\"Период-за-который-имеются-данные.-4.1\"><span class=\"toc-item-num\">4.1&nbsp;&nbsp;</span><font face=\"liberation serif\" size=\"4\">Период за который имеются данные.</font></a></span></li><li><span><a href=\"#Сколько-и-какие-именно-железные-дороги-приведены-в-таблице\" data-toc-modified-id=\"Сколько-и-какие-именно-железные-дороги-приведены-в-таблице-4.2\"><span class=\"toc-item-num\">4.2&nbsp;&nbsp;</span><font face=\"liberation serif\" size=\"4\">Сколько и какие именно железные дороги приведены в таблице</font></a></span></li><li><span><a href=\"#Сколько-и-какие-именно-есть-группы-груза-в-таблице\" data-toc-modified-id=\"Сколько-и-какие-именно-есть-группы-груза-в-таблице-4.3\"><span class=\"toc-item-num\">4.3&nbsp;&nbsp;</span><font face=\"liberation serif\" size=\"4\">Сколько и какие именно есть группы груза в таблице</font></a></span></li><li><span><a href=\"#Максимальный-и-минимальный-объем\" data-toc-modified-id=\"Максимальный-и-минимальный-объем-4.4\"><span class=\"toc-item-num\">4.4&nbsp;&nbsp;</span><font face=\"liberation serif\" size=\"4\">Максимальный и минимальный объем</font></a></span></li><li><span><a href=\"#Выведение-дополнительной-информации\" data-toc-modified-id=\"Выведение-дополнительной-информации-4.5\"><span class=\"toc-item-num\">4.5&nbsp;&nbsp;</span><font face=\"liberation serif\" size=\"4\">Выведение дополнительной информации</font></a></span></li><li><span><a href=\"#Возвращение-колонок-заявленному-виду\" data-toc-modified-id=\"Возвращение-колонок-заявленному-виду-4.6\"><span class=\"toc-item-num\">4.6&nbsp;&nbsp;</span><font face=\"liberation serif\" size=\"4\">Возвращение колонок заявленному виду</font></a></span></li><li><span><a href=\"#Общий-вывод-по-подготовке,-прдварительной-обработке-и-базовому-исследованию-по-ТЗ\" data-toc-modified-id=\"Общий-вывод-по-подготовке,-прдварительной-обработке-и-базовому-исследованию-по-ТЗ-4.7\"><span class=\"toc-item-num\">4.7&nbsp;&nbsp;</span><font face=\"liberation serif\" size=\"4\">Общий вывод по подготовке, прдварительной обработке и базовому исследованию по ТЗ</font></a></span></li></ul></li><li><span><a href=\"#Визуализация-данных\" data-toc-modified-id=\"Визуализация-данных-5\"><span class=\"toc-item-num\">5&nbsp;&nbsp;</span><font face=\"liberation serif\" size=\"5\">Визуализация данных</font></a></span><ul class=\"toc-item\"><li><span><a href=\"#Рейтинг-железных-дорог-(как-отправления,-так-и-назначения)-по-объему\" data-toc-modified-id=\"Рейтинг-железных-дорог-(как-отправления,-так-и-назначения)-по-объему-5.1\"><span class=\"toc-item-num\">5.1&nbsp;&nbsp;</span><font face=\"liberation serif\" size=\"4\">Рейтинг железных дорог (как отправления, так и назначения) по объему</font></a></span></li><li><span><a href=\"#Топ-1-железная-дорога-по-отправлению-по-объему-(SQL)\" data-toc-modified-id=\"Топ-1-железная-дорога-по-отправлению-по-объему-(SQL)-5.2\"><span class=\"toc-item-num\">5.2&nbsp;&nbsp;</span><font face=\"liberation serif\" size=\"4\">Топ-1 железная дорога по отправлению по объему (SQL)</font></a></span></li><li><span><a href=\"#Топ-типов-перевозок-по-объему\" data-toc-modified-id=\"Топ-типов-перевозок-по-объему-5.3\"><span class=\"toc-item-num\">5.3&nbsp;&nbsp;</span><font face=\"liberation serif\" size=\"4\">Топ типов перевозок по объему</font></a></span></li><li><span><a href=\"#Топ-типов-перевозок-по-объему-(SQL)\" data-toc-modified-id=\"Топ-типов-перевозок-по-объему-(SQL)-5.4\"><span class=\"toc-item-num\">5.4&nbsp;&nbsp;</span><font face=\"liberation serif\" size=\"4\">Топ типов перевозок по объему (SQL)</font></a></span></li><li><span><a href=\"#Топ-групп-грузов-(1-и-2-уровень)-по-объему\" data-toc-modified-id=\"Топ-групп-грузов-(1-и-2-уровень)-по-объему-5.5\"><span class=\"toc-item-num\">5.5&nbsp;&nbsp;</span><font face=\"liberation serif\" size=\"4\">Топ групп грузов (1 и 2 уровень) по объему</font></a></span></li><li><span><a href=\"#Топ-1-группа-грузов-1-уровня-по-объему-(SQL)\" data-toc-modified-id=\"Топ-1-группа-грузов-1-уровня-по-объему-(SQL)-5.6\"><span class=\"toc-item-num\">5.6&nbsp;&nbsp;</span><font face=\"liberation serif\" size=\"4\">Топ-1 группа грузов 1 уровня по объему (SQL)</font></a></span></li><li><span><a href=\"#Топ-1-группа-грузов-2-уровня-по-объему-(SQL)\" data-toc-modified-id=\"Топ-1-группа-грузов-2-уровня-по-объему-(SQL)-5.7\"><span class=\"toc-item-num\">5.7&nbsp;&nbsp;</span><font face=\"liberation serif\" size=\"4\">Топ-1 группа грузов 2 уровня по объему (SQL)</font></a></span></li><li><span><a href=\"#Дополнительные-визуализации-групп-грузов-уровня-1-по-точке-отправления-и-получения-\" data-toc-modified-id=\"Дополнительные-визуализации-групп-грузов-уровня-1-по-точке-отправления-и-получения--5.8\"><span class=\"toc-item-num\">5.8&nbsp;&nbsp;</span><font face=\"liberation serif\" size=\"4\">Дополнительные визуализации групп грузов уровня 1 по точке отправления и получения </font></a></span></li><li><span><a href=\"#Вывод-по-результатам-визуализации-по-различным-категориям\" data-toc-modified-id=\"Вывод-по-результатам-визуализации-по-различным-категориям-5.9\"><span class=\"toc-item-num\">5.9&nbsp;&nbsp;</span>Вывод по результатам визуализации по различным категориям</a></span></li></ul></li><li><span><a href=\"#Общий-вывод-по-исследованию\" data-toc-modified-id=\"Общий-вывод-по-исследованию-6\"><span class=\"toc-item-num\">6&nbsp;&nbsp;</span><font face=\"liberation serif\" size=\"5\">Общий вывод по исследованию</font></a></span></li><li><span><a href=\"#Дополнительный-материалы-по-модулю-my_func\" data-toc-modified-id=\"Дополнительный-материалы-по-модулю-my_func-7\"><span class=\"toc-item-num\">7&nbsp;&nbsp;</span><font face=\"liberation serif\" size=\"5\">Дополнительный материалы по модулю my_func</font></a></span></li></ul></div>"
   ]
  },
  {
   "cell_type": "markdown",
   "id": "5ae26a53",
   "metadata": {},
   "source": [
    "# <font face='liberation serif' size=5>Описание проекта</font>\n",
    "\n",
    "<font face='liberation serif' size=4>*Проект от 123Finance - \"Объемные показатели по ЖД\". Для исследования используются данные предоставленые заказчиком.*</font>"
   ]
  },
  {
   "cell_type": "markdown",
   "id": "438ba61b",
   "metadata": {},
   "source": [
    "## <font face='liberation serif' size=4>Описание данных.</font>\n",
    "\n",
    "<font face='liberation serif' size=4>Данные включают в себя информацию о датах, годах, месяцах, кодах групп груза, дорогах отправления и назначения, виде перевозки и самом объеме.\n",
    "    Структура файла 'df_test':\n",
    "    \n",
    "    - 'Дата',\n",
    "    - 'Год',\n",
    "    - 'Месяц',\n",
    "    - 'Код_группа_груза_ур_2',\n",
    "    - 'Код_группа_груза_ур_1',\n",
    "    - 'Дорога_отправления',\n",
    "    - 'Дорога_назначения',\n",
    "    - 'Вид_перевозки',\n",
    "    - 'Объём'\n",
    "</font>"
   ]
  },
  {
   "cell_type": "markdown",
   "id": "0ed029d4",
   "metadata": {},
   "source": [
    "## <font face='liberation serif' size=4>Цели.</font>\n",
    "\n",
    "<font face='liberation serif' size=4>\n",
    "Обзор данных: Изучение основных характеристик датасета, таких как размер, типы данных и статистические показатели.\n",
    "Предобработка данных: Очистка данных от пропусков и аномалий, а также преобразование типов данных при необходимости.\n",
    "Базовый анализ: Исследование распределений, зависимостей между переменными и других статистических характеристик.\n",
    "Визуализация данных: Построение графиков и диаграмм для наглядного представления информации.\n",
    "Выводы: Суммирование основных находок и интерпретация результатов.</font>"
   ]
  },
  {
   "cell_type": "markdown",
   "id": "85c6be34",
   "metadata": {},
   "source": [
    "## <font face='liberation serif' size=4>Декомпозиция задачи.</font>\n",
    "\n",
    "<font face='liberation serif' size=4>\n",
    "Этап 1: Обзор данных:\n",
    "    \n",
    "    - Загрузка данных.\n",
    "    - Первичный осмотр структуры данных.\n",
    "\n",
    "Этап 2: Предобработка данных:\n",
    "\n",
    "    - Обработка/исследование пропущенных значений.\n",
    "    - Преобразование типов данных.\n",
    "    - обогащение данных информацией из файла sp_gr_test.xlsx\n",
    "    \n",
    "Этап 3: Базовый анализ данных (согласно ТЗ):\n",
    "    \n",
    "    - за какой период имеются данные;\n",
    "    - сколько и какие именно железные дороги приведены в таблице;\n",
    "    - сколько и какие именно есть группы груза в таблице;\n",
    "    - максимальный и минимальный объем\n",
    "\n",
    "Этап 4: Визуализация данных:\n",
    "    \n",
    "    - Построение гистограмм. \n",
    "    - Построение графиков.\n",
    "\n",
    "\n",
    "Этап 6: Выводы:\n",
    "    \n",
    "    - Суммирование основных находок.\n",
    "    \n",
    "    \n",
    "    \n",
    "Все этапы будут выполнены в среде Jupyter Notebook с использованием языка программирования Python. SQL запросы будут выполнены средствами Python.\n",
    "\n",
    "</font>"
   ]
  },
  {
   "cell_type": "markdown",
   "id": "d9ff74e6",
   "metadata": {},
   "source": [
    "# <font face='liberation serif' size=5>Общая подготовка\n",
    "<font face='liberation serif' size=4>Установка библиотек</font>"
   ]
  },
  {
   "cell_type": "code",
   "execution_count": 1,
   "id": "a8a84872",
   "metadata": {},
   "outputs": [],
   "source": [
    "#!pip install tabulate\n",
    "#plt.close('all')\n",
    "#!pip install pandas_profiling\n",
    "#!pip install gdown"
   ]
  },
  {
   "cell_type": "markdown",
   "id": "f456d6b9",
   "metadata": {},
   "source": [
    "<font face='liberation serif' size=4>Обновление библиотек</font>"
   ]
  },
  {
   "cell_type": "code",
   "execution_count": 2,
   "id": "f7169e91",
   "metadata": {},
   "outputs": [],
   "source": [
    "#!pip install -qU pandas seaborn\n",
    "#!pip install -qU pandas\n",
    "#!pip install -qU seaborn"
   ]
  },
  {
   "cell_type": "markdown",
   "id": "7ad41ed4",
   "metadata": {},
   "source": [
    "<font face='liberation serif' size=4>Загрузка библиотек</font>"
   ]
  },
  {
   "cell_type": "code",
   "execution_count": 3,
   "id": "a23bbc76",
   "metadata": {},
   "outputs": [],
   "source": [
    "import pandas as pd\n",
    "import numpy as np\n",
    "import re\n",
    "### модуль используется мной локально, для его использования ниже будет ссылка на модуль и описание процесса установки\n",
    "### прим. в проекте использовал свои стандартные функции предъобработки и исследования, модуль ускоряет процесс работы\n",
    "import my_func as mf \n",
    "from datetime import datetime, timedelta\n",
    "import matplotlib.pyplot as plt\n",
    "from matplotlib.dates import DateFormatter\n",
    "from matplotlib import colors\n",
    "import warnings\n",
    "warnings.filterwarnings(\"ignore\")\n",
    "import seaborn as sns\n",
    "from tabulate import tabulate\n",
    "import gdown\n",
    "import sqlite3\n",
    "import gc ### файл большой, может потребоваться свалка"
   ]
  },
  {
   "cell_type": "markdown",
   "id": "29149dbd",
   "metadata": {},
   "source": [
    "# <font face='liberation serif' size=5>Mодуль my_func</font>\n",
    "    \n",
    "Сам модуль и инструкцию по установке фукнции можно найти по [ссылке](https://github.com/OophionN/PySQLPlayground-pet-projects-/tree/main/my_func)\n",
    "\n",
    "или использовать сами функции непосредственно в блокноте\n",
    "\n",
    "\n",
    "[Переход](#Перейти_к_функциям)\n"
   ]
  },
  {
   "cell_type": "markdown",
   "id": "20efa656",
   "metadata": {},
   "source": [
    "<font face='liberation serif' size=4>Загрузка датасета</font>"
   ]
  },
  {
   "cell_type": "code",
   "execution_count": 4,
   "id": "ac5de1b3",
   "metadata": {},
   "outputs": [],
   "source": [
    "try:\n",
    "    df = pd.read_pickle(\"C:\\\\Users\\\\PC_Maks\\\\Desktop\\\\123finance\\\\df_test.uu\")\n",
    "    \n",
    "except:\n",
    "    url = 'https://drive.google.com/uc?id=1TUAeOnxdSr4E07xfg_AjbujnfufC5Tdx'\n",
    "    file_path = 'df_test_downlowd_gd.csv'\n",
    "    gdown.download(url, file_path)\n",
    "    df = pd.read_pickle(file_path)"
   ]
  },
  {
   "cell_type": "code",
   "execution_count": 5,
   "id": "424d826f",
   "metadata": {
    "scrolled": false
   },
   "outputs": [
    {
     "data": {
      "text/html": [
       "<div>\n",
       "<style scoped>\n",
       "    .dataframe tbody tr th:only-of-type {\n",
       "        vertical-align: middle;\n",
       "    }\n",
       "\n",
       "    .dataframe tbody tr th {\n",
       "        vertical-align: top;\n",
       "    }\n",
       "\n",
       "    .dataframe thead th {\n",
       "        text-align: right;\n",
       "    }\n",
       "</style>\n",
       "<table border=\"1\" class=\"dataframe\">\n",
       "  <thead>\n",
       "    <tr style=\"text-align: right;\">\n",
       "      <th></th>\n",
       "      <th>date</th>\n",
       "      <th>yeAr</th>\n",
       "      <th>MOnth</th>\n",
       "      <th>Код_группа_груза_ур_2</th>\n",
       "      <th>Код_группа_груза_ур_1</th>\n",
       "      <th>Дорога_отправления</th>\n",
       "      <th>Дорога_назначения</th>\n",
       "      <th>Вид_перевозки</th>\n",
       "      <th>V</th>\n",
       "    </tr>\n",
       "  </thead>\n",
       "  <tbody>\n",
       "    <tr>\n",
       "      <th>968857</th>\n",
       "      <td>2019/1</td>\n",
       "      <td>2019.0</td>\n",
       "      <td>1.0</td>\n",
       "      <td>11</td>\n",
       "      <td>10</td>\n",
       "      <td>ДВС</td>\n",
       "      <td>ЮУР</td>\n",
       "      <td>Транзит</td>\n",
       "      <td>67</td>\n",
       "    </tr>\n",
       "    <tr>\n",
       "      <th>1159200</th>\n",
       "      <td>2021/1</td>\n",
       "      <td>2021.0</td>\n",
       "      <td>1.0</td>\n",
       "      <td>30</td>\n",
       "      <td>10</td>\n",
       "      <td>СКВ</td>\n",
       "      <td>ПРВ</td>\n",
       "      <td>Экспорт</td>\n",
       "      <td>17456</td>\n",
       "    </tr>\n",
       "    <tr>\n",
       "      <th>326077</th>\n",
       "      <td>2012/4</td>\n",
       "      <td>2012.0</td>\n",
       "      <td>4.0</td>\n",
       "      <td>24</td>\n",
       "      <td>6</td>\n",
       "      <td>ЗСБ</td>\n",
       "      <td>КРС</td>\n",
       "      <td>Внутр. перевозки</td>\n",
       "      <td>90</td>\n",
       "    </tr>\n",
       "    <tr>\n",
       "      <th>50018</th>\n",
       "      <td>2009/9</td>\n",
       "      <td>2009.0</td>\n",
       "      <td>9.0</td>\n",
       "      <td>36</td>\n",
       "      <td>10</td>\n",
       "      <td>ОКТ</td>\n",
       "      <td>МСК</td>\n",
       "      <td>Внутр. перевозки</td>\n",
       "      <td>1051</td>\n",
       "    </tr>\n",
       "    <tr>\n",
       "      <th>1036931</th>\n",
       "      <td>2019/9</td>\n",
       "      <td>2019.0</td>\n",
       "      <td>9.0</td>\n",
       "      <td>40</td>\n",
       "      <td>11</td>\n",
       "      <td>МСК</td>\n",
       "      <td>ЮВС</td>\n",
       "      <td>Внутр. перевозки</td>\n",
       "      <td>0</td>\n",
       "    </tr>\n",
       "    <tr>\n",
       "      <th>611619</th>\n",
       "      <td>2015/3</td>\n",
       "      <td>2015.0</td>\n",
       "      <td>3.0</td>\n",
       "      <td>20</td>\n",
       "      <td>7</td>\n",
       "      <td>МСК</td>\n",
       "      <td>СЕВ</td>\n",
       "      <td>Импорт</td>\n",
       "      <td>345</td>\n",
       "    </tr>\n",
       "    <tr>\n",
       "      <th>406919</th>\n",
       "      <td>2013/2</td>\n",
       "      <td>2013.0</td>\n",
       "      <td>2.0</td>\n",
       "      <td>6</td>\n",
       "      <td>10</td>\n",
       "      <td>СКВ</td>\n",
       "      <td>ГОР</td>\n",
       "      <td>Внутр. перевозки</td>\n",
       "      <td>58</td>\n",
       "    </tr>\n",
       "    <tr>\n",
       "      <th>807740</th>\n",
       "      <td>2017/4</td>\n",
       "      <td>2017.0</td>\n",
       "      <td>4.0</td>\n",
       "      <td>34</td>\n",
       "      <td>9</td>\n",
       "      <td>МСК</td>\n",
       "      <td>ПРВ</td>\n",
       "      <td>Внутр. перевозки</td>\n",
       "      <td>235</td>\n",
       "    </tr>\n",
       "    <tr>\n",
       "      <th>1141946</th>\n",
       "      <td>2020/11</td>\n",
       "      <td>2020.0</td>\n",
       "      <td>11.0</td>\n",
       "      <td>19</td>\n",
       "      <td>7</td>\n",
       "      <td>МСК</td>\n",
       "      <td>СЕВ</td>\n",
       "      <td>Внутр. перевозки</td>\n",
       "      <td>8721</td>\n",
       "    </tr>\n",
       "    <tr>\n",
       "      <th>688686</th>\n",
       "      <td>2016/1</td>\n",
       "      <td>2016.0</td>\n",
       "      <td>1.0</td>\n",
       "      <td>16</td>\n",
       "      <td>10</td>\n",
       "      <td>ОКТ</td>\n",
       "      <td>МСК</td>\n",
       "      <td>Импорт</td>\n",
       "      <td>11</td>\n",
       "    </tr>\n",
       "  </tbody>\n",
       "</table>\n",
       "</div>"
      ],
      "text/plain": [
       "            date    yeAr  MOnth  Код_группа_груза_ур_2  Код_группа_груза_ур_1  \\\n",
       "968857    2019/1  2019.0    1.0                     11                     10   \n",
       "1159200   2021/1  2021.0    1.0                     30                     10   \n",
       "326077    2012/4  2012.0    4.0                     24                      6   \n",
       "50018     2009/9  2009.0    9.0                     36                     10   \n",
       "1036931   2019/9  2019.0    9.0                     40                     11   \n",
       "611619    2015/3  2015.0    3.0                     20                      7   \n",
       "406919    2013/2  2013.0    2.0                      6                     10   \n",
       "807740    2017/4  2017.0    4.0                     34                      9   \n",
       "1141946  2020/11  2020.0   11.0                     19                      7   \n",
       "688686    2016/1  2016.0    1.0                     16                     10   \n",
       "\n",
       "        Дорога_отправления Дорога_назначения     Вид_перевозки      V  \n",
       "968857                 ДВС               ЮУР           Транзит     67  \n",
       "1159200                СКВ               ПРВ           Экспорт  17456  \n",
       "326077                 ЗСБ               КРС  Внутр. перевозки     90  \n",
       "50018                  ОКТ               МСК  Внутр. перевозки   1051  \n",
       "1036931                МСК               ЮВС  Внутр. перевозки      0  \n",
       "611619                 МСК               СЕВ            Импорт    345  \n",
       "406919                 СКВ               ГОР  Внутр. перевозки     58  \n",
       "807740                 МСК               ПРВ  Внутр. перевозки    235  \n",
       "1141946                МСК               СЕВ  Внутр. перевозки   8721  \n",
       "688686                 ОКТ               МСК            Импорт     11  "
      ]
     },
     "execution_count": 5,
     "metadata": {},
     "output_type": "execute_result"
    }
   ],
   "source": [
    "df.sample (10)"
   ]
  },
  {
   "cell_type": "code",
   "execution_count": 6,
   "id": "87933f73",
   "metadata": {},
   "outputs": [
    {
     "data": {
      "text/html": [
       "<div>\n",
       "<style scoped>\n",
       "    .dataframe tbody tr th:only-of-type {\n",
       "        vertical-align: middle;\n",
       "    }\n",
       "\n",
       "    .dataframe tbody tr th {\n",
       "        vertical-align: top;\n",
       "    }\n",
       "\n",
       "    .dataframe thead th {\n",
       "        text-align: right;\n",
       "    }\n",
       "</style>\n",
       "<table border=\"1\" class=\"dataframe\">\n",
       "  <thead>\n",
       "    <tr style=\"text-align: right;\">\n",
       "      <th></th>\n",
       "      <th>date</th>\n",
       "      <th>yeAr</th>\n",
       "      <th>MOnth</th>\n",
       "      <th>Код_группа_груза_ур_2</th>\n",
       "      <th>Код_группа_груза_ур_1</th>\n",
       "      <th>Дорога_отправления</th>\n",
       "      <th>Дорога_назначения</th>\n",
       "      <th>Вид_перевозки</th>\n",
       "      <th>V</th>\n",
       "    </tr>\n",
       "  </thead>\n",
       "  <tbody>\n",
       "    <tr>\n",
       "      <th>0</th>\n",
       "      <td>2009/4</td>\n",
       "      <td>2009.0</td>\n",
       "      <td>4.0</td>\n",
       "      <td>15</td>\n",
       "      <td>10</td>\n",
       "      <td>ВСБ</td>\n",
       "      <td>МСК</td>\n",
       "      <td>Внутр. перевозки</td>\n",
       "      <td>48</td>\n",
       "    </tr>\n",
       "    <tr>\n",
       "      <th>1</th>\n",
       "      <td>2009/4</td>\n",
       "      <td>2009.0</td>\n",
       "      <td>4.0</td>\n",
       "      <td>15</td>\n",
       "      <td>10</td>\n",
       "      <td>ВСБ</td>\n",
       "      <td>МСК</td>\n",
       "      <td>Экспорт</td>\n",
       "      <td>1</td>\n",
       "    </tr>\n",
       "    <tr>\n",
       "      <th>2</th>\n",
       "      <td>2009/4</td>\n",
       "      <td>2009.0</td>\n",
       "      <td>4.0</td>\n",
       "      <td>15</td>\n",
       "      <td>10</td>\n",
       "      <td>ВСБ</td>\n",
       "      <td>ОКТ</td>\n",
       "      <td>Внутр. перевозки</td>\n",
       "      <td>5</td>\n",
       "    </tr>\n",
       "    <tr>\n",
       "      <th>3</th>\n",
       "      <td>2009/4</td>\n",
       "      <td>2009.0</td>\n",
       "      <td>4.0</td>\n",
       "      <td>15</td>\n",
       "      <td>10</td>\n",
       "      <td>ВСБ</td>\n",
       "      <td>ПРВ</td>\n",
       "      <td>Внутр. перевозки</td>\n",
       "      <td>35</td>\n",
       "    </tr>\n",
       "    <tr>\n",
       "      <th>4</th>\n",
       "      <td>2009/4</td>\n",
       "      <td>2009.0</td>\n",
       "      <td>4.0</td>\n",
       "      <td>15</td>\n",
       "      <td>10</td>\n",
       "      <td>ВСБ</td>\n",
       "      <td>СВР</td>\n",
       "      <td>Внутр. перевозки</td>\n",
       "      <td>100</td>\n",
       "    </tr>\n",
       "    <tr>\n",
       "      <th>5</th>\n",
       "      <td>2009/4</td>\n",
       "      <td>2009.0</td>\n",
       "      <td>4.0</td>\n",
       "      <td>15</td>\n",
       "      <td>10</td>\n",
       "      <td>ВСБ</td>\n",
       "      <td>СЕВ</td>\n",
       "      <td>Внутр. перевозки</td>\n",
       "      <td>20</td>\n",
       "    </tr>\n",
       "    <tr>\n",
       "      <th>6</th>\n",
       "      <td>2009/4</td>\n",
       "      <td>2009.0</td>\n",
       "      <td>4.0</td>\n",
       "      <td>15</td>\n",
       "      <td>10</td>\n",
       "      <td>ВСБ</td>\n",
       "      <td>ЮВС</td>\n",
       "      <td>Внутр. перевозки</td>\n",
       "      <td>11</td>\n",
       "    </tr>\n",
       "    <tr>\n",
       "      <th>7</th>\n",
       "      <td>2009/4</td>\n",
       "      <td>2009.0</td>\n",
       "      <td>4.0</td>\n",
       "      <td>15</td>\n",
       "      <td>10</td>\n",
       "      <td>ВСБ</td>\n",
       "      <td>ЮУР</td>\n",
       "      <td>Внутр. перевозки</td>\n",
       "      <td>7</td>\n",
       "    </tr>\n",
       "    <tr>\n",
       "      <th>8</th>\n",
       "      <td>2009/4</td>\n",
       "      <td>2009.0</td>\n",
       "      <td>4.0</td>\n",
       "      <td>15</td>\n",
       "      <td>10</td>\n",
       "      <td>ГОР</td>\n",
       "      <td>ВСБ</td>\n",
       "      <td>Внутр. перевозки</td>\n",
       "      <td>309</td>\n",
       "    </tr>\n",
       "    <tr>\n",
       "      <th>9</th>\n",
       "      <td>2009/4</td>\n",
       "      <td>2009.0</td>\n",
       "      <td>4.0</td>\n",
       "      <td>15</td>\n",
       "      <td>10</td>\n",
       "      <td>ГОР</td>\n",
       "      <td>ГОР</td>\n",
       "      <td>Внутр. перевозки</td>\n",
       "      <td>208</td>\n",
       "    </tr>\n",
       "  </tbody>\n",
       "</table>\n",
       "</div>"
      ],
      "text/plain": [
       "     date    yeAr  MOnth  Код_группа_груза_ур_2  Код_группа_груза_ур_1  \\\n",
       "0  2009/4  2009.0    4.0                     15                     10   \n",
       "1  2009/4  2009.0    4.0                     15                     10   \n",
       "2  2009/4  2009.0    4.0                     15                     10   \n",
       "3  2009/4  2009.0    4.0                     15                     10   \n",
       "4  2009/4  2009.0    4.0                     15                     10   \n",
       "5  2009/4  2009.0    4.0                     15                     10   \n",
       "6  2009/4  2009.0    4.0                     15                     10   \n",
       "7  2009/4  2009.0    4.0                     15                     10   \n",
       "8  2009/4  2009.0    4.0                     15                     10   \n",
       "9  2009/4  2009.0    4.0                     15                     10   \n",
       "\n",
       "  Дорога_отправления Дорога_назначения     Вид_перевозки    V  \n",
       "0                ВСБ               МСК  Внутр. перевозки   48  \n",
       "1                ВСБ               МСК           Экспорт    1  \n",
       "2                ВСБ               ОКТ  Внутр. перевозки    5  \n",
       "3                ВСБ               ПРВ  Внутр. перевозки   35  \n",
       "4                ВСБ               СВР  Внутр. перевозки  100  \n",
       "5                ВСБ               СЕВ  Внутр. перевозки   20  \n",
       "6                ВСБ               ЮВС  Внутр. перевозки   11  \n",
       "7                ВСБ               ЮУР  Внутр. перевозки    7  \n",
       "8                ГОР               ВСБ  Внутр. перевозки  309  \n",
       "9                ГОР               ГОР  Внутр. перевозки  208  "
      ]
     },
     "metadata": {},
     "output_type": "display_data"
    },
    {
     "data": {
      "text/html": [
       "<div>\n",
       "<style scoped>\n",
       "    .dataframe tbody tr th:only-of-type {\n",
       "        vertical-align: middle;\n",
       "    }\n",
       "\n",
       "    .dataframe tbody tr th {\n",
       "        vertical-align: top;\n",
       "    }\n",
       "\n",
       "    .dataframe thead th {\n",
       "        text-align: right;\n",
       "    }\n",
       "</style>\n",
       "<table border=\"1\" class=\"dataframe\">\n",
       "  <thead>\n",
       "    <tr style=\"text-align: right;\">\n",
       "      <th></th>\n",
       "      <th>date</th>\n",
       "      <th>yeAr</th>\n",
       "      <th>MOnth</th>\n",
       "      <th>Код_группа_груза_ур_2</th>\n",
       "      <th>Код_группа_груза_ур_1</th>\n",
       "      <th>Дорога_отправления</th>\n",
       "      <th>Дорога_назначения</th>\n",
       "      <th>Вид_перевозки</th>\n",
       "      <th>V</th>\n",
       "    </tr>\n",
       "  </thead>\n",
       "  <tbody>\n",
       "    <tr>\n",
       "      <th>90</th>\n",
       "      <td>2009/4</td>\n",
       "      <td>2009.0</td>\n",
       "      <td>4.0</td>\n",
       "      <td>15</td>\n",
       "      <td>10</td>\n",
       "      <td>ЗСБ</td>\n",
       "      <td>СКВ</td>\n",
       "      <td>Внутр. перевозки</td>\n",
       "      <td>17</td>\n",
       "    </tr>\n",
       "    <tr>\n",
       "      <th>91</th>\n",
       "      <td>2009/4</td>\n",
       "      <td>2009.0</td>\n",
       "      <td>4.0</td>\n",
       "      <td>15</td>\n",
       "      <td>10</td>\n",
       "      <td>КБШ</td>\n",
       "      <td>ВСБ</td>\n",
       "      <td>Внутр. перевозки</td>\n",
       "      <td>1221</td>\n",
       "    </tr>\n",
       "    <tr>\n",
       "      <th>92</th>\n",
       "      <td>2009/4</td>\n",
       "      <td>2009.0</td>\n",
       "      <td>4.0</td>\n",
       "      <td>15</td>\n",
       "      <td>10</td>\n",
       "      <td>КБШ</td>\n",
       "      <td>ВСБ</td>\n",
       "      <td>Экспорт</td>\n",
       "      <td>86</td>\n",
       "    </tr>\n",
       "    <tr>\n",
       "      <th>93</th>\n",
       "      <td>2009/4</td>\n",
       "      <td>2009.0</td>\n",
       "      <td>4.0</td>\n",
       "      <td>15</td>\n",
       "      <td>10</td>\n",
       "      <td>КБШ</td>\n",
       "      <td>ГОР</td>\n",
       "      <td>Внутр. перевозки</td>\n",
       "      <td>1162</td>\n",
       "    </tr>\n",
       "    <tr>\n",
       "      <th>94</th>\n",
       "      <td>2009/4</td>\n",
       "      <td>2009.0</td>\n",
       "      <td>4.0</td>\n",
       "      <td>15</td>\n",
       "      <td>10</td>\n",
       "      <td>КБШ</td>\n",
       "      <td>ДВС</td>\n",
       "      <td>Внутр. перевозки</td>\n",
       "      <td>2377</td>\n",
       "    </tr>\n",
       "    <tr>\n",
       "      <th>95</th>\n",
       "      <td>2009/4</td>\n",
       "      <td>2009.0</td>\n",
       "      <td>4.0</td>\n",
       "      <td>15</td>\n",
       "      <td>10</td>\n",
       "      <td>КБШ</td>\n",
       "      <td>ЗАБ</td>\n",
       "      <td>Внутр. перевозки</td>\n",
       "      <td>1229</td>\n",
       "    </tr>\n",
       "    <tr>\n",
       "      <th>96</th>\n",
       "      <td>2009/4</td>\n",
       "      <td>2009.0</td>\n",
       "      <td>4.0</td>\n",
       "      <td>15</td>\n",
       "      <td>10</td>\n",
       "      <td>КБШ</td>\n",
       "      <td>ЗСБ</td>\n",
       "      <td>Внутр. перевозки</td>\n",
       "      <td>1149</td>\n",
       "    </tr>\n",
       "    <tr>\n",
       "      <th>97</th>\n",
       "      <td>2009/4</td>\n",
       "      <td>2009.0</td>\n",
       "      <td>4.0</td>\n",
       "      <td>15</td>\n",
       "      <td>10</td>\n",
       "      <td>КБШ</td>\n",
       "      <td>КБШ</td>\n",
       "      <td>Внутр. перевозки</td>\n",
       "      <td>886</td>\n",
       "    </tr>\n",
       "    <tr>\n",
       "      <th>98</th>\n",
       "      <td>2009/4</td>\n",
       "      <td>2009.0</td>\n",
       "      <td>4.0</td>\n",
       "      <td>15</td>\n",
       "      <td>10</td>\n",
       "      <td>КБШ</td>\n",
       "      <td>КРС</td>\n",
       "      <td>Внутр. перевозки</td>\n",
       "      <td>928</td>\n",
       "    </tr>\n",
       "    <tr>\n",
       "      <th>99</th>\n",
       "      <td>2009/4</td>\n",
       "      <td>2009.0</td>\n",
       "      <td>4.0</td>\n",
       "      <td>15</td>\n",
       "      <td>10</td>\n",
       "      <td>КБШ</td>\n",
       "      <td>МСК</td>\n",
       "      <td>Внутр. перевозки</td>\n",
       "      <td>1311</td>\n",
       "    </tr>\n",
       "  </tbody>\n",
       "</table>\n",
       "</div>"
      ],
      "text/plain": [
       "      date    yeAr  MOnth  Код_группа_груза_ур_2  Код_группа_груза_ур_1  \\\n",
       "90  2009/4  2009.0    4.0                     15                     10   \n",
       "91  2009/4  2009.0    4.0                     15                     10   \n",
       "92  2009/4  2009.0    4.0                     15                     10   \n",
       "93  2009/4  2009.0    4.0                     15                     10   \n",
       "94  2009/4  2009.0    4.0                     15                     10   \n",
       "95  2009/4  2009.0    4.0                     15                     10   \n",
       "96  2009/4  2009.0    4.0                     15                     10   \n",
       "97  2009/4  2009.0    4.0                     15                     10   \n",
       "98  2009/4  2009.0    4.0                     15                     10   \n",
       "99  2009/4  2009.0    4.0                     15                     10   \n",
       "\n",
       "   Дорога_отправления Дорога_назначения     Вид_перевозки     V  \n",
       "90                ЗСБ               СКВ  Внутр. перевозки    17  \n",
       "91                КБШ               ВСБ  Внутр. перевозки  1221  \n",
       "92                КБШ               ВСБ           Экспорт    86  \n",
       "93                КБШ               ГОР  Внутр. перевозки  1162  \n",
       "94                КБШ               ДВС  Внутр. перевозки  2377  \n",
       "95                КБШ               ЗАБ  Внутр. перевозки  1229  \n",
       "96                КБШ               ЗСБ  Внутр. перевозки  1149  \n",
       "97                КБШ               КБШ  Внутр. перевозки   886  \n",
       "98                КБШ               КРС  Внутр. перевозки   928  \n",
       "99                КБШ               МСК  Внутр. перевозки  1311  "
      ]
     },
     "metadata": {},
     "output_type": "display_data"
    }
   ],
   "source": [
    "##вывод первых и последних 10 строк датасета \n",
    "\n",
    "display (df.head (10))\n",
    "display (df.tail (10))"
   ]
  },
  {
   "cell_type": "code",
   "execution_count": 7,
   "id": "a73553f9",
   "metadata": {},
   "outputs": [
    {
     "name": "stdout",
     "output_type": "stream",
     "text": [
      "<class 'pandas.core.frame.DataFrame'>\n",
      "Index: 1392360 entries, 0 to 99\n",
      "Data columns (total 9 columns):\n",
      " #   Column                 Non-Null Count    Dtype  \n",
      "---  ------                 --------------    -----  \n",
      " 0   date                   1392360 non-null  object \n",
      " 1   yeAr                   1392325 non-null  float64\n",
      " 2   MOnth                  1392321 non-null  float64\n",
      " 3   Код_группа_груза_ур_2  1392360 non-null  int64  \n",
      " 4   Код_группа_груза_ур_1  1392360 non-null  int64  \n",
      " 5   Дорога_отправления     1392360 non-null  object \n",
      " 6   Дорога_назначения      1392360 non-null  object \n",
      " 7   Вид_перевозки          1392360 non-null  object \n",
      " 8   V                      1392360 non-null  int64  \n",
      "dtypes: float64(2), int64(3), object(4)\n",
      "memory usage: 106.2+ MB\n"
     ]
    }
   ],
   "source": [
    "df.info()"
   ]
  },
  {
   "cell_type": "code",
   "execution_count": 8,
   "id": "e3521050",
   "metadata": {
    "scrolled": true
   },
   "outputs": [
    {
     "name": "stdout",
     "output_type": "stream",
     "text": [
      "Help on module my_func:\n",
      "\n",
      "NAME\n",
      "    my_func - Модуль my_func содержит функции для предварительной обработки данных и проверки их на дубликаты и пропуски.\n",
      "\n",
      "DESCRIPTION\n",
      "    Функции:\n",
      "    - data_preprocessing: Производит предварительную обработку данных, модифицируя заголовки столбцов и строковые значения.\n",
      "    - check: Проверяет DataFrame на наличие дубликатов и пропусков и выводит соответствующую информацию.\n",
      "        При обнаружении дубликатов имеется возможность их удалить.\n",
      "    - check_unique:Выводит уникальные значения и их количество для строковых столбцов, \n",
      "        диапазон значений для числовых и даты/времени столбцов, а также уникальные значения \n",
      "        для числовых столбцов, где уникальных значений не более 10. \n",
      "    - transliterate производит транслитерации символов на латиницу\n",
      "\n",
      "FUNCTIONS\n",
      "    check(data, drop_dupl=True)\n",
      "        Проверяет DataFrame на наличие дубликатов и пропусков и выводит соответствующую информацию.\n",
      "        При обнаружении дубликатов имеется возможность их удалить.\n",
      "        \n",
      "        Параметры:\n",
      "        - data (DataFrame): DataFrame, который необходимо проверить.\n",
      "        - drop_dupl (bool, по умолчанию True): Если True, дубликаты будут удалены из DataFrame.\n",
      "        \n",
      "        Возвращает:\n",
      "        - None: Функция выводит информацию напрямую в консоль. \n",
      "                Если были обнаружены дубликаты и параметр drop_dupl установлен в True, то из исходного DataFrame дубликаты будут удалены.\n",
      "                Если дубликаты найдены, но drop_dupl установлен в False, то дубликаты не удаляются.\n",
      "    \n",
      "    check_unique(data)\n",
      "        Выводит уникальные значения и их количество для строковых столбцов, \n",
      "        диапазон значений для числовых и даты/времени столбцов, а также уникальные значения \n",
      "        для числовых столбцов, где уникальных значений не более 10.\n",
      "        \n",
      "        Параметры:\n",
      "        - data (DataFrame): DataFrame, значения которого необходимо проверить.\n",
      "        \n",
      "        Возвращает:\n",
      "        - None: Функция выводит информацию напрямую в ячейку выполнения кода.\n",
      "    \n",
      "    data_preprocessing(data)\n",
      "        Производит предварительную обработку данных, модифицируя заголовки столбцов и строковые значения.\n",
      "        \n",
      "        Параметры:\n",
      "        - data (DataFrame): исходный DataFrame, который требуется предобработать.\n",
      "        \n",
      "        Основные шаги функции:\n",
      "        1. Преобразует заголовки столбцов к нижнему регистру и заменяет пробелы на нижние подчеркивания.\n",
      "        2. Преобразует строковые значения всех столбцов к нижнему регистру.\n",
      "        \n",
      "        Возвращает:\n",
      "        - DataFrame: предобработанный DataFrame с модифицированными заголовками столбцов и строковыми значениями.\n",
      "        \n",
      "        Пример:\n",
      "        >>> data = pd.DataFrame({\"First Name\": [\"John\", \"JANE\"], \"Last Name\": [\"DOE\", \"SMITH\"]})\n",
      "        >>> data_preprocessing(data)\n",
      "           first_name last_name\n",
      "        0       john       doe\n",
      "        1       jane     smith\n",
      "    \n",
      "    transliterate(name)\n",
      "        Транслитерация заданной строки с кириллицы на латиницу согласно заранее установленному словарю.\n",
      "        \n",
      "        Параметры:\n",
      "        name (str): Строка для транслитерации.\n",
      "        \n",
      "        Возвращает:\n",
      "        str: Транслитерированная строка.\n",
      "        \n",
      "        Примечания:\n",
      "        - Функция использует заранее установленный словарь для транслитерации, который может не включать все возможные символы.\n",
      "        - Специальные и числовые символы удаляются в транслитерированной строке.\n",
      "\n",
      "FILE\n",
      "    c:\\users\\pc_maks\\all_repo\\my_func.py\n",
      "\n",
      "\n"
     ]
    }
   ],
   "source": [
    "help (mf)"
   ]
  },
  {
   "cell_type": "code",
   "execution_count": 9,
   "id": "c09a4aa0",
   "metadata": {},
   "outputs": [
    {
     "data": {
      "text/html": [
       "<div>\n",
       "<style scoped>\n",
       "    .dataframe tbody tr th:only-of-type {\n",
       "        vertical-align: middle;\n",
       "    }\n",
       "\n",
       "    .dataframe tbody tr th {\n",
       "        vertical-align: top;\n",
       "    }\n",
       "\n",
       "    .dataframe thead th {\n",
       "        text-align: right;\n",
       "    }\n",
       "</style>\n",
       "<table border=\"1\" class=\"dataframe\">\n",
       "  <thead>\n",
       "    <tr style=\"text-align: right;\">\n",
       "      <th></th>\n",
       "      <th>date</th>\n",
       "      <th>year</th>\n",
       "      <th>month</th>\n",
       "      <th>код_группа_груза_ур_2</th>\n",
       "      <th>код_группа_груза_ур_1</th>\n",
       "      <th>дорога_отправления</th>\n",
       "      <th>дорога_назначения</th>\n",
       "      <th>вид_перевозки</th>\n",
       "      <th>v</th>\n",
       "    </tr>\n",
       "  </thead>\n",
       "  <tbody>\n",
       "    <tr>\n",
       "      <th>0</th>\n",
       "      <td>2009/4</td>\n",
       "      <td>2009.0</td>\n",
       "      <td>4.0</td>\n",
       "      <td>15</td>\n",
       "      <td>10</td>\n",
       "      <td>всб</td>\n",
       "      <td>мск</td>\n",
       "      <td>внутр. перевозки</td>\n",
       "      <td>48</td>\n",
       "    </tr>\n",
       "    <tr>\n",
       "      <th>1</th>\n",
       "      <td>2009/4</td>\n",
       "      <td>2009.0</td>\n",
       "      <td>4.0</td>\n",
       "      <td>15</td>\n",
       "      <td>10</td>\n",
       "      <td>всб</td>\n",
       "      <td>мск</td>\n",
       "      <td>экспорт</td>\n",
       "      <td>1</td>\n",
       "    </tr>\n",
       "    <tr>\n",
       "      <th>2</th>\n",
       "      <td>2009/4</td>\n",
       "      <td>2009.0</td>\n",
       "      <td>4.0</td>\n",
       "      <td>15</td>\n",
       "      <td>10</td>\n",
       "      <td>всб</td>\n",
       "      <td>окт</td>\n",
       "      <td>внутр. перевозки</td>\n",
       "      <td>5</td>\n",
       "    </tr>\n",
       "    <tr>\n",
       "      <th>3</th>\n",
       "      <td>2009/4</td>\n",
       "      <td>2009.0</td>\n",
       "      <td>4.0</td>\n",
       "      <td>15</td>\n",
       "      <td>10</td>\n",
       "      <td>всб</td>\n",
       "      <td>прв</td>\n",
       "      <td>внутр. перевозки</td>\n",
       "      <td>35</td>\n",
       "    </tr>\n",
       "    <tr>\n",
       "      <th>4</th>\n",
       "      <td>2009/4</td>\n",
       "      <td>2009.0</td>\n",
       "      <td>4.0</td>\n",
       "      <td>15</td>\n",
       "      <td>10</td>\n",
       "      <td>всб</td>\n",
       "      <td>свр</td>\n",
       "      <td>внутр. перевозки</td>\n",
       "      <td>100</td>\n",
       "    </tr>\n",
       "    <tr>\n",
       "      <th>...</th>\n",
       "      <td>...</td>\n",
       "      <td>...</td>\n",
       "      <td>...</td>\n",
       "      <td>...</td>\n",
       "      <td>...</td>\n",
       "      <td>...</td>\n",
       "      <td>...</td>\n",
       "      <td>...</td>\n",
       "      <td>...</td>\n",
       "    </tr>\n",
       "    <tr>\n",
       "      <th>95</th>\n",
       "      <td>2009/4</td>\n",
       "      <td>2009.0</td>\n",
       "      <td>4.0</td>\n",
       "      <td>15</td>\n",
       "      <td>10</td>\n",
       "      <td>кбш</td>\n",
       "      <td>заб</td>\n",
       "      <td>внутр. перевозки</td>\n",
       "      <td>1229</td>\n",
       "    </tr>\n",
       "    <tr>\n",
       "      <th>96</th>\n",
       "      <td>2009/4</td>\n",
       "      <td>2009.0</td>\n",
       "      <td>4.0</td>\n",
       "      <td>15</td>\n",
       "      <td>10</td>\n",
       "      <td>кбш</td>\n",
       "      <td>зсб</td>\n",
       "      <td>внутр. перевозки</td>\n",
       "      <td>1149</td>\n",
       "    </tr>\n",
       "    <tr>\n",
       "      <th>97</th>\n",
       "      <td>2009/4</td>\n",
       "      <td>2009.0</td>\n",
       "      <td>4.0</td>\n",
       "      <td>15</td>\n",
       "      <td>10</td>\n",
       "      <td>кбш</td>\n",
       "      <td>кбш</td>\n",
       "      <td>внутр. перевозки</td>\n",
       "      <td>886</td>\n",
       "    </tr>\n",
       "    <tr>\n",
       "      <th>98</th>\n",
       "      <td>2009/4</td>\n",
       "      <td>2009.0</td>\n",
       "      <td>4.0</td>\n",
       "      <td>15</td>\n",
       "      <td>10</td>\n",
       "      <td>кбш</td>\n",
       "      <td>крс</td>\n",
       "      <td>внутр. перевозки</td>\n",
       "      <td>928</td>\n",
       "    </tr>\n",
       "    <tr>\n",
       "      <th>99</th>\n",
       "      <td>2009/4</td>\n",
       "      <td>2009.0</td>\n",
       "      <td>4.0</td>\n",
       "      <td>15</td>\n",
       "      <td>10</td>\n",
       "      <td>кбш</td>\n",
       "      <td>мск</td>\n",
       "      <td>внутр. перевозки</td>\n",
       "      <td>1311</td>\n",
       "    </tr>\n",
       "  </tbody>\n",
       "</table>\n",
       "<p>1392360 rows × 9 columns</p>\n",
       "</div>"
      ],
      "text/plain": [
       "      date    year  month  код_группа_груза_ур_2  код_группа_груза_ур_1  \\\n",
       "0   2009/4  2009.0    4.0                     15                     10   \n",
       "1   2009/4  2009.0    4.0                     15                     10   \n",
       "2   2009/4  2009.0    4.0                     15                     10   \n",
       "3   2009/4  2009.0    4.0                     15                     10   \n",
       "4   2009/4  2009.0    4.0                     15                     10   \n",
       "..     ...     ...    ...                    ...                    ...   \n",
       "95  2009/4  2009.0    4.0                     15                     10   \n",
       "96  2009/4  2009.0    4.0                     15                     10   \n",
       "97  2009/4  2009.0    4.0                     15                     10   \n",
       "98  2009/4  2009.0    4.0                     15                     10   \n",
       "99  2009/4  2009.0    4.0                     15                     10   \n",
       "\n",
       "   дорога_отправления дорога_назначения     вид_перевозки     v  \n",
       "0                 всб               мск  внутр. перевозки    48  \n",
       "1                 всб               мск           экспорт     1  \n",
       "2                 всб               окт  внутр. перевозки     5  \n",
       "3                 всб               прв  внутр. перевозки    35  \n",
       "4                 всб               свр  внутр. перевозки   100  \n",
       "..                ...               ...               ...   ...  \n",
       "95                кбш               заб  внутр. перевозки  1229  \n",
       "96                кбш               зсб  внутр. перевозки  1149  \n",
       "97                кбш               кбш  внутр. перевозки   886  \n",
       "98                кбш               крс  внутр. перевозки   928  \n",
       "99                кбш               мск  внутр. перевозки  1311  \n",
       "\n",
       "[1392360 rows x 9 columns]"
      ]
     },
     "execution_count": 9,
     "metadata": {},
     "output_type": "execute_result"
    }
   ],
   "source": [
    "mf.data_preprocessing(df)"
   ]
  },
  {
   "cell_type": "code",
   "execution_count": 10,
   "id": "4ce28fc3",
   "metadata": {
    "scrolled": false
   },
   "outputs": [
    {
     "data": {
      "text/plain": [
       "'Проверка на дубликаты:'"
      ]
     },
     "metadata": {},
     "output_type": "display_data"
    },
    {
     "name": "stdout",
     "output_type": "stream",
     "text": [
      "<class 'pandas.core.frame.DataFrame'>\n",
      "Index: 100 entries, 0 to 99\n",
      "Data columns (total 9 columns):\n",
      " #   Column                 Non-Null Count  Dtype  \n",
      "---  ------                 --------------  -----  \n",
      " 0   date                   100 non-null    object \n",
      " 1   year                   100 non-null    float64\n",
      " 2   month                  100 non-null    float64\n",
      " 3   код_группа_груза_ур_2  100 non-null    int64  \n",
      " 4   код_группа_груза_ур_1  100 non-null    int64  \n",
      " 5   дорога_отправления     100 non-null    object \n",
      " 6   дорога_назначения      100 non-null    object \n",
      " 7   вид_перевозки          100 non-null    object \n",
      " 8   v                      100 non-null    int64  \n",
      "dtypes: float64(2), int64(3), object(4)\n",
      "memory usage: 7.8+ KB\n"
     ]
    },
    {
     "data": {
      "text/plain": [
       "None"
      ]
     },
     "metadata": {},
     "output_type": "display_data"
    },
    {
     "data": {
      "text/html": [
       "<div>\n",
       "<style scoped>\n",
       "    .dataframe tbody tr th:only-of-type {\n",
       "        vertical-align: middle;\n",
       "    }\n",
       "\n",
       "    .dataframe tbody tr th {\n",
       "        vertical-align: top;\n",
       "    }\n",
       "\n",
       "    .dataframe thead th {\n",
       "        text-align: right;\n",
       "    }\n",
       "</style>\n",
       "<table border=\"1\" class=\"dataframe\">\n",
       "  <thead>\n",
       "    <tr style=\"text-align: right;\">\n",
       "      <th></th>\n",
       "      <th>date</th>\n",
       "      <th>year</th>\n",
       "      <th>month</th>\n",
       "      <th>код_группа_груза_ур_2</th>\n",
       "      <th>код_группа_груза_ур_1</th>\n",
       "      <th>дорога_отправления</th>\n",
       "      <th>дорога_назначения</th>\n",
       "      <th>вид_перевозки</th>\n",
       "      <th>v</th>\n",
       "    </tr>\n",
       "  </thead>\n",
       "  <tbody>\n",
       "    <tr>\n",
       "      <th>35</th>\n",
       "      <td>2009/4</td>\n",
       "      <td>2009.0</td>\n",
       "      <td>4.0</td>\n",
       "      <td>15</td>\n",
       "      <td>10</td>\n",
       "      <td>ДВС</td>\n",
       "      <td>ЗАБ</td>\n",
       "      <td>Внутр. перевозки</td>\n",
       "      <td>710</td>\n",
       "    </tr>\n",
       "  </tbody>\n",
       "</table>\n",
       "</div>"
      ],
      "text/plain": [
       "      date    year  month  код_группа_груза_ур_2  код_группа_груза_ур_1  \\\n",
       "35  2009/4  2009.0    4.0                     15                     10   \n",
       "\n",
       "   дорога_отправления дорога_назначения     вид_перевозки    v  \n",
       "35                ДВС               ЗАБ  Внутр. перевозки  710  "
      ]
     },
     "metadata": {},
     "output_type": "display_data"
    },
    {
     "data": {
      "text/plain": [
       "'----------------------'"
      ]
     },
     "metadata": {},
     "output_type": "display_data"
    },
    {
     "data": {
      "text/plain": [
       "'Пропуски:'"
      ]
     },
     "metadata": {},
     "output_type": "display_data"
    },
    {
     "data": {
      "text/plain": [
       "date                      0\n",
       "year                     35\n",
       "month                    39\n",
       "код_группа_груза_ур_2     0\n",
       "код_группа_груза_ур_1     0\n",
       "дорога_отправления        0\n",
       "дорога_назначения         0\n",
       "вид_перевозки             0\n",
       "v                         0\n",
       "dtype: int64"
      ]
     },
     "metadata": {},
     "output_type": "display_data"
    },
    {
     "data": {
      "text/plain": [
       "'Пропуски в процентном отношении к всему датасету:'"
      ]
     },
     "metadata": {},
     "output_type": "display_data"
    },
    {
     "data": {
      "text/plain": [
       "date                     0.000000\n",
       "year                     0.002514\n",
       "month                    0.002801\n",
       "код_группа_груза_ур_2    0.000000\n",
       "код_группа_груза_ур_1    0.000000\n",
       "дорога_отправления       0.000000\n",
       "дорога_назначения        0.000000\n",
       "вид_перевозки            0.000000\n",
       "v                        0.000000\n",
       "dtype: float64"
      ]
     },
     "metadata": {},
     "output_type": "display_data"
    }
   ],
   "source": [
    "mf.check (df, drop_dupl=False) ## пока проверим без удаления"
   ]
  },
  {
   "cell_type": "markdown",
   "id": "8e8f4b42",
   "metadata": {},
   "source": [
    "Всего 100 дубликатов, объемом менее 0,1% от датасета, пропуски имеются в столбцах дата и год. Дубли пока оставим как есть, пропуски посмотрим внимательнее."
   ]
  },
  {
   "cell_type": "code",
   "execution_count": 11,
   "id": "2c4c5fff",
   "metadata": {},
   "outputs": [
    {
     "data": {
      "text/html": [
       "<div>\n",
       "<style scoped>\n",
       "    .dataframe tbody tr th:only-of-type {\n",
       "        vertical-align: middle;\n",
       "    }\n",
       "\n",
       "    .dataframe tbody tr th {\n",
       "        vertical-align: top;\n",
       "    }\n",
       "\n",
       "    .dataframe thead th {\n",
       "        text-align: right;\n",
       "    }\n",
       "</style>\n",
       "<table border=\"1\" class=\"dataframe\">\n",
       "  <thead>\n",
       "    <tr style=\"text-align: right;\">\n",
       "      <th></th>\n",
       "      <th>date</th>\n",
       "      <th>year</th>\n",
       "      <th>month</th>\n",
       "      <th>код_группа_груза_ур_2</th>\n",
       "      <th>код_группа_груза_ур_1</th>\n",
       "      <th>дорога_отправления</th>\n",
       "      <th>дорога_назначения</th>\n",
       "      <th>вид_перевозки</th>\n",
       "      <th>v</th>\n",
       "    </tr>\n",
       "  </thead>\n",
       "  <tbody>\n",
       "    <tr>\n",
       "      <th>1363298</th>\n",
       "      <td>2009/3</td>\n",
       "      <td>NaN</td>\n",
       "      <td>NaN</td>\n",
       "      <td>40</td>\n",
       "      <td>11</td>\n",
       "      <td>МСК</td>\n",
       "      <td>СЕВ</td>\n",
       "      <td>Импорт</td>\n",
       "      <td>0</td>\n",
       "    </tr>\n",
       "    <tr>\n",
       "      <th>1363310</th>\n",
       "      <td>2009/1</td>\n",
       "      <td>NaN</td>\n",
       "      <td>NaN</td>\n",
       "      <td>11</td>\n",
       "      <td>10</td>\n",
       "      <td>ЮУР</td>\n",
       "      <td>ЮУР</td>\n",
       "      <td>Внутр. перевозки</td>\n",
       "      <td>40</td>\n",
       "    </tr>\n",
       "    <tr>\n",
       "      <th>1363277</th>\n",
       "      <td>2009/1</td>\n",
       "      <td>NaN</td>\n",
       "      <td>NaN</td>\n",
       "      <td>3</td>\n",
       "      <td>3</td>\n",
       "      <td>СЕВ</td>\n",
       "      <td>СКВ</td>\n",
       "      <td>Экспорт</td>\n",
       "      <td>5714</td>\n",
       "    </tr>\n",
       "    <tr>\n",
       "      <th>1363285</th>\n",
       "      <td>2009/1</td>\n",
       "      <td>NaN</td>\n",
       "      <td>NaN</td>\n",
       "      <td>3</td>\n",
       "      <td>3</td>\n",
       "      <td>СКВ</td>\n",
       "      <td>ЗАБ</td>\n",
       "      <td>Внутр. перевозки</td>\n",
       "      <td>3</td>\n",
       "    </tr>\n",
       "    <tr>\n",
       "      <th>1363281</th>\n",
       "      <td>2009/1</td>\n",
       "      <td>NaN</td>\n",
       "      <td>NaN</td>\n",
       "      <td>3</td>\n",
       "      <td>3</td>\n",
       "      <td>СЕВ</td>\n",
       "      <td>ЮВС</td>\n",
       "      <td>Экспорт</td>\n",
       "      <td>587</td>\n",
       "    </tr>\n",
       "    <tr>\n",
       "      <th>1363297</th>\n",
       "      <td>2009/3</td>\n",
       "      <td>NaN</td>\n",
       "      <td>NaN</td>\n",
       "      <td>40</td>\n",
       "      <td>11</td>\n",
       "      <td>ОКТ</td>\n",
       "      <td>ЮВС</td>\n",
       "      <td>Экспорт</td>\n",
       "      <td>46</td>\n",
       "    </tr>\n",
       "    <tr>\n",
       "      <th>1365104</th>\n",
       "      <td>2009/1</td>\n",
       "      <td>NaN</td>\n",
       "      <td>NaN</td>\n",
       "      <td>11</td>\n",
       "      <td>10</td>\n",
       "      <td>ОКТ</td>\n",
       "      <td>ВСБ</td>\n",
       "      <td>Импорт</td>\n",
       "      <td>458</td>\n",
       "    </tr>\n",
       "    <tr>\n",
       "      <th>1363289</th>\n",
       "      <td>2009/1</td>\n",
       "      <td>NaN</td>\n",
       "      <td>NaN</td>\n",
       "      <td>3</td>\n",
       "      <td>3</td>\n",
       "      <td>СЕВ</td>\n",
       "      <td>СВР</td>\n",
       "      <td>Внутр. перевозки</td>\n",
       "      <td>11175</td>\n",
       "    </tr>\n",
       "    <tr>\n",
       "      <th>1363305</th>\n",
       "      <td>2009/1</td>\n",
       "      <td>NaN</td>\n",
       "      <td>NaN</td>\n",
       "      <td>11</td>\n",
       "      <td>10</td>\n",
       "      <td>ПРВ</td>\n",
       "      <td>СКВ</td>\n",
       "      <td>Внутр. перевозки</td>\n",
       "      <td>27</td>\n",
       "    </tr>\n",
       "    <tr>\n",
       "      <th>1363288</th>\n",
       "      <td>2009/1</td>\n",
       "      <td>2009.0</td>\n",
       "      <td>NaN</td>\n",
       "      <td>3</td>\n",
       "      <td>3</td>\n",
       "      <td>СВР</td>\n",
       "      <td>СКВ</td>\n",
       "      <td>Экспорт</td>\n",
       "      <td>37</td>\n",
       "    </tr>\n",
       "  </tbody>\n",
       "</table>\n",
       "</div>"
      ],
      "text/plain": [
       "           date    year  month  код_группа_груза_ур_2  код_группа_груза_ур_1  \\\n",
       "1363298  2009/3     NaN    NaN                     40                     11   \n",
       "1363310  2009/1     NaN    NaN                     11                     10   \n",
       "1363277  2009/1     NaN    NaN                      3                      3   \n",
       "1363285  2009/1     NaN    NaN                      3                      3   \n",
       "1363281  2009/1     NaN    NaN                      3                      3   \n",
       "1363297  2009/3     NaN    NaN                     40                     11   \n",
       "1365104  2009/1     NaN    NaN                     11                     10   \n",
       "1363289  2009/1     NaN    NaN                      3                      3   \n",
       "1363305  2009/1     NaN    NaN                     11                     10   \n",
       "1363288  2009/1  2009.0    NaN                      3                      3   \n",
       "\n",
       "        дорога_отправления дорога_назначения     вид_перевозки      v  \n",
       "1363298                МСК               СЕВ            Импорт      0  \n",
       "1363310                ЮУР               ЮУР  Внутр. перевозки     40  \n",
       "1363277                СЕВ               СКВ           Экспорт   5714  \n",
       "1363285                СКВ               ЗАБ  Внутр. перевозки      3  \n",
       "1363281                СЕВ               ЮВС           Экспорт    587  \n",
       "1363297                ОКТ               ЮВС           Экспорт     46  \n",
       "1365104                ОКТ               ВСБ            Импорт    458  \n",
       "1363289                СЕВ               СВР  Внутр. перевозки  11175  \n",
       "1363305                ПРВ               СКВ  Внутр. перевозки     27  \n",
       "1363288                СВР               СКВ           Экспорт     37  "
      ]
     },
     "execution_count": 11,
     "metadata": {},
     "output_type": "execute_result"
    }
   ],
   "source": [
    "rows_with_na = df[df.isna().any(axis=1)]\n",
    "rows_with_na.sample(10)"
   ]
  },
  {
   "cell_type": "markdown",
   "id": "bed1a884",
   "metadata": {},
   "source": [
    "В столбце дата зашифрованы год и месяц, можно конечно сплитом заменить пропуски, пропусков менее 0,05%, , в соответствии с ТЗ заполним пропуски, самый простой способ через сплит даты"
   ]
  },
  {
   "cell_type": "code",
   "execution_count": 12,
   "id": "6fb6a4d1",
   "metadata": {},
   "outputs": [],
   "source": [
    "df[['year_str', 'month_str']] = df['date'].str.split('/', expand=True)\n",
    "\n",
    "df['year'].fillna(df['year_str'].astype(float), inplace=True)\n",
    "df['month'].fillna(df['month_str'].astype(float), inplace=True)\n",
    "\n",
    "df.drop(columns=['year_str', 'month_str'], inplace=True)"
   ]
  },
  {
   "cell_type": "code",
   "execution_count": 13,
   "id": "0e55b1ce",
   "metadata": {
    "scrolled": true
   },
   "outputs": [
    {
     "name": "stdout",
     "output_type": "stream",
     "text": [
      "Уникальные значения в столбце date:\n",
      "['2009/4' '2009/5' '2009/6' '2009/7' '2009/8' '2009/9' '2009/10' '2009/11'\n",
      " '2009/12' '2010/1' '2010/2' '2010/3' '2010/4' '2010/5' '2010/6' '2010/7'\n",
      " '2010/8' '2010/9' '2010/10' '2010/11' '2010/12' '2011/1' '2011/2'\n",
      " '2011/3' '2011/4' '2011/5' '2011/6' '2011/7' '2011/8' '2011/9' '2011/10'\n",
      " '2011/11' '2011/12' '2012/1' '2012/2' '2012/3' '2012/4' '2012/5' '2012/6'\n",
      " '2012/7' '2012/8' '2012/9' '2012/10' '2012/11' '2012/12' '2013/1'\n",
      " '2013/2' '2013/3' '2013/4' '2013/5' '2013/6' '2013/7' '2013/8' '2013/9'\n",
      " '2013/10' '2013/11' '2013/12' '2014/1' '2014/2' '2014/3' '2014/4'\n",
      " '2014/5' '2014/6' '2014/7' '2014/8' '2014/9' '2014/10' '2014/11'\n",
      " '2014/12' '2015/1' '2015/2' '2015/3' '2015/4' '2015/5' '2015/6' '2015/7'\n",
      " '2015/8' '2015/9' '2015/10' '2015/11' '2015/12' '2016/1' '2016/2'\n",
      " '2016/3' '2016/4' '2016/5' '2016/6' '2016/7' '2016/8' '2016/9' '2016/10'\n",
      " '2016/11' '2016/12' '2017/1' '2017/2' '2017/3' '2017/4' '2017/5' '2017/6'\n",
      " '2017/7' '2017/8' '2017/9' '2017/10' '2017/11' '2017/12' '2018/1'\n",
      " '2018/2' '2018/3' '2018/4' '2018/5' '2018/6' '2018/7' '2018/8' '2018/9'\n",
      " '2018/10' '2018/11' '2018/12' '2019/1' '2019/2' '2019/3' '2019/4'\n",
      " '2019/5' '2019/6' '2019/7' '2019/8' '2019/9' '2019/10' '2019/11'\n",
      " '2019/12' '2020/1' '2020/2' '2020/3' '2020/4' '2020/5' '2020/6' '2020/7'\n",
      " '2020/8' '2020/9' '2020/10' '2020/11' '2020/12' '2021/1' '2021/2'\n",
      " '2021/3' '2021/4' '2021/5' '2021/6' '2021/7' '2021/8' '2021/9' '2021/10'\n",
      " '2021/11' '2021/12' '2022/1' '2022/2' '2022/3' '2022/4' '2022/5' '2022/6'\n",
      " '2022/7' '2022/8' '2022/9' '2022/10' '2022/11' '2022/12' '2023/1'\n",
      " '2023/2' '2023/3' '2009/1' '2009/3' '2009/2']\n",
      "Количество уникальных значений: 171\n",
      "---------------------\n",
      "Уникальные значения в столбце дорога_отправления:\n",
      "['ВСБ' 'ГОР' 'ДВС' 'ЗАБ' 'ЗСБ' 'КБШ' 'КЛГ' 'КРС' 'МСК' 'ОКТ' 'ПРВ' 'САХ'\n",
      " 'СВР' 'СЕВ' 'СКВ' 'ЮВС' 'ЮУР' '#' 'ЖДЯ' 'КЗХ' 'РУБ']\n",
      "Количество уникальных значений: 21\n",
      "---------------------\n",
      "Уникальные значения в столбце дорога_назначения:\n",
      "['МСК' 'ОКТ' 'ПРВ' 'СВР' 'СЕВ' 'ЮВС' 'ЮУР' 'ВСБ' 'ГОР' 'ДВС' 'ЗАБ' 'ЗСБ'\n",
      " 'КБШ' 'КРС' 'САХ' 'СКВ' 'КЛГ' '#' 'ЖДЯ' 'РУБ']\n",
      "Количество уникальных значений: 20\n",
      "---------------------\n",
      "Уникальные значения в столбце вид_перевозки:\n",
      "['Внутр. перевозки' 'Экспорт' 'Импорт' 'Транзит']\n",
      "Количество уникальных значений: 4\n",
      "---------------------\n",
      "Диапазон значений в столбце year:\n",
      "Минимальное значение: 2009.0\n",
      "Максимальное значение: 2023.0\n",
      "---------------------\n",
      "Диапазон значений в столбце month:\n",
      "Минимальное значение: 1.0\n",
      "Максимальное значение: 12.0\n",
      "---------------------\n",
      "Диапазон значений в столбце код_группа_груза_ур_2:\n",
      "Минимальное значение: 1\n",
      "Максимальное значение: 40\n",
      "---------------------\n",
      "Диапазон значений в столбце код_группа_груза_ур_1:\n",
      "Минимальное значение: 1\n",
      "Максимальное значение: 11\n",
      "---------------------\n",
      "Диапазон значений в столбце v:\n",
      "Минимальное значение: 0\n",
      "Максимальное значение: 6040944\n",
      "---------------------\n",
      "В столбце year более 10 уникальных значений\n",
      "Количество уникальных значений: 15\n",
      "---------------------\n",
      "В столбце month более 10 уникальных значений\n",
      "Количество уникальных значений: 12\n",
      "---------------------\n",
      "В столбце код_группа_груза_ур_2 более 10 уникальных значений\n",
      "Количество уникальных значений: 40\n",
      "---------------------\n",
      "В столбце код_группа_груза_ур_1 более 10 уникальных значений\n",
      "Количество уникальных значений: 11\n",
      "---------------------\n",
      "В столбце v более 10 уникальных значений\n",
      "Количество уникальных значений: 94967\n",
      "---------------------\n"
     ]
    }
   ],
   "source": [
    "mf.check_unique (df)"
   ]
  },
  {
   "cell_type": "markdown",
   "id": "efe76440",
   "metadata": {},
   "source": [
    "Странный пункт назначения и получаения - #, посмотрим сколько таких записей"
   ]
  },
  {
   "cell_type": "code",
   "execution_count": 14,
   "id": "9230ccc7",
   "metadata": {
    "scrolled": true
   },
   "outputs": [
    {
     "data": {
      "text/html": [
       "<div>\n",
       "<style scoped>\n",
       "    .dataframe tbody tr th:only-of-type {\n",
       "        vertical-align: middle;\n",
       "    }\n",
       "\n",
       "    .dataframe tbody tr th {\n",
       "        vertical-align: top;\n",
       "    }\n",
       "\n",
       "    .dataframe thead th {\n",
       "        text-align: right;\n",
       "    }\n",
       "</style>\n",
       "<table border=\"1\" class=\"dataframe\">\n",
       "  <thead>\n",
       "    <tr style=\"text-align: right;\">\n",
       "      <th></th>\n",
       "      <th>date</th>\n",
       "      <th>year</th>\n",
       "      <th>month</th>\n",
       "      <th>код_группа_груза_ур_2</th>\n",
       "      <th>код_группа_груза_ур_1</th>\n",
       "      <th>дорога_отправления</th>\n",
       "      <th>дорога_назначения</th>\n",
       "      <th>вид_перевозки</th>\n",
       "      <th>v</th>\n",
       "    </tr>\n",
       "  </thead>\n",
       "  <tbody>\n",
       "    <tr>\n",
       "      <th>188559</th>\n",
       "      <td>2011/1</td>\n",
       "      <td>2011.0</td>\n",
       "      <td>1.0</td>\n",
       "      <td>1</td>\n",
       "      <td>1</td>\n",
       "      <td>#</td>\n",
       "      <td>#</td>\n",
       "      <td>Внутр. перевозки</td>\n",
       "      <td>842</td>\n",
       "    </tr>\n",
       "    <tr>\n",
       "      <th>188560</th>\n",
       "      <td>2011/1</td>\n",
       "      <td>2011.0</td>\n",
       "      <td>1.0</td>\n",
       "      <td>1</td>\n",
       "      <td>1</td>\n",
       "      <td>#</td>\n",
       "      <td>ДВС</td>\n",
       "      <td>Внутр. перевозки</td>\n",
       "      <td>2533</td>\n",
       "    </tr>\n",
       "    <tr>\n",
       "      <th>188794</th>\n",
       "      <td>2011/1</td>\n",
       "      <td>2011.0</td>\n",
       "      <td>1.0</td>\n",
       "      <td>3</td>\n",
       "      <td>3</td>\n",
       "      <td>#</td>\n",
       "      <td>#</td>\n",
       "      <td>Внутр. перевозки</td>\n",
       "      <td>54</td>\n",
       "    </tr>\n",
       "    <tr>\n",
       "      <th>188795</th>\n",
       "      <td>2011/1</td>\n",
       "      <td>2011.0</td>\n",
       "      <td>1.0</td>\n",
       "      <td>3</td>\n",
       "      <td>3</td>\n",
       "      <td>#</td>\n",
       "      <td>ДВС</td>\n",
       "      <td>Внутр. перевозки</td>\n",
       "      <td>1986</td>\n",
       "    </tr>\n",
       "    <tr>\n",
       "      <th>188796</th>\n",
       "      <td>2011/1</td>\n",
       "      <td>2011.0</td>\n",
       "      <td>1.0</td>\n",
       "      <td>3</td>\n",
       "      <td>3</td>\n",
       "      <td>#</td>\n",
       "      <td>СВР</td>\n",
       "      <td>Внутр. перевозки</td>\n",
       "      <td>73</td>\n",
       "    </tr>\n",
       "    <tr>\n",
       "      <th>...</th>\n",
       "      <td>...</td>\n",
       "      <td>...</td>\n",
       "      <td>...</td>\n",
       "      <td>...</td>\n",
       "      <td>...</td>\n",
       "      <td>...</td>\n",
       "      <td>...</td>\n",
       "      <td>...</td>\n",
       "      <td>...</td>\n",
       "    </tr>\n",
       "    <tr>\n",
       "      <th>213987</th>\n",
       "      <td>2011/3</td>\n",
       "      <td>2011.0</td>\n",
       "      <td>3.0</td>\n",
       "      <td>40</td>\n",
       "      <td>10</td>\n",
       "      <td>#</td>\n",
       "      <td>ОКТ</td>\n",
       "      <td>Внутр. перевозки</td>\n",
       "      <td>4</td>\n",
       "    </tr>\n",
       "    <tr>\n",
       "      <th>213988</th>\n",
       "      <td>2011/3</td>\n",
       "      <td>2011.0</td>\n",
       "      <td>3.0</td>\n",
       "      <td>40</td>\n",
       "      <td>10</td>\n",
       "      <td>#</td>\n",
       "      <td>СКВ</td>\n",
       "      <td>Внутр. перевозки</td>\n",
       "      <td>11</td>\n",
       "    </tr>\n",
       "    <tr>\n",
       "      <th>214453</th>\n",
       "      <td>2011/3</td>\n",
       "      <td>2011.0</td>\n",
       "      <td>3.0</td>\n",
       "      <td>40</td>\n",
       "      <td>11</td>\n",
       "      <td>#</td>\n",
       "      <td>ДВС</td>\n",
       "      <td>Внутр. перевозки</td>\n",
       "      <td>0</td>\n",
       "    </tr>\n",
       "    <tr>\n",
       "      <th>223541</th>\n",
       "      <td>2011/4</td>\n",
       "      <td>2011.0</td>\n",
       "      <td>4.0</td>\n",
       "      <td>40</td>\n",
       "      <td>11</td>\n",
       "      <td>#</td>\n",
       "      <td>ВСБ</td>\n",
       "      <td>Внутр. перевозки</td>\n",
       "      <td>0</td>\n",
       "    </tr>\n",
       "    <tr>\n",
       "      <th>223542</th>\n",
       "      <td>2011/4</td>\n",
       "      <td>2011.0</td>\n",
       "      <td>4.0</td>\n",
       "      <td>40</td>\n",
       "      <td>11</td>\n",
       "      <td>#</td>\n",
       "      <td>ДВС</td>\n",
       "      <td>Внутр. перевозки</td>\n",
       "      <td>0</td>\n",
       "    </tr>\n",
       "  </tbody>\n",
       "</table>\n",
       "<p>111 rows × 9 columns</p>\n",
       "</div>"
      ],
      "text/plain": [
       "          date    year  month  код_группа_груза_ур_2  код_группа_груза_ур_1  \\\n",
       "188559  2011/1  2011.0    1.0                      1                      1   \n",
       "188560  2011/1  2011.0    1.0                      1                      1   \n",
       "188794  2011/1  2011.0    1.0                      3                      3   \n",
       "188795  2011/1  2011.0    1.0                      3                      3   \n",
       "188796  2011/1  2011.0    1.0                      3                      3   \n",
       "...        ...     ...    ...                    ...                    ...   \n",
       "213987  2011/3  2011.0    3.0                     40                     10   \n",
       "213988  2011/3  2011.0    3.0                     40                     10   \n",
       "214453  2011/3  2011.0    3.0                     40                     11   \n",
       "223541  2011/4  2011.0    4.0                     40                     11   \n",
       "223542  2011/4  2011.0    4.0                     40                     11   \n",
       "\n",
       "       дорога_отправления дорога_назначения     вид_перевозки     v  \n",
       "188559                  #                 #  Внутр. перевозки   842  \n",
       "188560                  #               ДВС  Внутр. перевозки  2533  \n",
       "188794                  #                 #  Внутр. перевозки    54  \n",
       "188795                  #               ДВС  Внутр. перевозки  1986  \n",
       "188796                  #               СВР  Внутр. перевозки    73  \n",
       "...                   ...               ...               ...   ...  \n",
       "213987                  #               ОКТ  Внутр. перевозки     4  \n",
       "213988                  #               СКВ  Внутр. перевозки    11  \n",
       "214453                  #               ДВС  Внутр. перевозки     0  \n",
       "223541                  #               ВСБ  Внутр. перевозки     0  \n",
       "223542                  #               ДВС  Внутр. перевозки     0  \n",
       "\n",
       "[111 rows x 9 columns]"
      ]
     },
     "execution_count": 14,
     "metadata": {},
     "output_type": "execute_result"
    }
   ],
   "source": [
    "filtered_df = df[\n",
    "    df['дорога_отправления'].str.contains('#', na=False) | \n",
    "    df['дорога_назначения'].str.contains('#', na=False)\n",
    "]\n",
    "filtered_df"
   ]
  },
  {
   "cell_type": "markdown",
   "id": "3cf2fce2",
   "metadata": {},
   "source": [
    "111 строк- не так много, удаляем "
   ]
  },
  {
   "cell_type": "code",
   "execution_count": 15,
   "id": "9eb28657",
   "metadata": {},
   "outputs": [],
   "source": [
    "df.drop(\n",
    "    df[\n",
    "        df['дорога_отправления'].str.contains('#', na=False) | \n",
    "        df['дорога_назначения'].str.contains('#', na=False)\n",
    "    ].index, inplace=True\n",
    ")"
   ]
  },
  {
   "cell_type": "markdown",
   "id": "1ff25c81",
   "metadata": {},
   "source": [
    "Явно нужно скорректировать форматы данных. займемся на следующих шагах"
   ]
  },
  {
   "cell_type": "markdown",
   "id": "a1bd8f53",
   "metadata": {},
   "source": [
    "## <font face='liberation serif' size=4>Выполним загрузку и вывод информации через запрос SQL</font>"
   ]
  },
  {
   "cell_type": "code",
   "execution_count": 16,
   "id": "bbf1e1bf",
   "metadata": {
    "scrolled": true
   },
   "outputs": [
    {
     "data": {
      "text/plain": [
       "1392249"
      ]
     },
     "execution_count": 16,
     "metadata": {},
     "output_type": "execute_result"
    }
   ],
   "source": [
    "### Создадим подключение к датасету \n",
    "\n",
    "conn = sqlite3.connect(\"test_db.sqlite\")\n",
    "df.to_sql(\"railroad_data\", conn, if_exists=\"replace\")"
   ]
  },
  {
   "cell_type": "code",
   "execution_count": 17,
   "id": "fb3cbc79",
   "metadata": {},
   "outputs": [
    {
     "name": "stdout",
     "output_type": "stream",
     "text": [
      "   index    date    year  month  код_группа_груза_ур_2  код_группа_груза_ур_1  \\\n",
      "0      0  2009/4  2009.0    4.0                     15                     10   \n",
      "1      1  2009/4  2009.0    4.0                     15                     10   \n",
      "2      2  2009/4  2009.0    4.0                     15                     10   \n",
      "3      3  2009/4  2009.0    4.0                     15                     10   \n",
      "4      4  2009/4  2009.0    4.0                     15                     10   \n",
      "\n",
      "  дорога_отправления дорога_назначения     вид_перевозки    v  \n",
      "0                ВСБ               МСК  Внутр. перевозки   48  \n",
      "1                ВСБ               МСК           Экспорт    1  \n",
      "2                ВСБ               ОКТ  Внутр. перевозки    5  \n",
      "3                ВСБ               ПРВ  Внутр. перевозки   35  \n",
      "4                ВСБ               СВР  Внутр. перевозки  100  \n"
     ]
    }
   ],
   "source": [
    "# Формируем SQL-запрос\n",
    "query = '''\n",
    "SELECT *\n",
    "FROM railroad_data\n",
    "'''\n",
    "\n",
    "result_df_sql = pd.read_sql_query(query, conn)\n",
    "\n",
    "### закрывать пока не будем, так как еще будем к нему обращаться \n",
    "#conn.close()\n",
    "\n",
    "print(result_df_sql.head())"
   ]
  },
  {
   "cell_type": "code",
   "execution_count": 18,
   "id": "0eef5add",
   "metadata": {},
   "outputs": [
    {
     "data": {
      "text/plain": [
       "'Первые 10 строк:'"
      ]
     },
     "metadata": {},
     "output_type": "display_data"
    },
    {
     "data": {
      "text/html": [
       "<div>\n",
       "<style scoped>\n",
       "    .dataframe tbody tr th:only-of-type {\n",
       "        vertical-align: middle;\n",
       "    }\n",
       "\n",
       "    .dataframe tbody tr th {\n",
       "        vertical-align: top;\n",
       "    }\n",
       "\n",
       "    .dataframe thead th {\n",
       "        text-align: right;\n",
       "    }\n",
       "</style>\n",
       "<table border=\"1\" class=\"dataframe\">\n",
       "  <thead>\n",
       "    <tr style=\"text-align: right;\">\n",
       "      <th></th>\n",
       "      <th>index</th>\n",
       "      <th>date</th>\n",
       "      <th>year</th>\n",
       "      <th>month</th>\n",
       "      <th>код_группа_груза_ур_2</th>\n",
       "      <th>код_группа_груза_ур_1</th>\n",
       "      <th>дорога_отправления</th>\n",
       "      <th>дорога_назначения</th>\n",
       "      <th>вид_перевозки</th>\n",
       "      <th>v</th>\n",
       "    </tr>\n",
       "  </thead>\n",
       "  <tbody>\n",
       "    <tr>\n",
       "      <th>0</th>\n",
       "      <td>0</td>\n",
       "      <td>2009/4</td>\n",
       "      <td>2009.0</td>\n",
       "      <td>4.0</td>\n",
       "      <td>15</td>\n",
       "      <td>10</td>\n",
       "      <td>ВСБ</td>\n",
       "      <td>МСК</td>\n",
       "      <td>Внутр. перевозки</td>\n",
       "      <td>48</td>\n",
       "    </tr>\n",
       "    <tr>\n",
       "      <th>1</th>\n",
       "      <td>1</td>\n",
       "      <td>2009/4</td>\n",
       "      <td>2009.0</td>\n",
       "      <td>4.0</td>\n",
       "      <td>15</td>\n",
       "      <td>10</td>\n",
       "      <td>ВСБ</td>\n",
       "      <td>МСК</td>\n",
       "      <td>Экспорт</td>\n",
       "      <td>1</td>\n",
       "    </tr>\n",
       "    <tr>\n",
       "      <th>2</th>\n",
       "      <td>2</td>\n",
       "      <td>2009/4</td>\n",
       "      <td>2009.0</td>\n",
       "      <td>4.0</td>\n",
       "      <td>15</td>\n",
       "      <td>10</td>\n",
       "      <td>ВСБ</td>\n",
       "      <td>ОКТ</td>\n",
       "      <td>Внутр. перевозки</td>\n",
       "      <td>5</td>\n",
       "    </tr>\n",
       "    <tr>\n",
       "      <th>3</th>\n",
       "      <td>3</td>\n",
       "      <td>2009/4</td>\n",
       "      <td>2009.0</td>\n",
       "      <td>4.0</td>\n",
       "      <td>15</td>\n",
       "      <td>10</td>\n",
       "      <td>ВСБ</td>\n",
       "      <td>ПРВ</td>\n",
       "      <td>Внутр. перевозки</td>\n",
       "      <td>35</td>\n",
       "    </tr>\n",
       "    <tr>\n",
       "      <th>4</th>\n",
       "      <td>4</td>\n",
       "      <td>2009/4</td>\n",
       "      <td>2009.0</td>\n",
       "      <td>4.0</td>\n",
       "      <td>15</td>\n",
       "      <td>10</td>\n",
       "      <td>ВСБ</td>\n",
       "      <td>СВР</td>\n",
       "      <td>Внутр. перевозки</td>\n",
       "      <td>100</td>\n",
       "    </tr>\n",
       "    <tr>\n",
       "      <th>5</th>\n",
       "      <td>5</td>\n",
       "      <td>2009/4</td>\n",
       "      <td>2009.0</td>\n",
       "      <td>4.0</td>\n",
       "      <td>15</td>\n",
       "      <td>10</td>\n",
       "      <td>ВСБ</td>\n",
       "      <td>СЕВ</td>\n",
       "      <td>Внутр. перевозки</td>\n",
       "      <td>20</td>\n",
       "    </tr>\n",
       "    <tr>\n",
       "      <th>6</th>\n",
       "      <td>6</td>\n",
       "      <td>2009/4</td>\n",
       "      <td>2009.0</td>\n",
       "      <td>4.0</td>\n",
       "      <td>15</td>\n",
       "      <td>10</td>\n",
       "      <td>ВСБ</td>\n",
       "      <td>ЮВС</td>\n",
       "      <td>Внутр. перевозки</td>\n",
       "      <td>11</td>\n",
       "    </tr>\n",
       "    <tr>\n",
       "      <th>7</th>\n",
       "      <td>7</td>\n",
       "      <td>2009/4</td>\n",
       "      <td>2009.0</td>\n",
       "      <td>4.0</td>\n",
       "      <td>15</td>\n",
       "      <td>10</td>\n",
       "      <td>ВСБ</td>\n",
       "      <td>ЮУР</td>\n",
       "      <td>Внутр. перевозки</td>\n",
       "      <td>7</td>\n",
       "    </tr>\n",
       "    <tr>\n",
       "      <th>8</th>\n",
       "      <td>8</td>\n",
       "      <td>2009/4</td>\n",
       "      <td>2009.0</td>\n",
       "      <td>4.0</td>\n",
       "      <td>15</td>\n",
       "      <td>10</td>\n",
       "      <td>ГОР</td>\n",
       "      <td>ВСБ</td>\n",
       "      <td>Внутр. перевозки</td>\n",
       "      <td>309</td>\n",
       "    </tr>\n",
       "    <tr>\n",
       "      <th>9</th>\n",
       "      <td>9</td>\n",
       "      <td>2009/4</td>\n",
       "      <td>2009.0</td>\n",
       "      <td>4.0</td>\n",
       "      <td>15</td>\n",
       "      <td>10</td>\n",
       "      <td>ГОР</td>\n",
       "      <td>ГОР</td>\n",
       "      <td>Внутр. перевозки</td>\n",
       "      <td>208</td>\n",
       "    </tr>\n",
       "  </tbody>\n",
       "</table>\n",
       "</div>"
      ],
      "text/plain": [
       "   index    date    year  month  код_группа_груза_ур_2  код_группа_груза_ур_1  \\\n",
       "0      0  2009/4  2009.0    4.0                     15                     10   \n",
       "1      1  2009/4  2009.0    4.0                     15                     10   \n",
       "2      2  2009/4  2009.0    4.0                     15                     10   \n",
       "3      3  2009/4  2009.0    4.0                     15                     10   \n",
       "4      4  2009/4  2009.0    4.0                     15                     10   \n",
       "5      5  2009/4  2009.0    4.0                     15                     10   \n",
       "6      6  2009/4  2009.0    4.0                     15                     10   \n",
       "7      7  2009/4  2009.0    4.0                     15                     10   \n",
       "8      8  2009/4  2009.0    4.0                     15                     10   \n",
       "9      9  2009/4  2009.0    4.0                     15                     10   \n",
       "\n",
       "  дорога_отправления дорога_назначения     вид_перевозки    v  \n",
       "0                ВСБ               МСК  Внутр. перевозки   48  \n",
       "1                ВСБ               МСК           Экспорт    1  \n",
       "2                ВСБ               ОКТ  Внутр. перевозки    5  \n",
       "3                ВСБ               ПРВ  Внутр. перевозки   35  \n",
       "4                ВСБ               СВР  Внутр. перевозки  100  \n",
       "5                ВСБ               СЕВ  Внутр. перевозки   20  \n",
       "6                ВСБ               ЮВС  Внутр. перевозки   11  \n",
       "7                ВСБ               ЮУР  Внутр. перевозки    7  \n",
       "8                ГОР               ВСБ  Внутр. перевозки  309  \n",
       "9                ГОР               ГОР  Внутр. перевозки  208  "
      ]
     },
     "metadata": {},
     "output_type": "display_data"
    },
    {
     "data": {
      "text/plain": [
       "'Последние 10 строк:'"
      ]
     },
     "metadata": {},
     "output_type": "display_data"
    },
    {
     "data": {
      "text/html": [
       "<div>\n",
       "<style scoped>\n",
       "    .dataframe tbody tr th:only-of-type {\n",
       "        vertical-align: middle;\n",
       "    }\n",
       "\n",
       "    .dataframe tbody tr th {\n",
       "        vertical-align: top;\n",
       "    }\n",
       "\n",
       "    .dataframe thead th {\n",
       "        text-align: right;\n",
       "    }\n",
       "</style>\n",
       "<table border=\"1\" class=\"dataframe\">\n",
       "  <thead>\n",
       "    <tr style=\"text-align: right;\">\n",
       "      <th></th>\n",
       "      <th>index</th>\n",
       "      <th>date</th>\n",
       "      <th>year</th>\n",
       "      <th>month</th>\n",
       "      <th>код_группа_груза_ур_2</th>\n",
       "      <th>код_группа_груза_ур_1</th>\n",
       "      <th>дорога_отправления</th>\n",
       "      <th>дорога_назначения</th>\n",
       "      <th>вид_перевозки</th>\n",
       "      <th>v</th>\n",
       "    </tr>\n",
       "  </thead>\n",
       "  <tbody>\n",
       "    <tr>\n",
       "      <th>0</th>\n",
       "      <td>90</td>\n",
       "      <td>2009/4</td>\n",
       "      <td>2009.0</td>\n",
       "      <td>4.0</td>\n",
       "      <td>15</td>\n",
       "      <td>10</td>\n",
       "      <td>ЗСБ</td>\n",
       "      <td>СКВ</td>\n",
       "      <td>Внутр. перевозки</td>\n",
       "      <td>17</td>\n",
       "    </tr>\n",
       "    <tr>\n",
       "      <th>1</th>\n",
       "      <td>91</td>\n",
       "      <td>2009/4</td>\n",
       "      <td>2009.0</td>\n",
       "      <td>4.0</td>\n",
       "      <td>15</td>\n",
       "      <td>10</td>\n",
       "      <td>КБШ</td>\n",
       "      <td>ВСБ</td>\n",
       "      <td>Внутр. перевозки</td>\n",
       "      <td>1221</td>\n",
       "    </tr>\n",
       "    <tr>\n",
       "      <th>2</th>\n",
       "      <td>92</td>\n",
       "      <td>2009/4</td>\n",
       "      <td>2009.0</td>\n",
       "      <td>4.0</td>\n",
       "      <td>15</td>\n",
       "      <td>10</td>\n",
       "      <td>КБШ</td>\n",
       "      <td>ВСБ</td>\n",
       "      <td>Экспорт</td>\n",
       "      <td>86</td>\n",
       "    </tr>\n",
       "    <tr>\n",
       "      <th>3</th>\n",
       "      <td>93</td>\n",
       "      <td>2009/4</td>\n",
       "      <td>2009.0</td>\n",
       "      <td>4.0</td>\n",
       "      <td>15</td>\n",
       "      <td>10</td>\n",
       "      <td>КБШ</td>\n",
       "      <td>ГОР</td>\n",
       "      <td>Внутр. перевозки</td>\n",
       "      <td>1162</td>\n",
       "    </tr>\n",
       "    <tr>\n",
       "      <th>4</th>\n",
       "      <td>94</td>\n",
       "      <td>2009/4</td>\n",
       "      <td>2009.0</td>\n",
       "      <td>4.0</td>\n",
       "      <td>15</td>\n",
       "      <td>10</td>\n",
       "      <td>КБШ</td>\n",
       "      <td>ДВС</td>\n",
       "      <td>Внутр. перевозки</td>\n",
       "      <td>2377</td>\n",
       "    </tr>\n",
       "    <tr>\n",
       "      <th>5</th>\n",
       "      <td>95</td>\n",
       "      <td>2009/4</td>\n",
       "      <td>2009.0</td>\n",
       "      <td>4.0</td>\n",
       "      <td>15</td>\n",
       "      <td>10</td>\n",
       "      <td>КБШ</td>\n",
       "      <td>ЗАБ</td>\n",
       "      <td>Внутр. перевозки</td>\n",
       "      <td>1229</td>\n",
       "    </tr>\n",
       "    <tr>\n",
       "      <th>6</th>\n",
       "      <td>96</td>\n",
       "      <td>2009/4</td>\n",
       "      <td>2009.0</td>\n",
       "      <td>4.0</td>\n",
       "      <td>15</td>\n",
       "      <td>10</td>\n",
       "      <td>КБШ</td>\n",
       "      <td>ЗСБ</td>\n",
       "      <td>Внутр. перевозки</td>\n",
       "      <td>1149</td>\n",
       "    </tr>\n",
       "    <tr>\n",
       "      <th>7</th>\n",
       "      <td>97</td>\n",
       "      <td>2009/4</td>\n",
       "      <td>2009.0</td>\n",
       "      <td>4.0</td>\n",
       "      <td>15</td>\n",
       "      <td>10</td>\n",
       "      <td>КБШ</td>\n",
       "      <td>КБШ</td>\n",
       "      <td>Внутр. перевозки</td>\n",
       "      <td>886</td>\n",
       "    </tr>\n",
       "    <tr>\n",
       "      <th>8</th>\n",
       "      <td>98</td>\n",
       "      <td>2009/4</td>\n",
       "      <td>2009.0</td>\n",
       "      <td>4.0</td>\n",
       "      <td>15</td>\n",
       "      <td>10</td>\n",
       "      <td>КБШ</td>\n",
       "      <td>КРС</td>\n",
       "      <td>Внутр. перевозки</td>\n",
       "      <td>928</td>\n",
       "    </tr>\n",
       "    <tr>\n",
       "      <th>9</th>\n",
       "      <td>99</td>\n",
       "      <td>2009/4</td>\n",
       "      <td>2009.0</td>\n",
       "      <td>4.0</td>\n",
       "      <td>15</td>\n",
       "      <td>10</td>\n",
       "      <td>КБШ</td>\n",
       "      <td>МСК</td>\n",
       "      <td>Внутр. перевозки</td>\n",
       "      <td>1311</td>\n",
       "    </tr>\n",
       "  </tbody>\n",
       "</table>\n",
       "</div>"
      ],
      "text/plain": [
       "   index    date    year  month  код_группа_груза_ур_2  код_группа_груза_ур_1  \\\n",
       "0     90  2009/4  2009.0    4.0                     15                     10   \n",
       "1     91  2009/4  2009.0    4.0                     15                     10   \n",
       "2     92  2009/4  2009.0    4.0                     15                     10   \n",
       "3     93  2009/4  2009.0    4.0                     15                     10   \n",
       "4     94  2009/4  2009.0    4.0                     15                     10   \n",
       "5     95  2009/4  2009.0    4.0                     15                     10   \n",
       "6     96  2009/4  2009.0    4.0                     15                     10   \n",
       "7     97  2009/4  2009.0    4.0                     15                     10   \n",
       "8     98  2009/4  2009.0    4.0                     15                     10   \n",
       "9     99  2009/4  2009.0    4.0                     15                     10   \n",
       "\n",
       "  дорога_отправления дорога_назначения     вид_перевозки     v  \n",
       "0                ЗСБ               СКВ  Внутр. перевозки    17  \n",
       "1                КБШ               ВСБ  Внутр. перевозки  1221  \n",
       "2                КБШ               ВСБ           Экспорт    86  \n",
       "3                КБШ               ГОР  Внутр. перевозки  1162  \n",
       "4                КБШ               ДВС  Внутр. перевозки  2377  \n",
       "5                КБШ               ЗАБ  Внутр. перевозки  1229  \n",
       "6                КБШ               ЗСБ  Внутр. перевозки  1149  \n",
       "7                КБШ               КБШ  Внутр. перевозки   886  \n",
       "8                КБШ               КРС  Внутр. перевозки   928  \n",
       "9                КБШ               МСК  Внутр. перевозки  1311  "
      ]
     },
     "metadata": {},
     "output_type": "display_data"
    }
   ],
   "source": [
    "# SQL-запрос для первых 10 строк достаточно обычного LIMIT\n",
    "query_first_10 = '''\n",
    "SELECT *\n",
    "FROM railroad_data\n",
    "LIMIT 10\n",
    "'''\n",
    "### Для последних 10 строк, возьмем общее количество строк и от них отталкнемся \n",
    "total_rows = pd.read_sql_query(\"SELECT COUNT(*) FROM railroad_data\", conn).iloc[0,0]\n",
    "query_last_10 = f'''\n",
    "SELECT *\n",
    "FROM railroad_data\n",
    "LIMIT 10 OFFSET {total_rows - 10}\n",
    "'''\n",
    "\n",
    "\n",
    "result_first_10 = pd.read_sql_query(query_first_10, conn)\n",
    "result_last_10 = pd.read_sql_query(query_last_10, conn)\n",
    "\n",
    "\n",
    "display(\"Первые 10 строк:\")\n",
    "display(result_first_10)\n",
    "display ()\n",
    "display(\"Последние 10 строк:\")\n",
    "display(result_last_10)"
   ]
  },
  {
   "cell_type": "markdown",
   "id": "2164f301",
   "metadata": {},
   "source": [
    "## <font face='liberation serif' size=4>Корректировка типов данных </font>"
   ]
  },
  {
   "cell_type": "markdown",
   "id": "581ebb1c",
   "metadata": {},
   "source": [
    "Перед обогащением, с учетом объема исходного датасета и ограниченного объема памяти, скорректируем типы данных в датасетах"
   ]
  },
  {
   "cell_type": "code",
   "execution_count": 19,
   "id": "7c0096ce",
   "metadata": {},
   "outputs": [],
   "source": [
    "df = df.astype({\n",
    "    'year': 'Int32',\n",
    "    'month': 'Int32',\n",
    "    'код_группа_груза_ур_2': 'Int32',\n",
    "    'код_группа_груза_ур_1': 'Int32',\n",
    "    'v': 'Int32'\n",
    "})"
   ]
  },
  {
   "cell_type": "markdown",
   "id": "0f4bea0f",
   "metadata": {},
   "source": [
    "скорректируем названия для удобства обработки"
   ]
  },
  {
   "cell_type": "code",
   "execution_count": 20,
   "id": "c48b6f67",
   "metadata": {},
   "outputs": [],
   "source": [
    "old_cols=df.columns.tolist()\n",
    "new_cols = ['date',\n",
    " 'year',\n",
    " 'month',\n",
    " 'code_cargo_2',\n",
    " 'code_cargo_1',\n",
    " 'departure_road',\n",
    " 'destination_road',\n",
    " 'type_trans',\n",
    " 'volume'\n",
    "]\n",
    "\n",
    "cols_change_dict = {i: v for i, v in zip (old_cols, new_cols)}\n",
    "df.rename(columns=cols_change_dict, inplace=True)"
   ]
  },
  {
   "cell_type": "code",
   "execution_count": 21,
   "id": "04118321",
   "metadata": {
    "scrolled": true
   },
   "outputs": [
    {
     "name": "stdout",
     "output_type": "stream",
     "text": [
      "<class 'pandas.core.frame.DataFrame'>\n",
      "Index: 1392249 entries, 0 to 99\n",
      "Data columns (total 9 columns):\n",
      " #   Column            Non-Null Count    Dtype \n",
      "---  ------            --------------    ----- \n",
      " 0   date              1392249 non-null  object\n",
      " 1   year              1392249 non-null  Int32 \n",
      " 2   month             1392249 non-null  Int32 \n",
      " 3   code_cargo_2      1392249 non-null  Int32 \n",
      " 4   code_cargo_1      1392249 non-null  Int32 \n",
      " 5   departure_road    1392249 non-null  object\n",
      " 6   destination_road  1392249 non-null  object\n",
      " 7   type_trans        1392249 non-null  object\n",
      " 8   volume            1392249 non-null  Int32 \n",
      "dtypes: Int32(5), object(4)\n",
      "memory usage: 86.3+ MB\n"
     ]
    }
   ],
   "source": [
    "df.info ()"
   ]
  },
  {
   "cell_type": "markdown",
   "id": "b1384cdb",
   "metadata": {},
   "source": [
    "## <font face='liberation serif' size=4>Обогащение данных информацией из файла sp_gr_test.xlsx</font>"
   ]
  },
  {
   "cell_type": "markdown",
   "id": "1e17d1c2",
   "metadata": {},
   "source": [
    "Загрузим справочник"
   ]
  },
  {
   "cell_type": "code",
   "execution_count": 22,
   "id": "c16d80e8",
   "metadata": {},
   "outputs": [],
   "source": [
    "try:\n",
    "    sp_gr_test_df = pd.read_excel(\"C:\\\\Users\\\\PC_Maks\\\\Desktop\\\\123finance\\\\sp_gr_test.xlsx\")\n",
    "except:\n",
    "    url = 'https://drive.google.com/uc?id=1gQPiJ0HQHgP7r_zbKm3M3kGY9WZD71I2'\n",
    "    output = 'sp_gr_test_downloaded.xlsx'\n",
    "    gdown.download(url, output, quiet=False)\n",
    "\n",
    "    sp_gr_test_df = pd.read_excel(output)"
   ]
  },
  {
   "cell_type": "code",
   "execution_count": 23,
   "id": "c51ee15a",
   "metadata": {},
   "outputs": [
    {
     "data": {
      "text/html": [
       "<div>\n",
       "<style scoped>\n",
       "    .dataframe tbody tr th:only-of-type {\n",
       "        vertical-align: middle;\n",
       "    }\n",
       "\n",
       "    .dataframe tbody tr th {\n",
       "        vertical-align: top;\n",
       "    }\n",
       "\n",
       "    .dataframe thead th {\n",
       "        text-align: right;\n",
       "    }\n",
       "</style>\n",
       "<table border=\"1\" class=\"dataframe\">\n",
       "  <thead>\n",
       "    <tr style=\"text-align: right;\">\n",
       "      <th></th>\n",
       "      <th>Код_группа_груза_ур_4</th>\n",
       "      <th>Группа_груза_ур_4</th>\n",
       "      <th>Код_группа_груза_ур_3</th>\n",
       "      <th>Группа_груза_ур_3</th>\n",
       "      <th>Код_группа_груза_ур_2</th>\n",
       "      <th>Группа_груза_ур_2</th>\n",
       "      <th>Код_группа_груза_ур_1</th>\n",
       "      <th>Группа_груза_ур_1</th>\n",
       "    </tr>\n",
       "  </thead>\n",
       "  <tbody>\n",
       "    <tr>\n",
       "      <th>567</th>\n",
       "      <td>15104</td>\n",
       "      <td>БРИКЕТ ТИТ/МАГН</td>\n",
       "      <td>151</td>\n",
       "      <td>Руды и концентраты цветных металлов</td>\n",
       "      <td>8</td>\n",
       "      <td>Руда цветная и серное сырье</td>\n",
       "      <td>4</td>\n",
       "      <td>Руды всякие</td>\n",
       "    </tr>\n",
       "    <tr>\n",
       "      <th>4279</th>\n",
       "      <td>72225</td>\n",
       "      <td>2-ХЛОРФЕНОЛ</td>\n",
       "      <td>722</td>\n",
       "      <td>Фенолы,</td>\n",
       "      <td>18</td>\n",
       "      <td>Химикаты и сода</td>\n",
       "      <td>10</td>\n",
       "      <td>Прочие грузы</td>\n",
       "    </tr>\n",
       "    <tr>\n",
       "      <th>858</th>\n",
       "      <td>22527</td>\n",
       "      <td>СМОЛА ПОЛИАЛКБ</td>\n",
       "      <td>225</td>\n",
       "      <td>Прочие нефтепродукты темные</td>\n",
       "      <td>3</td>\n",
       "      <td>Нефть и нефтепродукты</td>\n",
       "      <td>3</td>\n",
       "      <td>Нефтяные грузы</td>\n",
       "    </tr>\n",
       "    <tr>\n",
       "      <th>1589</th>\n",
       "      <td>33110</td>\n",
       "      <td>ВОЛЬФРАМ</td>\n",
       "      <td>331</td>\n",
       "      <td>Металлы цветные и их сплавы</td>\n",
       "      <td>16</td>\n",
       "      <td>Цветные металлы, изделия из них и лом цветных</td>\n",
       "      <td>10</td>\n",
       "      <td>Прочие грузы</td>\n",
       "    </tr>\n",
       "    <tr>\n",
       "      <th>2474</th>\n",
       "      <td>46211</td>\n",
       "      <td>ИЗД ПОРОЛОНОВЫЕ</td>\n",
       "      <td>462</td>\n",
       "      <td>Изделия из пластических масс и синтетических смол</td>\n",
       "      <td>18</td>\n",
       "      <td>Химикаты и сода</td>\n",
       "      <td>10</td>\n",
       "      <td>Прочие грузы</td>\n",
       "    </tr>\n",
       "    <tr>\n",
       "      <th>3309</th>\n",
       "      <td>55205</td>\n",
       "      <td>ПАХТА</td>\n",
       "      <td>552</td>\n",
       "      <td>Молочные продукты</td>\n",
       "      <td>40</td>\n",
       "      <td>Остальные и сборные грузы</td>\n",
       "      <td>10</td>\n",
       "      <td>Прочие грузы</td>\n",
       "    </tr>\n",
       "    <tr>\n",
       "      <th>2730</th>\n",
       "      <td>48129</td>\n",
       "      <td>КИСЛ ХЛОР М50</td>\n",
       "      <td>481</td>\n",
       "      <td>Кислоты, оксиды, пироксиды и ангидриды</td>\n",
       "      <td>18</td>\n",
       "      <td>Химикаты и сода</td>\n",
       "      <td>10</td>\n",
       "      <td>Прочие грузы</td>\n",
       "    </tr>\n",
       "    <tr>\n",
       "      <th>1932</th>\n",
       "      <td>40406</td>\n",
       "      <td>КИПЯТИЛЬН ЭЛБЫТ</td>\n",
       "      <td>404</td>\n",
       "      <td>Машины, изделия и приборы электробытовые</td>\n",
       "      <td>12</td>\n",
       "      <td>Метизы</td>\n",
       "      <td>10</td>\n",
       "      <td>Прочие грузы</td>\n",
       "    </tr>\n",
       "    <tr>\n",
       "      <th>2893</th>\n",
       "      <td>48506</td>\n",
       "      <td>АММОНИЯ КРЕМНЕФ</td>\n",
       "      <td>485</td>\n",
       "      <td>Соли бескислородных кислот</td>\n",
       "      <td>18</td>\n",
       "      <td>Химикаты и сода</td>\n",
       "      <td>10</td>\n",
       "      <td>Прочие грузы</td>\n",
       "    </tr>\n",
       "    <tr>\n",
       "      <th>1461</th>\n",
       "      <td>30338</td>\n",
       "      <td>ИЗД ОГН БЕТ ШАМ</td>\n",
       "      <td>303</td>\n",
       "      <td>Материалы и изделия</td>\n",
       "      <td>22</td>\n",
       "      <td>Огнеупоры</td>\n",
       "      <td>7</td>\n",
       "      <td>Минерально-строительные материалы</td>\n",
       "    </tr>\n",
       "  </tbody>\n",
       "</table>\n",
       "</div>"
      ],
      "text/plain": [
       "      Код_группа_груза_ур_4 Группа_груза_ур_4  Код_группа_груза_ур_3  \\\n",
       "567                   15104   БРИКЕТ ТИТ/МАГН                    151   \n",
       "4279                  72225       2-ХЛОРФЕНОЛ                    722   \n",
       "858                   22527    СМОЛА ПОЛИАЛКБ                    225   \n",
       "1589                  33110          ВОЛЬФРАМ                    331   \n",
       "2474                  46211   ИЗД ПОРОЛОНОВЫЕ                    462   \n",
       "3309                  55205             ПАХТА                    552   \n",
       "2730                  48129     КИСЛ ХЛОР М50                    481   \n",
       "1932                  40406   КИПЯТИЛЬН ЭЛБЫТ                    404   \n",
       "2893                  48506   АММОНИЯ КРЕМНЕФ                    485   \n",
       "1461                  30338   ИЗД ОГН БЕТ ШАМ                    303   \n",
       "\n",
       "                                      Группа_груза_ур_3  \\\n",
       "567                 Руды и концентраты цветных металлов   \n",
       "4279                                            Фенолы,   \n",
       "858                         Прочие нефтепродукты темные   \n",
       "1589                        Металлы цветные и их сплавы   \n",
       "2474  Изделия из пластических масс и синтетических смол   \n",
       "3309                                  Молочные продукты   \n",
       "2730             Кислоты, оксиды, пироксиды и ангидриды   \n",
       "1932           Машины, изделия и приборы электробытовые   \n",
       "2893                         Соли бескислородных кислот   \n",
       "1461                                Материалы и изделия   \n",
       "\n",
       "      Код_группа_груза_ур_2                              Группа_груза_ур_2  \\\n",
       "567                       8                    Руда цветная и серное сырье   \n",
       "4279                     18                                Химикаты и сода   \n",
       "858                       3                          Нефть и нефтепродукты   \n",
       "1589                     16  Цветные металлы, изделия из них и лом цветных   \n",
       "2474                     18                                Химикаты и сода   \n",
       "3309                     40                      Остальные и сборные грузы   \n",
       "2730                     18                                Химикаты и сода   \n",
       "1932                     12                                         Метизы   \n",
       "2893                     18                                Химикаты и сода   \n",
       "1461                     22                                      Огнеупоры   \n",
       "\n",
       "      Код_группа_груза_ур_1                  Группа_груза_ур_1  \n",
       "567                       4                        Руды всякие  \n",
       "4279                     10                       Прочие грузы  \n",
       "858                       3                     Нефтяные грузы  \n",
       "1589                     10                       Прочие грузы  \n",
       "2474                     10                       Прочие грузы  \n",
       "3309                     10                       Прочие грузы  \n",
       "2730                     10                       Прочие грузы  \n",
       "1932                     10                       Прочие грузы  \n",
       "2893                     10                       Прочие грузы  \n",
       "1461                      7  Минерально-строительные материалы  "
      ]
     },
     "metadata": {},
     "output_type": "display_data"
    }
   ],
   "source": [
    "display(sp_gr_test_df.sample(10))"
   ]
  },
  {
   "cell_type": "markdown",
   "id": "7e1c0d8a",
   "metadata": {},
   "source": [
    "Так как уровень детализации основного датасета только до уровня 2, произведем обогащение только до данного уровня."
   ]
  },
  {
   "cell_type": "code",
   "execution_count": 24,
   "id": "387aa836",
   "metadata": {},
   "outputs": [],
   "source": [
    "## ограним таблицу-справочник\n",
    "selected_columns = ['Код_группа_груза_ур_1', 'Группа_груза_ур_1', 'Код_группа_груза_ур_2', 'Группа_груза_ур_2']\n",
    "sp_gr_test_df_selected = sp_gr_test_df[selected_columns]"
   ]
  },
  {
   "cell_type": "code",
   "execution_count": 25,
   "id": "7c3973d0",
   "metadata": {
    "scrolled": true
   },
   "outputs": [
    {
     "data": {
      "text/html": [
       "<div>\n",
       "<style scoped>\n",
       "    .dataframe tbody tr th:only-of-type {\n",
       "        vertical-align: middle;\n",
       "    }\n",
       "\n",
       "    .dataframe tbody tr th {\n",
       "        vertical-align: top;\n",
       "    }\n",
       "\n",
       "    .dataframe thead th {\n",
       "        text-align: right;\n",
       "    }\n",
       "</style>\n",
       "<table border=\"1\" class=\"dataframe\">\n",
       "  <thead>\n",
       "    <tr style=\"text-align: right;\">\n",
       "      <th></th>\n",
       "      <th>код_группа_груза_ур_1</th>\n",
       "      <th>группа_груза_ур_1</th>\n",
       "      <th>код_группа_груза_ур_2</th>\n",
       "      <th>группа_груза_ур_2</th>\n",
       "    </tr>\n",
       "  </thead>\n",
       "  <tbody>\n",
       "    <tr>\n",
       "      <th>0</th>\n",
       "      <td>9</td>\n",
       "      <td>хлебные грузы</td>\n",
       "      <td>34</td>\n",
       "      <td>зерно</td>\n",
       "    </tr>\n",
       "    <tr>\n",
       "      <th>1</th>\n",
       "      <td>9</td>\n",
       "      <td>хлебные грузы</td>\n",
       "      <td>34</td>\n",
       "      <td>зерно</td>\n",
       "    </tr>\n",
       "    <tr>\n",
       "      <th>2</th>\n",
       "      <td>9</td>\n",
       "      <td>хлебные грузы</td>\n",
       "      <td>34</td>\n",
       "      <td>зерно</td>\n",
       "    </tr>\n",
       "    <tr>\n",
       "      <th>3</th>\n",
       "      <td>9</td>\n",
       "      <td>хлебные грузы</td>\n",
       "      <td>34</td>\n",
       "      <td>зерно</td>\n",
       "    </tr>\n",
       "    <tr>\n",
       "      <th>4</th>\n",
       "      <td>9</td>\n",
       "      <td>хлебные грузы</td>\n",
       "      <td>34</td>\n",
       "      <td>зерно</td>\n",
       "    </tr>\n",
       "    <tr>\n",
       "      <th>...</th>\n",
       "      <td>...</td>\n",
       "      <td>...</td>\n",
       "      <td>...</td>\n",
       "      <td>...</td>\n",
       "    </tr>\n",
       "    <tr>\n",
       "      <th>4809</th>\n",
       "      <td>10</td>\n",
       "      <td>прочие грузы</td>\n",
       "      <td>18</td>\n",
       "      <td>химикаты и сода</td>\n",
       "    </tr>\n",
       "    <tr>\n",
       "      <th>4810</th>\n",
       "      <td>10</td>\n",
       "      <td>прочие грузы</td>\n",
       "      <td>18</td>\n",
       "      <td>химикаты и сода</td>\n",
       "    </tr>\n",
       "    <tr>\n",
       "      <th>4811</th>\n",
       "      <td>10</td>\n",
       "      <td>прочие грузы</td>\n",
       "      <td>18</td>\n",
       "      <td>химикаты и сода</td>\n",
       "    </tr>\n",
       "    <tr>\n",
       "      <th>4812</th>\n",
       "      <td>10</td>\n",
       "      <td>прочие грузы</td>\n",
       "      <td>18</td>\n",
       "      <td>химикаты и сода</td>\n",
       "    </tr>\n",
       "    <tr>\n",
       "      <th>4813</th>\n",
       "      <td>10</td>\n",
       "      <td>прочие грузы</td>\n",
       "      <td>18</td>\n",
       "      <td>химикаты и сода</td>\n",
       "    </tr>\n",
       "  </tbody>\n",
       "</table>\n",
       "<p>4814 rows × 4 columns</p>\n",
       "</div>"
      ],
      "text/plain": [
       "      код_группа_груза_ур_1 группа_груза_ур_1  код_группа_груза_ур_2  \\\n",
       "0                         9     хлебные грузы                     34   \n",
       "1                         9     хлебные грузы                     34   \n",
       "2                         9     хлебные грузы                     34   \n",
       "3                         9     хлебные грузы                     34   \n",
       "4                         9     хлебные грузы                     34   \n",
       "...                     ...               ...                    ...   \n",
       "4809                     10      прочие грузы                     18   \n",
       "4810                     10      прочие грузы                     18   \n",
       "4811                     10      прочие грузы                     18   \n",
       "4812                     10      прочие грузы                     18   \n",
       "4813                     10      прочие грузы                     18   \n",
       "\n",
       "     группа_груза_ур_2  \n",
       "0                зерно  \n",
       "1                зерно  \n",
       "2                зерно  \n",
       "3                зерно  \n",
       "4                зерно  \n",
       "...                ...  \n",
       "4809   химикаты и сода  \n",
       "4810   химикаты и сода  \n",
       "4811   химикаты и сода  \n",
       "4812   химикаты и сода  \n",
       "4813   химикаты и сода  \n",
       "\n",
       "[4814 rows x 4 columns]"
      ]
     },
     "execution_count": 25,
     "metadata": {},
     "output_type": "execute_result"
    }
   ],
   "source": [
    "mf.data_preprocessing (sp_gr_test_df_selected)"
   ]
  },
  {
   "cell_type": "markdown",
   "id": "902caf63",
   "metadata": {},
   "source": [
    "скорректируем названия"
   ]
  },
  {
   "cell_type": "code",
   "execution_count": 26,
   "id": "1418b3c6",
   "metadata": {
    "scrolled": true
   },
   "outputs": [],
   "source": [
    "old_cols=sp_gr_test_df_selected.columns.tolist()\n",
    "new_cols = ['code_cargo_1',\n",
    " 'group_cargo_1',\n",
    " 'code_cargo_2',\n",
    " 'group_cargo_2'\n",
    "]\n",
    "\n",
    "cols_change_dict = {i: v for i, v in zip (old_cols, new_cols)}\n",
    "sp_gr_test_df_selected.rename(columns=cols_change_dict, inplace=True)"
   ]
  },
  {
   "cell_type": "code",
   "execution_count": 27,
   "id": "aec7b763",
   "metadata": {},
   "outputs": [],
   "source": [
    "sp_gr_test_df_selected = sp_gr_test_df_selected.astype({\n",
    "    'code_cargo_1': 'Int32',\n",
    "    'code_cargo_2': 'Int32'    \n",
    "})"
   ]
  },
  {
   "cell_type": "code",
   "execution_count": 28,
   "id": "7ecb690d",
   "metadata": {
    "scrolled": true
   },
   "outputs": [
    {
     "data": {
      "text/plain": [
       "'Проверка на дубликаты:'"
      ]
     },
     "metadata": {},
     "output_type": "display_data"
    },
    {
     "name": "stdout",
     "output_type": "stream",
     "text": [
      "<class 'pandas.core.frame.DataFrame'>\n",
      "Index: 4773 entries, 1 to 4813\n",
      "Data columns (total 4 columns):\n",
      " #   Column         Non-Null Count  Dtype \n",
      "---  ------         --------------  ----- \n",
      " 0   code_cargo_1   4773 non-null   Int32 \n",
      " 1   group_cargo_1  4773 non-null   object\n",
      " 2   code_cargo_2   4773 non-null   Int32 \n",
      " 3   group_cargo_2  4773 non-null   object\n",
      "dtypes: Int32(2), object(2)\n",
      "memory usage: 158.5+ KB\n"
     ]
    },
    {
     "data": {
      "text/plain": [
       "None"
      ]
     },
     "metadata": {},
     "output_type": "display_data"
    },
    {
     "data": {
      "text/html": [
       "<div>\n",
       "<style scoped>\n",
       "    .dataframe tbody tr th:only-of-type {\n",
       "        vertical-align: middle;\n",
       "    }\n",
       "\n",
       "    .dataframe tbody tr th {\n",
       "        vertical-align: top;\n",
       "    }\n",
       "\n",
       "    .dataframe thead th {\n",
       "        text-align: right;\n",
       "    }\n",
       "</style>\n",
       "<table border=\"1\" class=\"dataframe\">\n",
       "  <thead>\n",
       "    <tr style=\"text-align: right;\">\n",
       "      <th></th>\n",
       "      <th>code_cargo_1</th>\n",
       "      <th>group_cargo_1</th>\n",
       "      <th>code_cargo_2</th>\n",
       "      <th>group_cargo_2</th>\n",
       "    </tr>\n",
       "  </thead>\n",
       "  <tbody>\n",
       "    <tr>\n",
       "      <th>1</th>\n",
       "      <td>9</td>\n",
       "      <td>Хлебные грузы</td>\n",
       "      <td>34</td>\n",
       "      <td>Зерно</td>\n",
       "    </tr>\n",
       "    <tr>\n",
       "      <th>2</th>\n",
       "      <td>9</td>\n",
       "      <td>Хлебные грузы</td>\n",
       "      <td>34</td>\n",
       "      <td>Зерно</td>\n",
       "    </tr>\n",
       "    <tr>\n",
       "      <th>3</th>\n",
       "      <td>9</td>\n",
       "      <td>Хлебные грузы</td>\n",
       "      <td>34</td>\n",
       "      <td>Зерно</td>\n",
       "    </tr>\n",
       "    <tr>\n",
       "      <th>4</th>\n",
       "      <td>9</td>\n",
       "      <td>Хлебные грузы</td>\n",
       "      <td>34</td>\n",
       "      <td>Зерно</td>\n",
       "    </tr>\n",
       "    <tr>\n",
       "      <th>5</th>\n",
       "      <td>9</td>\n",
       "      <td>Хлебные грузы</td>\n",
       "      <td>34</td>\n",
       "      <td>Зерно</td>\n",
       "    </tr>\n",
       "    <tr>\n",
       "      <th>...</th>\n",
       "      <td>...</td>\n",
       "      <td>...</td>\n",
       "      <td>...</td>\n",
       "      <td>...</td>\n",
       "    </tr>\n",
       "    <tr>\n",
       "      <th>4809</th>\n",
       "      <td>10</td>\n",
       "      <td>Прочие грузы</td>\n",
       "      <td>18</td>\n",
       "      <td>Химикаты и сода</td>\n",
       "    </tr>\n",
       "    <tr>\n",
       "      <th>4810</th>\n",
       "      <td>10</td>\n",
       "      <td>Прочие грузы</td>\n",
       "      <td>18</td>\n",
       "      <td>Химикаты и сода</td>\n",
       "    </tr>\n",
       "    <tr>\n",
       "      <th>4811</th>\n",
       "      <td>10</td>\n",
       "      <td>Прочие грузы</td>\n",
       "      <td>18</td>\n",
       "      <td>Химикаты и сода</td>\n",
       "    </tr>\n",
       "    <tr>\n",
       "      <th>4812</th>\n",
       "      <td>10</td>\n",
       "      <td>Прочие грузы</td>\n",
       "      <td>18</td>\n",
       "      <td>Химикаты и сода</td>\n",
       "    </tr>\n",
       "    <tr>\n",
       "      <th>4813</th>\n",
       "      <td>10</td>\n",
       "      <td>Прочие грузы</td>\n",
       "      <td>18</td>\n",
       "      <td>Химикаты и сода</td>\n",
       "    </tr>\n",
       "  </tbody>\n",
       "</table>\n",
       "<p>4773 rows × 4 columns</p>\n",
       "</div>"
      ],
      "text/plain": [
       "      code_cargo_1  group_cargo_1  code_cargo_2    group_cargo_2\n",
       "1                9  Хлебные грузы            34            Зерно\n",
       "2                9  Хлебные грузы            34            Зерно\n",
       "3                9  Хлебные грузы            34            Зерно\n",
       "4                9  Хлебные грузы            34            Зерно\n",
       "5                9  Хлебные грузы            34            Зерно\n",
       "...            ...            ...           ...              ...\n",
       "4809            10   Прочие грузы            18  Химикаты и сода\n",
       "4810            10   Прочие грузы            18  Химикаты и сода\n",
       "4811            10   Прочие грузы            18  Химикаты и сода\n",
       "4812            10   Прочие грузы            18  Химикаты и сода\n",
       "4813            10   Прочие грузы            18  Химикаты и сода\n",
       "\n",
       "[4773 rows x 4 columns]"
      ]
     },
     "metadata": {},
     "output_type": "display_data"
    },
    {
     "data": {
      "text/plain": [
       "'----------------------'"
      ]
     },
     "metadata": {},
     "output_type": "display_data"
    },
    {
     "data": {
      "text/plain": [
       "'Пропуски:'"
      ]
     },
     "metadata": {},
     "output_type": "display_data"
    },
    {
     "data": {
      "text/plain": [
       "code_cargo_1     0\n",
       "group_cargo_1    0\n",
       "code_cargo_2     0\n",
       "group_cargo_2    0\n",
       "dtype: int64"
      ]
     },
     "metadata": {},
     "output_type": "display_data"
    },
    {
     "data": {
      "text/plain": [
       "'Пропуски в процентном отношении к всему датасету:'"
      ]
     },
     "metadata": {},
     "output_type": "display_data"
    },
    {
     "data": {
      "text/plain": [
       "code_cargo_1     0.0\n",
       "group_cargo_1    0.0\n",
       "code_cargo_2     0.0\n",
       "group_cargo_2    0.0\n",
       "dtype: float64"
      ]
     },
     "metadata": {},
     "output_type": "display_data"
    },
    {
     "data": {
      "text/plain": [
       "'Удалено дубликатов: 4773 строк (99.15% от всего датасета)'"
      ]
     },
     "metadata": {},
     "output_type": "display_data"
    }
   ],
   "source": [
    "### так как работаем со справочником, уберем лишнее\n",
    "mf.check(sp_gr_test_df_selected)"
   ]
  },
  {
   "cell_type": "code",
   "execution_count": 29,
   "id": "ec35c3c1",
   "metadata": {
    "scrolled": true
   },
   "outputs": [
    {
     "name": "stdout",
     "output_type": "stream",
     "text": [
      "<class 'pandas.core.frame.DataFrame'>\n",
      "Index: 41 entries, 0 to 3416\n",
      "Data columns (total 4 columns):\n",
      " #   Column         Non-Null Count  Dtype \n",
      "---  ------         --------------  ----- \n",
      " 0   code_cargo_1   41 non-null     Int32 \n",
      " 1   group_cargo_1  41 non-null     object\n",
      " 2   code_cargo_2   41 non-null     Int32 \n",
      " 3   group_cargo_2  41 non-null     object\n",
      "dtypes: Int32(2), object(2)\n",
      "memory usage: 1.4+ KB\n"
     ]
    }
   ],
   "source": [
    "sp_gr_test_df_selected.info()"
   ]
  },
  {
   "cell_type": "code",
   "execution_count": 30,
   "id": "22d39fbf",
   "metadata": {},
   "outputs": [],
   "source": [
    "df = pd.merge(df, sp_gr_test_df_selected, on=['code_cargo_2', 'code_cargo_1'], how='left')"
   ]
  },
  {
   "cell_type": "code",
   "execution_count": 31,
   "id": "a6bf2b52",
   "metadata": {
    "scrolled": true
   },
   "outputs": [
    {
     "name": "stdout",
     "output_type": "stream",
     "text": [
      "<class 'pandas.core.frame.DataFrame'>\n",
      "RangeIndex: 1392249 entries, 0 to 1392248\n",
      "Data columns (total 11 columns):\n",
      " #   Column            Non-Null Count    Dtype \n",
      "---  ------            --------------    ----- \n",
      " 0   date              1392249 non-null  object\n",
      " 1   year              1392249 non-null  Int32 \n",
      " 2   month             1392249 non-null  Int32 \n",
      " 3   code_cargo_2      1392249 non-null  Int32 \n",
      " 4   code_cargo_1      1392249 non-null  Int32 \n",
      " 5   departure_road    1392249 non-null  object\n",
      " 6   destination_road  1392249 non-null  object\n",
      " 7   type_trans        1392249 non-null  object\n",
      " 8   volume            1392249 non-null  Int32 \n",
      " 9   group_cargo_1     1392249 non-null  object\n",
      " 10  group_cargo_2     1392249 non-null  object\n",
      "dtypes: Int32(5), object(6)\n",
      "memory usage: 96.9+ MB\n"
     ]
    }
   ],
   "source": [
    "df.info()"
   ]
  },
  {
   "cell_type": "markdown",
   "id": "11e6f9e3",
   "metadata": {},
   "source": [
    "Таблицы объедленили. можем перейти к оценки дублей, пропусков и чистке. "
   ]
  },
  {
   "cell_type": "code",
   "execution_count": 32,
   "id": "5a66be51",
   "metadata": {
    "scrolled": true
   },
   "outputs": [
    {
     "data": {
      "text/plain": [
       "'Проверка на дубликаты:'"
      ]
     },
     "metadata": {},
     "output_type": "display_data"
    },
    {
     "name": "stdout",
     "output_type": "stream",
     "text": [
      "<class 'pandas.core.frame.DataFrame'>\n",
      "Index: 100 entries, 1392149 to 1392248\n",
      "Data columns (total 11 columns):\n",
      " #   Column            Non-Null Count  Dtype \n",
      "---  ------            --------------  ----- \n",
      " 0   date              100 non-null    object\n",
      " 1   year              100 non-null    Int32 \n",
      " 2   month             100 non-null    Int32 \n",
      " 3   code_cargo_2      100 non-null    Int32 \n",
      " 4   code_cargo_1      100 non-null    Int32 \n",
      " 5   departure_road    100 non-null    object\n",
      " 6   destination_road  100 non-null    object\n",
      " 7   type_trans        100 non-null    object\n",
      " 8   volume            100 non-null    Int32 \n",
      " 9   group_cargo_1     100 non-null    object\n",
      " 10  group_cargo_2     100 non-null    object\n",
      "dtypes: Int32(5), object(6)\n",
      "memory usage: 7.9+ KB\n"
     ]
    },
    {
     "data": {
      "text/plain": [
       "None"
      ]
     },
     "metadata": {},
     "output_type": "display_data"
    },
    {
     "data": {
      "text/html": [
       "<div>\n",
       "<style scoped>\n",
       "    .dataframe tbody tr th:only-of-type {\n",
       "        vertical-align: middle;\n",
       "    }\n",
       "\n",
       "    .dataframe tbody tr th {\n",
       "        vertical-align: top;\n",
       "    }\n",
       "\n",
       "    .dataframe thead th {\n",
       "        text-align: right;\n",
       "    }\n",
       "</style>\n",
       "<table border=\"1\" class=\"dataframe\">\n",
       "  <thead>\n",
       "    <tr style=\"text-align: right;\">\n",
       "      <th></th>\n",
       "      <th>date</th>\n",
       "      <th>year</th>\n",
       "      <th>month</th>\n",
       "      <th>code_cargo_2</th>\n",
       "      <th>code_cargo_1</th>\n",
       "      <th>departure_road</th>\n",
       "      <th>destination_road</th>\n",
       "      <th>type_trans</th>\n",
       "      <th>volume</th>\n",
       "      <th>group_cargo_1</th>\n",
       "      <th>group_cargo_2</th>\n",
       "    </tr>\n",
       "  </thead>\n",
       "  <tbody>\n",
       "    <tr>\n",
       "      <th>1392158</th>\n",
       "      <td>2009/4</td>\n",
       "      <td>2009</td>\n",
       "      <td>4</td>\n",
       "      <td>15</td>\n",
       "      <td>10</td>\n",
       "      <td>ГОР</td>\n",
       "      <td>ГОР</td>\n",
       "      <td>Внутр. перевозки</td>\n",
       "      <td>208</td>\n",
       "      <td>Прочие грузы</td>\n",
       "      <td>Автомобили</td>\n",
       "    </tr>\n",
       "  </tbody>\n",
       "</table>\n",
       "</div>"
      ],
      "text/plain": [
       "           date  year  month  code_cargo_2  code_cargo_1 departure_road  \\\n",
       "1392158  2009/4  2009      4            15            10            ГОР   \n",
       "\n",
       "        destination_road        type_trans  volume group_cargo_1 group_cargo_2  \n",
       "1392158              ГОР  Внутр. перевозки     208  Прочие грузы    Автомобили  "
      ]
     },
     "metadata": {},
     "output_type": "display_data"
    },
    {
     "data": {
      "text/plain": [
       "'----------------------'"
      ]
     },
     "metadata": {},
     "output_type": "display_data"
    },
    {
     "data": {
      "text/plain": [
       "'Пропуски:'"
      ]
     },
     "metadata": {},
     "output_type": "display_data"
    },
    {
     "data": {
      "text/plain": [
       "date                0\n",
       "year                0\n",
       "month               0\n",
       "code_cargo_2        0\n",
       "code_cargo_1        0\n",
       "departure_road      0\n",
       "destination_road    0\n",
       "type_trans          0\n",
       "volume              0\n",
       "group_cargo_1       0\n",
       "group_cargo_2       0\n",
       "dtype: int64"
      ]
     },
     "metadata": {},
     "output_type": "display_data"
    },
    {
     "data": {
      "text/plain": [
       "'Пропуски в процентном отношении к всему датасету:'"
      ]
     },
     "metadata": {},
     "output_type": "display_data"
    },
    {
     "data": {
      "text/plain": [
       "date                0.0\n",
       "year                0.0\n",
       "month               0.0\n",
       "code_cargo_2        0.0\n",
       "code_cargo_1        0.0\n",
       "departure_road      0.0\n",
       "destination_road    0.0\n",
       "type_trans          0.0\n",
       "volume              0.0\n",
       "group_cargo_1       0.0\n",
       "group_cargo_2       0.0\n",
       "dtype: float64"
      ]
     },
     "metadata": {},
     "output_type": "display_data"
    }
   ],
   "source": [
    "mf.check(df, drop_dupl=False)"
   ]
  },
  {
   "cell_type": "markdown",
   "id": "7962a96c",
   "metadata": {},
   "source": [
    "Учитывая не значительное количество дубликатов - удаляем их"
   ]
  },
  {
   "cell_type": "code",
   "execution_count": 33,
   "id": "9ff78788",
   "metadata": {
    "scrolled": true
   },
   "outputs": [
    {
     "data": {
      "text/plain": [
       "'Проверка на дубликаты:'"
      ]
     },
     "metadata": {},
     "output_type": "display_data"
    },
    {
     "name": "stdout",
     "output_type": "stream",
     "text": [
      "<class 'pandas.core.frame.DataFrame'>\n",
      "Index: 100 entries, 1392149 to 1392248\n",
      "Data columns (total 11 columns):\n",
      " #   Column            Non-Null Count  Dtype \n",
      "---  ------            --------------  ----- \n",
      " 0   date              100 non-null    object\n",
      " 1   year              100 non-null    Int32 \n",
      " 2   month             100 non-null    Int32 \n",
      " 3   code_cargo_2      100 non-null    Int32 \n",
      " 4   code_cargo_1      100 non-null    Int32 \n",
      " 5   departure_road    100 non-null    object\n",
      " 6   destination_road  100 non-null    object\n",
      " 7   type_trans        100 non-null    object\n",
      " 8   volume            100 non-null    Int32 \n",
      " 9   group_cargo_1     100 non-null    object\n",
      " 10  group_cargo_2     100 non-null    object\n",
      "dtypes: Int32(5), object(6)\n",
      "memory usage: 7.9+ KB\n"
     ]
    },
    {
     "data": {
      "text/plain": [
       "None"
      ]
     },
     "metadata": {},
     "output_type": "display_data"
    },
    {
     "data": {
      "text/html": [
       "<div>\n",
       "<style scoped>\n",
       "    .dataframe tbody tr th:only-of-type {\n",
       "        vertical-align: middle;\n",
       "    }\n",
       "\n",
       "    .dataframe tbody tr th {\n",
       "        vertical-align: top;\n",
       "    }\n",
       "\n",
       "    .dataframe thead th {\n",
       "        text-align: right;\n",
       "    }\n",
       "</style>\n",
       "<table border=\"1\" class=\"dataframe\">\n",
       "  <thead>\n",
       "    <tr style=\"text-align: right;\">\n",
       "      <th></th>\n",
       "      <th>date</th>\n",
       "      <th>year</th>\n",
       "      <th>month</th>\n",
       "      <th>code_cargo_2</th>\n",
       "      <th>code_cargo_1</th>\n",
       "      <th>departure_road</th>\n",
       "      <th>destination_road</th>\n",
       "      <th>type_trans</th>\n",
       "      <th>volume</th>\n",
       "      <th>group_cargo_1</th>\n",
       "      <th>group_cargo_2</th>\n",
       "    </tr>\n",
       "  </thead>\n",
       "  <tbody>\n",
       "    <tr>\n",
       "      <th>1392149</th>\n",
       "      <td>2009/4</td>\n",
       "      <td>2009</td>\n",
       "      <td>4</td>\n",
       "      <td>15</td>\n",
       "      <td>10</td>\n",
       "      <td>ВСБ</td>\n",
       "      <td>МСК</td>\n",
       "      <td>Внутр. перевозки</td>\n",
       "      <td>48</td>\n",
       "      <td>Прочие грузы</td>\n",
       "      <td>Автомобили</td>\n",
       "    </tr>\n",
       "    <tr>\n",
       "      <th>1392150</th>\n",
       "      <td>2009/4</td>\n",
       "      <td>2009</td>\n",
       "      <td>4</td>\n",
       "      <td>15</td>\n",
       "      <td>10</td>\n",
       "      <td>ВСБ</td>\n",
       "      <td>МСК</td>\n",
       "      <td>Экспорт</td>\n",
       "      <td>1</td>\n",
       "      <td>Прочие грузы</td>\n",
       "      <td>Автомобили</td>\n",
       "    </tr>\n",
       "    <tr>\n",
       "      <th>1392151</th>\n",
       "      <td>2009/4</td>\n",
       "      <td>2009</td>\n",
       "      <td>4</td>\n",
       "      <td>15</td>\n",
       "      <td>10</td>\n",
       "      <td>ВСБ</td>\n",
       "      <td>ОКТ</td>\n",
       "      <td>Внутр. перевозки</td>\n",
       "      <td>5</td>\n",
       "      <td>Прочие грузы</td>\n",
       "      <td>Автомобили</td>\n",
       "    </tr>\n",
       "    <tr>\n",
       "      <th>1392152</th>\n",
       "      <td>2009/4</td>\n",
       "      <td>2009</td>\n",
       "      <td>4</td>\n",
       "      <td>15</td>\n",
       "      <td>10</td>\n",
       "      <td>ВСБ</td>\n",
       "      <td>ПРВ</td>\n",
       "      <td>Внутр. перевозки</td>\n",
       "      <td>35</td>\n",
       "      <td>Прочие грузы</td>\n",
       "      <td>Автомобили</td>\n",
       "    </tr>\n",
       "    <tr>\n",
       "      <th>1392153</th>\n",
       "      <td>2009/4</td>\n",
       "      <td>2009</td>\n",
       "      <td>4</td>\n",
       "      <td>15</td>\n",
       "      <td>10</td>\n",
       "      <td>ВСБ</td>\n",
       "      <td>СВР</td>\n",
       "      <td>Внутр. перевозки</td>\n",
       "      <td>100</td>\n",
       "      <td>Прочие грузы</td>\n",
       "      <td>Автомобили</td>\n",
       "    </tr>\n",
       "    <tr>\n",
       "      <th>...</th>\n",
       "      <td>...</td>\n",
       "      <td>...</td>\n",
       "      <td>...</td>\n",
       "      <td>...</td>\n",
       "      <td>...</td>\n",
       "      <td>...</td>\n",
       "      <td>...</td>\n",
       "      <td>...</td>\n",
       "      <td>...</td>\n",
       "      <td>...</td>\n",
       "      <td>...</td>\n",
       "    </tr>\n",
       "    <tr>\n",
       "      <th>1392244</th>\n",
       "      <td>2009/4</td>\n",
       "      <td>2009</td>\n",
       "      <td>4</td>\n",
       "      <td>15</td>\n",
       "      <td>10</td>\n",
       "      <td>КБШ</td>\n",
       "      <td>ЗАБ</td>\n",
       "      <td>Внутр. перевозки</td>\n",
       "      <td>1229</td>\n",
       "      <td>Прочие грузы</td>\n",
       "      <td>Автомобили</td>\n",
       "    </tr>\n",
       "    <tr>\n",
       "      <th>1392245</th>\n",
       "      <td>2009/4</td>\n",
       "      <td>2009</td>\n",
       "      <td>4</td>\n",
       "      <td>15</td>\n",
       "      <td>10</td>\n",
       "      <td>КБШ</td>\n",
       "      <td>ЗСБ</td>\n",
       "      <td>Внутр. перевозки</td>\n",
       "      <td>1149</td>\n",
       "      <td>Прочие грузы</td>\n",
       "      <td>Автомобили</td>\n",
       "    </tr>\n",
       "    <tr>\n",
       "      <th>1392246</th>\n",
       "      <td>2009/4</td>\n",
       "      <td>2009</td>\n",
       "      <td>4</td>\n",
       "      <td>15</td>\n",
       "      <td>10</td>\n",
       "      <td>КБШ</td>\n",
       "      <td>КБШ</td>\n",
       "      <td>Внутр. перевозки</td>\n",
       "      <td>886</td>\n",
       "      <td>Прочие грузы</td>\n",
       "      <td>Автомобили</td>\n",
       "    </tr>\n",
       "    <tr>\n",
       "      <th>1392247</th>\n",
       "      <td>2009/4</td>\n",
       "      <td>2009</td>\n",
       "      <td>4</td>\n",
       "      <td>15</td>\n",
       "      <td>10</td>\n",
       "      <td>КБШ</td>\n",
       "      <td>КРС</td>\n",
       "      <td>Внутр. перевозки</td>\n",
       "      <td>928</td>\n",
       "      <td>Прочие грузы</td>\n",
       "      <td>Автомобили</td>\n",
       "    </tr>\n",
       "    <tr>\n",
       "      <th>1392248</th>\n",
       "      <td>2009/4</td>\n",
       "      <td>2009</td>\n",
       "      <td>4</td>\n",
       "      <td>15</td>\n",
       "      <td>10</td>\n",
       "      <td>КБШ</td>\n",
       "      <td>МСК</td>\n",
       "      <td>Внутр. перевозки</td>\n",
       "      <td>1311</td>\n",
       "      <td>Прочие грузы</td>\n",
       "      <td>Автомобили</td>\n",
       "    </tr>\n",
       "  </tbody>\n",
       "</table>\n",
       "<p>100 rows × 11 columns</p>\n",
       "</div>"
      ],
      "text/plain": [
       "           date  year  month  code_cargo_2  code_cargo_1 departure_road  \\\n",
       "1392149  2009/4  2009      4            15            10            ВСБ   \n",
       "1392150  2009/4  2009      4            15            10            ВСБ   \n",
       "1392151  2009/4  2009      4            15            10            ВСБ   \n",
       "1392152  2009/4  2009      4            15            10            ВСБ   \n",
       "1392153  2009/4  2009      4            15            10            ВСБ   \n",
       "...         ...   ...    ...           ...           ...            ...   \n",
       "1392244  2009/4  2009      4            15            10            КБШ   \n",
       "1392245  2009/4  2009      4            15            10            КБШ   \n",
       "1392246  2009/4  2009      4            15            10            КБШ   \n",
       "1392247  2009/4  2009      4            15            10            КБШ   \n",
       "1392248  2009/4  2009      4            15            10            КБШ   \n",
       "\n",
       "        destination_road        type_trans  volume group_cargo_1 group_cargo_2  \n",
       "1392149              МСК  Внутр. перевозки      48  Прочие грузы    Автомобили  \n",
       "1392150              МСК           Экспорт       1  Прочие грузы    Автомобили  \n",
       "1392151              ОКТ  Внутр. перевозки       5  Прочие грузы    Автомобили  \n",
       "1392152              ПРВ  Внутр. перевозки      35  Прочие грузы    Автомобили  \n",
       "1392153              СВР  Внутр. перевозки     100  Прочие грузы    Автомобили  \n",
       "...                  ...               ...     ...           ...           ...  \n",
       "1392244              ЗАБ  Внутр. перевозки    1229  Прочие грузы    Автомобили  \n",
       "1392245              ЗСБ  Внутр. перевозки    1149  Прочие грузы    Автомобили  \n",
       "1392246              КБШ  Внутр. перевозки     886  Прочие грузы    Автомобили  \n",
       "1392247              КРС  Внутр. перевозки     928  Прочие грузы    Автомобили  \n",
       "1392248              МСК  Внутр. перевозки    1311  Прочие грузы    Автомобили  \n",
       "\n",
       "[100 rows x 11 columns]"
      ]
     },
     "metadata": {},
     "output_type": "display_data"
    },
    {
     "data": {
      "text/plain": [
       "'----------------------'"
      ]
     },
     "metadata": {},
     "output_type": "display_data"
    },
    {
     "data": {
      "text/plain": [
       "'Пропуски:'"
      ]
     },
     "metadata": {},
     "output_type": "display_data"
    },
    {
     "data": {
      "text/plain": [
       "date                0\n",
       "year                0\n",
       "month               0\n",
       "code_cargo_2        0\n",
       "code_cargo_1        0\n",
       "departure_road      0\n",
       "destination_road    0\n",
       "type_trans          0\n",
       "volume              0\n",
       "group_cargo_1       0\n",
       "group_cargo_2       0\n",
       "dtype: int64"
      ]
     },
     "metadata": {},
     "output_type": "display_data"
    },
    {
     "data": {
      "text/plain": [
       "'Пропуски в процентном отношении к всему датасету:'"
      ]
     },
     "metadata": {},
     "output_type": "display_data"
    },
    {
     "data": {
      "text/plain": [
       "date                0.0\n",
       "year                0.0\n",
       "month               0.0\n",
       "code_cargo_2        0.0\n",
       "code_cargo_1        0.0\n",
       "departure_road      0.0\n",
       "destination_road    0.0\n",
       "type_trans          0.0\n",
       "volume              0.0\n",
       "group_cargo_1       0.0\n",
       "group_cargo_2       0.0\n",
       "dtype: float64"
      ]
     },
     "metadata": {},
     "output_type": "display_data"
    },
    {
     "data": {
      "text/plain": [
       "'Удалено дубликатов: 100 строк (0.01% от всего датасета)'"
      ]
     },
     "metadata": {},
     "output_type": "display_data"
    }
   ],
   "source": [
    "mf.check(df, drop_dupl=True)"
   ]
  },
  {
   "cell_type": "markdown",
   "id": "1909cd6c",
   "metadata": {},
   "source": [
    "# <font face='liberation serif' size=5>Базовый анализ данных (согласно ТЗ)</font>"
   ]
  },
  {
   "cell_type": "markdown",
   "id": "a74eadac",
   "metadata": {},
   "source": [
    "Предварительную обработку и объединение мы закончили, удалили дубли, пропуски, собрали одну таблицу, пора ответить на вопросы.\n",
    "\n",
    "    - за какой период имеются данные;\n",
    "    - сколько и какие именно железные дороги приведены в таблице;\n",
    "    - сколько и какие именно есть группы груза в таблице;\n",
    "    - максимальный и минимальный объем"
   ]
  },
  {
   "cell_type": "markdown",
   "id": "4a1591f9",
   "metadata": {},
   "source": [
    "## <font face='liberation serif' size=4>Период за который имеются данные.</font>"
   ]
  },
  {
   "cell_type": "code",
   "execution_count": 34,
   "id": "7a4ea0a8",
   "metadata": {},
   "outputs": [
    {
     "name": "stdout",
     "output_type": "stream",
     "text": [
      "Данные имеются за период с 1 месяца 2009 года по 3 месяц 2023 года.\n"
     ]
    }
   ],
   "source": [
    "### Чтобы опять не собирать новый столбце с годами и месяцами (таблица массивная, памяти требуется много)\n",
    "### сгруппируем по мин и макс, и посмотрим на даты\n",
    "\n",
    "grouped_by_year = df.groupby('year')['month'].agg(['min', 'max'])\n",
    "\n",
    "\n",
    "min_year = grouped_by_year.index.min()\n",
    "max_year = grouped_by_year.index.max()\n",
    "\n",
    "min_month_for_min_year = grouped_by_year.loc[min_year, 'min']\n",
    "max_month_for_max_year = grouped_by_year.loc[max_year, 'max']\n",
    "\n",
    "print(f\"Данные имеются за период с {min_month_for_min_year} месяца {min_year} года по {max_month_for_max_year} месяц {max_year} года.\")\n"
   ]
  },
  {
   "cell_type": "markdown",
   "id": "48e4cf28",
   "metadata": {},
   "source": [
    "Данные за период с января 2009 года по март 2023 года. Идем дальше"
   ]
  },
  {
   "cell_type": "markdown",
   "id": "e616dc2a",
   "metadata": {},
   "source": [
    "## <font face='liberation serif' size=4>Сколько и какие именно железные дороги приведены в таблице</font>"
   ]
  },
  {
   "cell_type": "markdown",
   "id": "b0194a0e",
   "metadata": {},
   "source": [
    "Эти и остальные значения мы в приницпе выводили модульной функцией check_unique, но выведем нужные значения в явном виде"
   ]
  },
  {
   "cell_type": "code",
   "execution_count": 35,
   "id": "016a6d32",
   "metadata": {},
   "outputs": [
    {
     "name": "stdout",
     "output_type": "stream",
     "text": [
      "В таблице приведены данные по 20 железным дорогам - пунктам отправления: ['ВСБ' 'ГОР' 'ДВС' 'ЗАБ' 'ЗСБ' 'КБШ' 'КЛГ' 'КРС' 'МСК' 'ОКТ' 'ПРВ' 'САХ'\n",
      " 'СВР' 'СЕВ' 'СКВ' 'ЮВС' 'ЮУР' 'ЖДЯ' 'КЗХ' 'РУБ']\n"
     ]
    }
   ],
   "source": [
    "unique_roads = df['departure_road'].unique()\n",
    "num_unique_roads = len(unique_roads)\n",
    "print(f\"В таблице приведены данные по {num_unique_roads} железным дорогам - пунктам отправления: {unique_roads}\")"
   ]
  },
  {
   "cell_type": "code",
   "execution_count": 36,
   "id": "0a3de812",
   "metadata": {
    "scrolled": true
   },
   "outputs": [
    {
     "name": "stdout",
     "output_type": "stream",
     "text": [
      "В таблице приведены данные по 19 железным дорогам - пунктам получения: ['МСК' 'ОКТ' 'ПРВ' 'СВР' 'СЕВ' 'ЮВС' 'ЮУР' 'ВСБ' 'ГОР' 'ДВС' 'ЗАБ' 'ЗСБ'\n",
      " 'КБШ' 'КРС' 'САХ' 'СКВ' 'КЛГ' 'ЖДЯ' 'РУБ']\n"
     ]
    }
   ],
   "source": [
    "unique_roads = df['destination_road'].unique()\n",
    "num_unique_roads = len(unique_roads)\n",
    "print(f\"В таблице приведены данные по {num_unique_roads} железным дорогам - пунктам получения: {unique_roads}\")"
   ]
  },
  {
   "cell_type": "markdown",
   "id": "b15fd3df",
   "metadata": {},
   "source": [
    "## <font face='liberation serif' size=4>Сколько и какие именно есть группы груза в таблице</font>"
   ]
  },
  {
   "cell_type": "code",
   "execution_count": 37,
   "id": "0aacc219",
   "metadata": {},
   "outputs": [
    {
     "name": "stdout",
     "output_type": "stream",
     "text": [
      "В таблице приведены данные по 11 группам груза: ['Прочие грузы' 'Химические и минеральные удобрения'\n",
      " 'Минерально-строительные материалы' 'Лесные грузы' 'Хлебные грузы'\n",
      " 'Грузы на своих осях' 'Каменный уголь' 'Кокс каменноугольный'\n",
      " 'Нефтяные грузы' 'Руды всякие' 'Черные металлы']\n"
     ]
    }
   ],
   "source": [
    "unique_cargo_groups = df['group_cargo_1'].unique()\n",
    "num_unique_cargo_groups = len(unique_cargo_groups)\n",
    "print(f\"В таблице приведены данные по {num_unique_cargo_groups} группам груза: {unique_cargo_groups}\")\n"
   ]
  },
  {
   "cell_type": "markdown",
   "id": "b3c071ea",
   "metadata": {},
   "source": [
    "## <font face='liberation serif' size=4>Максимальный и минимальный объем</font>"
   ]
  },
  {
   "cell_type": "code",
   "execution_count": 38,
   "id": "4166c205",
   "metadata": {},
   "outputs": [
    {
     "name": "stdout",
     "output_type": "stream",
     "text": [
      "Максимальный объем: 6040944, минимальный объем: 0\n"
     ]
    }
   ],
   "source": [
    "max_volume = df['volume'].max()\n",
    "min_volume = df['volume'].min()\n",
    "print(f\"Максимальный объем: {max_volume}, минимальный объем: {min_volume}\")\n"
   ]
  },
  {
   "cell_type": "markdown",
   "id": "b8010127",
   "metadata": {},
   "source": [
    "## <font face='liberation serif' size=4>Выведение дополнительной информации</font>\n",
    "Для вывдения информации одной компандой - info (), для выведения списка колонок columns"
   ]
  },
  {
   "cell_type": "code",
   "execution_count": 39,
   "id": "594a4de2",
   "metadata": {},
   "outputs": [
    {
     "name": "stdout",
     "output_type": "stream",
     "text": [
      "<class 'pandas.core.frame.DataFrame'>\n",
      "Index: 1392149 entries, 0 to 1392148\n",
      "Data columns (total 11 columns):\n",
      " #   Column            Non-Null Count    Dtype \n",
      "---  ------            --------------    ----- \n",
      " 0   date              1392149 non-null  object\n",
      " 1   year              1392149 non-null  Int32 \n",
      " 2   month             1392149 non-null  Int32 \n",
      " 3   code_cargo_2      1392149 non-null  Int32 \n",
      " 4   code_cargo_1      1392149 non-null  Int32 \n",
      " 5   departure_road    1392149 non-null  object\n",
      " 6   destination_road  1392149 non-null  object\n",
      " 7   type_trans        1392149 non-null  object\n",
      " 8   volume            1392149 non-null  Int32 \n",
      " 9   group_cargo_1     1392149 non-null  object\n",
      " 10  group_cargo_2     1392149 non-null  object\n",
      "dtypes: Int32(5), object(6)\n",
      "memory usage: 107.5+ MB\n"
     ]
    }
   ],
   "source": [
    "df.info()"
   ]
  },
  {
   "cell_type": "code",
   "execution_count": 40,
   "id": "9d339fd9",
   "metadata": {
    "scrolled": true
   },
   "outputs": [
    {
     "data": {
      "text/plain": [
       "Index(['date', 'year', 'month', 'code_cargo_2', 'code_cargo_1',\n",
       "       'departure_road', 'destination_road', 'type_trans', 'volume',\n",
       "       'group_cargo_1', 'group_cargo_2'],\n",
       "      dtype='object')"
      ]
     },
     "execution_count": 40,
     "metadata": {},
     "output_type": "execute_result"
    }
   ],
   "source": [
    "df.columns"
   ]
  },
  {
   "cell_type": "markdown",
   "id": "10f4a857",
   "metadata": {},
   "source": [
    "## <font face='liberation serif' size=4>Возвращение колонок заявленному виду</font>"
   ]
  },
  {
   "cell_type": "code",
   "execution_count": 41,
   "id": "60a15352",
   "metadata": {},
   "outputs": [],
   "source": [
    "old_cols=df.columns.tolist()\n",
    "new_cols = ['Дата',\n",
    "            'Год',\n",
    "            'Месяц',\n",
    "            'Код_группа_груза_ур_2',\n",
    "            'Код_группа_груза_ур_1',\n",
    "            'Дорога_отправления',\n",
    "            'Дорога_назначения',\n",
    "            'Вид_перевозки',\n",
    "            'Объём',\n",
    "            'Группа_грузов_ур_1',\n",
    "            'Группа_грузов_ур_2'\n",
    "]\n",
    "\n",
    "cols_change_dict = {i: v for i, v in zip (old_cols, new_cols)}\n",
    "df.rename(columns=cols_change_dict, inplace=True)"
   ]
  },
  {
   "cell_type": "code",
   "execution_count": 42,
   "id": "ae03416d",
   "metadata": {
    "scrolled": true
   },
   "outputs": [
    {
     "data": {
      "text/plain": [
       "'Проверка на дубликаты:'"
      ]
     },
     "metadata": {},
     "output_type": "display_data"
    },
    {
     "name": "stdout",
     "output_type": "stream",
     "text": [
      "<class 'pandas.core.frame.DataFrame'>\n",
      "Index: 0 entries\n",
      "Data columns (total 11 columns):\n",
      " #   Column                 Non-Null Count  Dtype \n",
      "---  ------                 --------------  ----- \n",
      " 0   Дата                   0 non-null      object\n",
      " 1   Год                    0 non-null      Int32 \n",
      " 2   Месяц                  0 non-null      Int32 \n",
      " 3   Код_группа_груза_ур_2  0 non-null      Int32 \n",
      " 4   Код_группа_груза_ур_1  0 non-null      Int32 \n",
      " 5   Дорога_отправления     0 non-null      object\n",
      " 6   Дорога_назначения      0 non-null      object\n",
      " 7   Вид_перевозки          0 non-null      object\n",
      " 8   Объём                  0 non-null      Int32 \n",
      " 9   Группа_грузов_ур_1     0 non-null      object\n",
      " 10  Группа_грузов_ур_2     0 non-null      object\n",
      "dtypes: Int32(5), object(6)\n",
      "memory usage: 0.0+ bytes\n"
     ]
    },
    {
     "data": {
      "text/plain": [
       "None"
      ]
     },
     "metadata": {},
     "output_type": "display_data"
    },
    {
     "data": {
      "text/html": [
       "<div>\n",
       "<style scoped>\n",
       "    .dataframe tbody tr th:only-of-type {\n",
       "        vertical-align: middle;\n",
       "    }\n",
       "\n",
       "    .dataframe tbody tr th {\n",
       "        vertical-align: top;\n",
       "    }\n",
       "\n",
       "    .dataframe thead th {\n",
       "        text-align: right;\n",
       "    }\n",
       "</style>\n",
       "<table border=\"1\" class=\"dataframe\">\n",
       "  <thead>\n",
       "    <tr style=\"text-align: right;\">\n",
       "      <th></th>\n",
       "      <th>Дата</th>\n",
       "      <th>Год</th>\n",
       "      <th>Месяц</th>\n",
       "      <th>Код_группа_груза_ур_2</th>\n",
       "      <th>Код_группа_груза_ур_1</th>\n",
       "      <th>Дорога_отправления</th>\n",
       "      <th>Дорога_назначения</th>\n",
       "      <th>Вид_перевозки</th>\n",
       "      <th>Объём</th>\n",
       "      <th>Группа_грузов_ур_1</th>\n",
       "      <th>Группа_грузов_ур_2</th>\n",
       "    </tr>\n",
       "  </thead>\n",
       "  <tbody>\n",
       "  </tbody>\n",
       "</table>\n",
       "</div>"
      ],
      "text/plain": [
       "Empty DataFrame\n",
       "Columns: [Дата, Год, Месяц, Код_группа_груза_ур_2, Код_группа_груза_ур_1, Дорога_отправления, Дорога_назначения, Вид_перевозки, Объём, Группа_грузов_ур_1, Группа_грузов_ур_2]\n",
       "Index: []"
      ]
     },
     "metadata": {},
     "output_type": "display_data"
    },
    {
     "data": {
      "text/plain": [
       "'----------------------'"
      ]
     },
     "metadata": {},
     "output_type": "display_data"
    },
    {
     "data": {
      "text/plain": [
       "'Пропуски:'"
      ]
     },
     "metadata": {},
     "output_type": "display_data"
    },
    {
     "data": {
      "text/plain": [
       "Дата                     0\n",
       "Год                      0\n",
       "Месяц                    0\n",
       "Код_группа_груза_ур_2    0\n",
       "Код_группа_груза_ур_1    0\n",
       "Дорога_отправления       0\n",
       "Дорога_назначения        0\n",
       "Вид_перевозки            0\n",
       "Объём                    0\n",
       "Группа_грузов_ур_1       0\n",
       "Группа_грузов_ур_2       0\n",
       "dtype: int64"
      ]
     },
     "metadata": {},
     "output_type": "display_data"
    },
    {
     "data": {
      "text/plain": [
       "'Пропуски в процентном отношении к всему датасету:'"
      ]
     },
     "metadata": {},
     "output_type": "display_data"
    },
    {
     "data": {
      "text/plain": [
       "Дата                     0.0\n",
       "Год                      0.0\n",
       "Месяц                    0.0\n",
       "Код_группа_груза_ур_2    0.0\n",
       "Код_группа_груза_ур_1    0.0\n",
       "Дорога_отправления       0.0\n",
       "Дорога_назначения        0.0\n",
       "Вид_перевозки            0.0\n",
       "Объём                    0.0\n",
       "Группа_грузов_ур_1       0.0\n",
       "Группа_грузов_ур_2       0.0\n",
       "dtype: float64"
      ]
     },
     "metadata": {},
     "output_type": "display_data"
    },
    {
     "data": {
      "text/plain": [
       "'Удалено дубликатов: 0 строк (0.0% от всего датасета)'"
      ]
     },
     "metadata": {},
     "output_type": "display_data"
    }
   ],
   "source": [
    "### проведем контрольную проверку на пропуски и дубли\n",
    "\n",
    "mf.check (df)"
   ]
  },
  {
   "cell_type": "markdown",
   "id": "864a4811",
   "metadata": {},
   "source": [
    "Все хорошо. "
   ]
  },
  {
   "cell_type": "markdown",
   "id": "c6855771",
   "metadata": {},
   "source": [
    "## <font face='liberation serif' size=4>Общий вывод по подготовке, прдварительной обработке и базовому исследованию по ТЗ</font>"
   ]
  },
  {
   "cell_type": "markdown",
   "id": "36415d91",
   "metadata": {},
   "source": [
    "<font face='liberation serif' size=4>По результатм первичного исследования датасета установлено:</font>\n",
    "    \n",
    "\n",
    "<font face='liberation serif' size=4>\n",
    "\n",
    "- **Полные дубликаты:** 100 строк (менее 0.1%). **Действие:** Удалены.\n",
    "  \n",
    "- **Пропуски в столбце \"year\":** 35 (менее 0.02%). **Действие:** Заменены на основе данных из столбца 'date'.\n",
    "  \n",
    "- **Пропуски в столбце \"month\":** 39 (менее 0.02%). **Действие:** Заменены на основе данных из столбца 'date'.\n",
    "  \n",
    "- **Символ \"#\" в столбцах отправления и прибытия:** 111 значений. **Действие:** Удалены.\n",
    "  \n",
    "- **Некорректные названия столбцов:** Разный тип раскладки, прописные и строчные буквы. **Действие:** Корректировка.\n",
    "  \n",
    "- **Несоответствие типов данных:** Заменены типы данных для полей \"year\" и \"month\" с float на int32.\n",
    "  \n",
    "- **Объединение со справочником:** Проведено после исключения дублей из последнего.\n",
    "  \n",
    "- **Период данных:** с января 2009 по март 2023 года.\n",
    "  \n",
    "- **Железные дороги:** Данные по 20 пунктам отправления и 19 пунктам получения.\n",
    "  \n",
    "- **Максимальный и минимальный объем:** 6040944 и 0 соответственно.\n",
    "  \n",
    "- **Группы груза:** 11 различных групп.\n",
    "  \n",
    "</font>\n",
    "\n",
    "**Датасет готов к этапу визуализации и тонкого исследования.**\n",
    "\n"
   ]
  },
  {
   "cell_type": "markdown",
   "id": "655a2495",
   "metadata": {},
   "source": [
    "# <font face='liberation serif' size=5>Визуализация данных</font>"
   ]
  },
  {
   "cell_type": "markdown",
   "id": "b25fb64e",
   "metadata": {},
   "source": [
    "## <font face='liberation serif' size=4>Рейтинг железных дорог (как отправления, так и назначения) по объему</font>"
   ]
  },
  {
   "cell_type": "code",
   "execution_count": 43,
   "id": "2e562d74",
   "metadata": {},
   "outputs": [],
   "source": [
    "### Вывод аналогичного графика несколько раз - значит сделаем функцию \n",
    "\n",
    "def plot_top_from_column(df, column_name):\n",
    "    grouped_df = df.groupby(column_name)['Объём'].sum().reset_index()\n",
    "    sorted_df = grouped_df.sort_values(by='Объём', ascending=False).head()\n",
    "    plt.figure(figsize=(15, 6))\n",
    "    barplot = sns.barplot(x=column_name, y='Объём', data=sorted_df, palette='viridis')\n",
    "    \n",
    "    plt.title(f'Топ по столбцу {column_name} по объему', fontsize=16)\n",
    "    plt.xlabel(column_name, fontsize=14)\n",
    "    plt.ylabel('Объём', fontsize=14)\n",
    "    \n",
    "    for p in barplot.patches:\n",
    "        barplot.annotate(f'{int(p.get_height())}', \n",
    "                         (p.get_x() + p.get_width() / 2., p.get_height()), \n",
    "                         ha='center', va='center', fontsize=12, color='black', xytext=(0, 5), \n",
    "                         textcoords='offset points')\n",
    "    \n",
    "    plt.show()"
   ]
  },
  {
   "cell_type": "code",
   "execution_count": 44,
   "id": "0ae5b635",
   "metadata": {
    "scrolled": false
   },
   "outputs": [
    {
     "data": {
      "image/png": "[encoded data removed]",
      "text/plain": [
       "<Figure size 1500x600 with 1 Axes>"
      ]
     },
     "metadata": {},
     "output_type": "display_data"
    }
   ],
   "source": [
    "plot_top_from_column(df, 'Дорога_отправления')"
   ]
  },
  {
   "cell_type": "code",
   "execution_count": 45,
   "id": "97eb7013",
   "metadata": {},
   "outputs": [
    {
     "data": {
      "image/png": "[encoded data removed]",
      "text/plain": [
       "<Figure size 1500x600 with 1 Axes>"
      ]
     },
     "metadata": {},
     "output_type": "display_data"
    }
   ],
   "source": [
    "plot_top_from_column(df, 'Дорога_назначения')"
   ]
  },
  {
   "cell_type": "markdown",
   "id": "b72e6171",
   "metadata": {},
   "source": [
    "## <font face='liberation serif' size=4>Топ-1 железная дорога по отправлению по объему (SQL)</font>"
   ]
  },
  {
   "cell_type": "code",
   "execution_count": 46,
   "id": "6555c644",
   "metadata": {},
   "outputs": [],
   "source": [
    "#данную операцию (вывод топа) делать нужно несколько раз, напишем функцию, так проще\n",
    "def get_leader_from_column(column_name):\n",
    "    conn = sqlite3.connect(\"test_db.sqlite\")\n",
    "    \n",
    "    query = f'''\n",
    "    SELECT {column_name}, SUM(Объём) AS total_volume\n",
    "    FROM new_railroad_data\n",
    "    GROUP BY {column_name}\n",
    "    ORDER BY total_volume DESC\n",
    "    LIMIT 1;\n",
    "    '''\n",
    "    \n",
    "    result_df = pd.read_sql_query(query, conn)\n",
    "    conn.close()\n",
    "    \n",
    "    return result_df"
   ]
  },
  {
   "cell_type": "code",
   "execution_count": 47,
   "id": "c7fbf1e0",
   "metadata": {},
   "outputs": [
    {
     "data": {
      "text/html": [
       "<div>\n",
       "<style scoped>\n",
       "    .dataframe tbody tr th:only-of-type {\n",
       "        vertical-align: middle;\n",
       "    }\n",
       "\n",
       "    .dataframe tbody tr th {\n",
       "        vertical-align: top;\n",
       "    }\n",
       "\n",
       "    .dataframe thead th {\n",
       "        text-align: right;\n",
       "    }\n",
       "</style>\n",
       "<table border=\"1\" class=\"dataframe\">\n",
       "  <thead>\n",
       "    <tr style=\"text-align: right;\">\n",
       "      <th></th>\n",
       "      <th>Дорога_отправления</th>\n",
       "      <th>total_volume</th>\n",
       "    </tr>\n",
       "  </thead>\n",
       "  <tbody>\n",
       "    <tr>\n",
       "      <th>0</th>\n",
       "      <td>ЗСБ</td>\n",
       "      <td>4185282960</td>\n",
       "    </tr>\n",
       "  </tbody>\n",
       "</table>\n",
       "</div>"
      ],
      "text/plain": [
       "  Дорога_отправления  total_volume\n",
       "0                ЗСБ    4185282960"
      ]
     },
     "execution_count": 47,
     "metadata": {},
     "output_type": "execute_result"
    }
   ],
   "source": [
    "get_leader_from_column('Дорога_отправления')"
   ]
  },
  {
   "cell_type": "markdown",
   "id": "2ac41a6d",
   "metadata": {},
   "source": [
    "## <font face='liberation serif' size=4>Топ типов перевозок по объему</font>"
   ]
  },
  {
   "cell_type": "code",
   "execution_count": 48,
   "id": "fde956bc",
   "metadata": {},
   "outputs": [
    {
     "data": {
      "image/png": "[encoded data removed]",
      "text/plain": [
       "<Figure size 1500x600 with 1 Axes>"
      ]
     },
     "metadata": {},
     "output_type": "display_data"
    }
   ],
   "source": [
    "plot_top_from_column(df, 'Вид_перевозки')"
   ]
  },
  {
   "cell_type": "markdown",
   "id": "830d7605",
   "metadata": {},
   "source": [
    "## <font face='liberation serif' size=4>Топ типов перевозок по объему (SQL)</font>"
   ]
  },
  {
   "cell_type": "code",
   "execution_count": 49,
   "id": "048a8cef",
   "metadata": {},
   "outputs": [
    {
     "data": {
      "text/html": [
       "<div>\n",
       "<style scoped>\n",
       "    .dataframe tbody tr th:only-of-type {\n",
       "        vertical-align: middle;\n",
       "    }\n",
       "\n",
       "    .dataframe tbody tr th {\n",
       "        vertical-align: top;\n",
       "    }\n",
       "\n",
       "    .dataframe thead th {\n",
       "        text-align: right;\n",
       "    }\n",
       "</style>\n",
       "<table border=\"1\" class=\"dataframe\">\n",
       "  <thead>\n",
       "    <tr style=\"text-align: right;\">\n",
       "      <th></th>\n",
       "      <th>Вид_перевозки</th>\n",
       "      <th>total_volume</th>\n",
       "    </tr>\n",
       "  </thead>\n",
       "  <tbody>\n",
       "    <tr>\n",
       "      <th>0</th>\n",
       "      <td>Внутр. перевозки</td>\n",
       "      <td>11654023133</td>\n",
       "    </tr>\n",
       "  </tbody>\n",
       "</table>\n",
       "</div>"
      ],
      "text/plain": [
       "      Вид_перевозки  total_volume\n",
       "0  Внутр. перевозки   11654023133"
      ]
     },
     "execution_count": 49,
     "metadata": {},
     "output_type": "execute_result"
    }
   ],
   "source": [
    "get_leader_from_column('Вид_перевозки')"
   ]
  },
  {
   "cell_type": "markdown",
   "id": "8f8af50e",
   "metadata": {},
   "source": [
    "## <font face='liberation serif' size=4>Топ групп грузов (1 и 2 уровень) по объему</font>"
   ]
  },
  {
   "cell_type": "code",
   "execution_count": 50,
   "id": "30f3eb6e",
   "metadata": {},
   "outputs": [
    {
     "data": {
      "image/png": "[encoded data removed]",
      "text/plain": [
       "<Figure size 1500x600 with 1 Axes>"
      ]
     },
     "metadata": {},
     "output_type": "display_data"
    }
   ],
   "source": [
    "plot_top_from_column(df, 'Группа_грузов_ур_1')"
   ]
  },
  {
   "cell_type": "code",
   "execution_count": 51,
   "id": "d229c15e",
   "metadata": {},
   "outputs": [
    {
     "data": {
      "image/png": "[encoded data removed]",
      "text/plain": [
       "<Figure size 1500x600 with 1 Axes>"
      ]
     },
     "metadata": {},
     "output_type": "display_data"
    }
   ],
   "source": [
    "plot_top_from_column(df, 'Группа_грузов_ур_2')"
   ]
  },
  {
   "cell_type": "markdown",
   "id": "a3db9a99",
   "metadata": {},
   "source": [
    "## <font face='liberation serif' size=4>Топ-1 группа грузов 1 уровня по объему (SQL)</font>"
   ]
  },
  {
   "cell_type": "code",
   "execution_count": 52,
   "id": "c334aace",
   "metadata": {},
   "outputs": [
    {
     "data": {
      "text/html": [
       "<div>\n",
       "<style scoped>\n",
       "    .dataframe tbody tr th:only-of-type {\n",
       "        vertical-align: middle;\n",
       "    }\n",
       "\n",
       "    .dataframe tbody tr th {\n",
       "        vertical-align: top;\n",
       "    }\n",
       "\n",
       "    .dataframe thead th {\n",
       "        text-align: right;\n",
       "    }\n",
       "</style>\n",
       "<table border=\"1\" class=\"dataframe\">\n",
       "  <thead>\n",
       "    <tr style=\"text-align: right;\">\n",
       "      <th></th>\n",
       "      <th>Группа_грузов_ур_1</th>\n",
       "      <th>total_volume</th>\n",
       "    </tr>\n",
       "  </thead>\n",
       "  <tbody>\n",
       "    <tr>\n",
       "      <th>0</th>\n",
       "      <td>Каменный уголь</td>\n",
       "      <td>5209012097</td>\n",
       "    </tr>\n",
       "  </tbody>\n",
       "</table>\n",
       "</div>"
      ],
      "text/plain": [
       "  Группа_грузов_ур_1  total_volume\n",
       "0     Каменный уголь    5209012097"
      ]
     },
     "execution_count": 52,
     "metadata": {},
     "output_type": "execute_result"
    }
   ],
   "source": [
    "get_leader_from_column('Группа_грузов_ур_1')"
   ]
  },
  {
   "cell_type": "markdown",
   "id": "159ed0f8",
   "metadata": {},
   "source": [
    "## <font face='liberation serif' size=4>Топ-1 группа грузов 2 уровня по объему (SQL)</font>"
   ]
  },
  {
   "cell_type": "code",
   "execution_count": 53,
   "id": "8cd479dd",
   "metadata": {},
   "outputs": [
    {
     "data": {
      "text/html": [
       "<div>\n",
       "<style scoped>\n",
       "    .dataframe tbody tr th:only-of-type {\n",
       "        vertical-align: middle;\n",
       "    }\n",
       "\n",
       "    .dataframe tbody tr th {\n",
       "        vertical-align: top;\n",
       "    }\n",
       "\n",
       "    .dataframe thead th {\n",
       "        text-align: right;\n",
       "    }\n",
       "</style>\n",
       "<table border=\"1\" class=\"dataframe\">\n",
       "  <thead>\n",
       "    <tr style=\"text-align: right;\">\n",
       "      <th></th>\n",
       "      <th>Группа_грузов_ур_2</th>\n",
       "      <th>total_volume</th>\n",
       "    </tr>\n",
       "  </thead>\n",
       "  <tbody>\n",
       "    <tr>\n",
       "      <th>0</th>\n",
       "      <td>Каменный уголь</td>\n",
       "      <td>5209012097</td>\n",
       "    </tr>\n",
       "  </tbody>\n",
       "</table>\n",
       "</div>"
      ],
      "text/plain": [
       "  Группа_грузов_ур_2  total_volume\n",
       "0     Каменный уголь    5209012097"
      ]
     },
     "execution_count": 53,
     "metadata": {},
     "output_type": "execute_result"
    }
   ],
   "source": [
    "get_leader_from_column('Группа_грузов_ур_2')"
   ]
  },
  {
   "cell_type": "markdown",
   "id": "5e280917",
   "metadata": {},
   "source": [
    "## <font face='liberation serif' size=4>Дополнительные визуализации групп грузов уровня 1 по точке отправления и получения </font>"
   ]
  },
  {
   "cell_type": "code",
   "execution_count": 54,
   "id": "9842a92c",
   "metadata": {},
   "outputs": [
    {
     "data": {
      "image/png": "[encoded data removed]",
      "text/plain": [
       "<Figure size 1500x600 with 1 Axes>"
      ]
     },
     "metadata": {},
     "output_type": "display_data"
    }
   ],
   "source": [
    "top_departure_roads = df.groupby('Дорога_отправления')['Объём'].sum().sort_values(ascending=False).index[:1]\n",
    "\n",
    "plt.figure(figsize=(15, 6))\n",
    "ax = sns.barplot(data=df[df['Дорога_отправления'].isin(top_departure_roads)],\\\n",
    "                 x='Дорога_отправления', y='Объём', hue='Группа_грузов_ур_1', palette=\"tab20\")\n",
    "plt.title('Распределение групп грузов внутри лидера по отправке')\n",
    "plt.xlabel('Дорога отправления')\n",
    "plt.ylabel('Объём')\n",
    "\n",
    "\n",
    "for p in ax.patches:\n",
    "    ax.annotate(f\"{p.get_height():.0f}\",\n",
    "                (p.get_x() + p.get_width() / 2., p.get_height()),\n",
    "                ha='center', va='baseline',\n",
    "                xytext=(0, 10),\n",
    "                textcoords='offset points')\n",
    "\n",
    "plt.show()"
   ]
  },
  {
   "cell_type": "code",
   "execution_count": 55,
   "id": "ac5984b1",
   "metadata": {},
   "outputs": [
    {
     "data": {
      "image/png": "[encoded data removed]",
      "text/plain": [
       "<Figure size 1500x600 with 1 Axes>"
      ]
     },
     "metadata": {},
     "output_type": "display_data"
    }
   ],
   "source": [
    "top_destination_roads = df.groupby('Дорога_назначения')['Объём'].sum().sort_values(ascending=False).index[:1]\n",
    "\n",
    "\n",
    "plt.figure(figsize=(15, 6))\n",
    "ax = sns.barplot(data=df[df['Дорога_назначения'].isin(top_destination_roads)],\\\n",
    "            x='Дорога_назначения', y='Объём', hue='Группа_грузов_ур_1', palette=\"tab20\")\n",
    "plt.title('Распределение групп грузов внутри лидера по назначению')\n",
    "plt.xlabel('Дорога назначения')\n",
    "plt.ylabel('Объём')\n",
    "\n",
    "for p in ax.patches:\n",
    "    ax.annotate(f\"{p.get_height():.0f}\",\n",
    "                (p.get_x() + p.get_width() / 2., p.get_height()),\n",
    "                ha='center', va='baseline',\n",
    "                xytext=(0, 10),\n",
    "                textcoords='offset points')\n",
    "\n",
    "plt.show()\n"
   ]
  },
  {
   "cell_type": "markdown",
   "id": "70bfa15d",
   "metadata": {},
   "source": [
    "<h2>Вывод по результатам визуализации по различным категориям</h2>\n",
    "\n",
    "<font face='liberation serif' size=4>Дорога отправления</font>\n",
    "<ul>\n",
    "    <li><strong>ЗСБ (Западно-Сибирская дорога)</strong> является лидером по объему отправления с показателем 4,185,282,960.</li>\n",
    "    <li><strong>СВР (Северо-Восточная дорога)</strong> занимает второе место с объемом 1,930,358,951.</li>\n",
    "    <li>Далее следуют <strong>ЮУР (Южно-Уральская дорога)</strong>, <strong>ОКТ (Октябрьская дорога)</strong> и <strong>ЮВС (Южно-Восточная дорога)</strong>.</li>\n",
    "</ul>\n",
    "\n",
    "<font face='liberation serif' size=4>Дорога назначения</font>\n",
    "<ul>\n",
    "    <li><strong>ОКТ (Октябрьская дорога)</strong> занимает первое место по объему назначения с 3,156,406,995.</li>\n",
    "    <li><strong>СКВ (Северо-Кавказская дорога)</strong> и <strong>ДВС (Дальневосточная дорога)</strong> также имеют высокие показатели.</li>\n",
    "</ul>\n",
    "\n",
    "<font face='liberation serif' size=4>Вид перевозки</font>\n",
    "<ul>\n",
    "    <li>Внутренние перевозки доминируют с объемом 11,654,023,133, что значительно превышает другие виды перевозок.</li>\n",
    "    <li>Экспорт занимает второе место с 6,190,685,416, а импорт и транзит имеют значительно меньший объем.</li>\n",
    "</ul>\n",
    "\n",
    "<font face='liberation serif' size=4>Группа грузов 1 уровня</font>\n",
    "<ul>\n",
    "    <li><strong>Каменный уголь</strong> является самым перевозимым товаром с объемом 5,209,012,097.</li>\n",
    "    <li><strong>Нефтяные грузы</strong> и <strong>минерально-строительные материалы</strong> также занимают верхние строчки в рейтинге.</li>\n",
    "</ul>\n",
    "\n",
    "<font face='liberation serif' size=4>Группа грузов 1 уровня</font>\n",
    "<ul>\n",
    "    <li><strong>Каменный уголь</strong> и <strong>нефть и нефтепродукты</strong> занимают первые два места.</li>\n",
    "    <li><strong>Строительные грузы</strong>, <strong>руда железная и марганцевая</strong>, и <strong>черные металлы</strong> также входят в топ-5.</li>\n",
    "</ul>\n"
   ]
  },
  {
   "cell_type": "markdown",
   "id": "6a27f985",
   "metadata": {},
   "source": [
    "# <font face='liberation serif' size=5>Общий вывод по исследованию</font>\n",
    "\n",
    "<font face='liberation serif' size=4>По итогам комплексного исследования датасета по объемам перевозок железнодорожного транспорта можно сделать следующие ключевые выводы:</font>\n",
    "\n",
    "1. Этап предобработки и первого исследования\n",
    "<font face='liberation serif' size=4>Предобработка данных включала в себя удаление дубликатов, заполнение пропусков, корректировку названий столбцов и типов данных. По окончании этапа, датасет был готов для визуализации и тонкого исследования. Проанализированы данные по 20 пунктам отправления и 19 пунктам получения с января 2009 по март 2023 года. Определены 11 различных групп грузов.</font>\n",
    "\n",
    "2. Этап визуализации и исследования по различным категориям\n",
    "Дорога отправления\n",
    "<font face='liberation serif' size=4>Лидером по объему отправления является <strong>ЗСБ (Западно-Сибирская дорога)</strong> с показателем 4,185,282,960. <strong>СВР (Северо-Восточная дорога)</strong> занимает второе место с объемом 1,930,358,951.</font>\n",
    "\n",
    "Дорога назначения\n",
    "<font face='liberation serif' size=4><strong>ОКТ (Октябрьская дорога)</strong> лидирует по объему назначения с 3,156,406,995.</font>\n",
    "\n",
    "Вид перевозки\n",
    "<font face='liberation serif' size=4>Внутренние перевозки доминируют с объемом 11,654,023,133, что значительно превышает другие виды перевозок.</font>\n",
    "\n",
    "Группа грузов 1 уровня\n",
    "<font face='liberation serif' size=4><strong>Каменный уголь</strong> является самым перевозимым товаром с объемом 5,209,012,097. Далее следуют <strong>нефтяные грузы</strong> и <strong>минерально-строительные материалы</strong>.</font>\n",
    "\n",
    "<font face='liberation serif' size=4>Все вышеуказанные выводы формируют общую картину и позволяют сделать интегрированные выводы для стратегического и тактического планирования в сфере железнодорожных перевозок. Данный анализ является полезным инструментом для принятия управленческих решений.</font>"
   ]
  },
  {
   "cell_type": "markdown",
   "id": "61f8ffd1",
   "metadata": {},
   "source": [
    "# <font face='liberation serif' size=5>Дополнительный материалы по модулю my_func</font>\n",
    "\n",
    "<a id=\"Перейти_к_функциям\"></a>\n",
    "\n",
    "<font face='liberation serif' size=4>Чтобы не устанавливать модуль в переменную среду на локальный ПК, можно использовать код функций напрямую (нужно скопировать код в ячейку после загрузки датасета.</font>\n"
   ]
  },
  {
   "cell_type": "code",
   "execution_count": 56,
   "id": "55b9e735",
   "metadata": {},
   "outputs": [],
   "source": [
    "def data_preprocessing(data):\n",
    "    \"\"\"\n",
    "    Производит предварительную обработку данных, модифицируя заголовки столбцов и строковые значения.\n",
    "\n",
    "    Параметры:\n",
    "    - data (DataFrame): исходный DataFrame, который требуется предобработать.\n",
    "\n",
    "    Основные шаги функции:\n",
    "    1. Преобразует заголовки столбцов к нижнему регистру и заменяет пробелы на нижние подчеркивания.\n",
    "    2. Преобразует строковые значения всех столбцов к нижнему регистру.\n",
    "\n",
    "    Возвращает:\n",
    "    - DataFrame: предобработанный DataFrame с модифицированными заголовками столбцов и строковыми значениями.\n",
    "\n",
    "    Пример:\n",
    "    >>> data = pd.DataFrame({\"First Name\": [\"John\", \"JANE\"], \"Last Name\": [\"DOE\", \"SMITH\"]})\n",
    "    >>> data_preprocessing(data)\n",
    "       first_name last_name\n",
    "    0       john       doe\n",
    "    1       jane     smith\n",
    "    \"\"\"\n",
    "\n",
    "    data.columns = data.columns.str.lower().str.replace(' ', '_')\n",
    "    data = data.apply(lambda x: x.str.lower() if x.dtype == \"object\" else x)\n",
    "\n",
    "    return data\n",
    "    \n",
    "    \n",
    "    \n"
   ]
  },
  {
   "cell_type": "code",
   "execution_count": 57,
   "id": "88406354",
   "metadata": {},
   "outputs": [],
   "source": [
    "def check_unique(data):\n",
    "    \"\"\"\n",
    "    Выводит уникальные значения и их количество для строковых столбцов, \n",
    "    диапазон значений для числовых и даты/времени столбцов, а также уникальные значения \n",
    "    для числовых столбцов, где уникальных значений не более 10.\n",
    "\n",
    "    Параметры:\n",
    "    - data (DataFrame): DataFrame, значения которого необходимо проверить.\n",
    "\n",
    "    Возвращает:\n",
    "    - None: Функция выводит информацию напрямую в ячейку выполнения кода.\n",
    "\n",
    "        \"\"\"\n",
    "    for col in data.select_dtypes(include=['object']):\n",
    "        print(f\"Уникальные значения в столбце {col}:\")\n",
    "        print(data[col].unique())\n",
    "        print(f\"Количество уникальных значений: {data[col].nunique()}\")\n",
    "        print('---------------------')\n",
    "\n",
    "    for col in data.select_dtypes(include=['datetime64', 'float64', 'int64']):\n",
    "        print(f\"Диапазон значений в столбце {col}:\")\n",
    "        print(f\"Минимальное значение: {data[col].min()}\")\n",
    "        print(f\"Максимальное значение: {data[col].max()}\")\n",
    "        print('---------------------')\n",
    "\n",
    "    for col in data.select_dtypes(include=['int64', 'float64']):\n",
    "        if len(data[col].unique()) > 10:\n",
    "            print(f\"В столбце {col} более 10 уникальных значений\")\n",
    "        else:\n",
    "            print(f\"Уникальные значения в столбце {col}:\")\n",
    "            print(data[col].unique())\n",
    "        print(f\"Количество уникальных значений: {data[col].nunique()}\")\n",
    "        print('---------------------')\n",
    "        "
   ]
  },
  {
   "cell_type": "code",
   "execution_count": 58,
   "id": "9cd0914d",
   "metadata": {},
   "outputs": [],
   "source": [
    "def check(data, drop_dupl=True):\n",
    "    \"\"\"\n",
    "    Проверяет DataFrame на наличие дубликатов и пропусков и выводит соответствующую информацию.\n",
    "    При обнаружении дубликатов имеется возможность их удалить.\n",
    "\n",
    "    Параметры:\n",
    "    - data (DataFrame): DataFrame, который необходимо проверить.\n",
    "    - drop_dupl (bool, по умолчанию True): Если True, дубликаты будут удалены из DataFrame.\n",
    "\n",
    "    Возвращает:\n",
    "    - None: Функция выводит информацию напрямую в консоль. \n",
    "            Если были обнаружены дубликаты и параметр drop_dupl установлен в True, то из исходного DataFrame дубликаты будут удалены.\n",
    "            Если дубликаты найдены, но drop_dupl установлен в False, то дубликаты не удаляются.\n",
    "\n",
    "    \"\"\"\n",
    "    if drop_dupl:\n",
    "        try:\n",
    "            display('Проверка на дубликаты:')\n",
    "            duplicates = data.duplicated()\n",
    "            duplicate_rows = data.loc[duplicates]\n",
    "            display(duplicate_rows.info())\n",
    "            display(duplicate_rows)\n",
    "            display('----------------------')\n",
    "            display('Пропуски:')\n",
    "            display(data.isna().sum())\n",
    "            display('Пропуски в процентном отношении к всему датасету:')\n",
    "            display(data.isna().sum() / len(data) * 100)\n",
    "\n",
    "            num_rows_before = len(data)\n",
    "            data.drop_duplicates(inplace=True)\n",
    "            num_rows_after = len(data)\n",
    "            num_rows_deleted = num_rows_before - num_rows_after\n",
    "            percent_deleted = round(num_rows_deleted / num_rows_before * 100, 2)\n",
    "            display(f'Удалено дубликатов: {num_rows_deleted} строк ({percent_deleted}% от всего датасета)')\n",
    "        \n",
    "        except Exception as e:\n",
    "            print(f'ERROR: {e}')\n",
    "    else:\n",
    "        try:\n",
    "            display('Проверка на дубликаты:')\n",
    "            duplicates = data.duplicated()\n",
    "            duplicate_rows = data.loc[duplicates]\n",
    "            display(duplicate_rows.info())\n",
    "            display(duplicate_rows.sample())\n",
    "            display('----------------------')\n",
    "            display('Пропуски:')\n",
    "            display(data.isna().sum())\n",
    "            display('Пропуски в процентном отношении к всему датасету:')\n",
    "            display(data.isna().sum() / len(data) * 100)\n",
    "        \n",
    "        except Exception as e:\n",
    "            print(f'ERROR: {e}')"
   ]
  }
 ],
 "metadata": {
  "kernelspec": {
   "display_name": "Python 3 (ipykernel)",
   "language": "python",
   "name": "python3"
  },
  "language_info": {
   "codemirror_mode": {
    "name": "ipython",
    "version": 3
   },
   "file_extension": ".py",
   "mimetype": "text/x-python",
   "name": "python",
   "nbconvert_exporter": "python",
   "pygments_lexer": "ipython3",
   "version": "3.9.13"
  },
  "toc": {
   "base_numbering": 1,
   "nav_menu": {},
   "number_sections": true,
   "sideBar": true,
   "skip_h1_title": false,
   "title_cell": "Table of Contents",
   "title_sidebar": "Contents",
   "toc_cell": true,
   "toc_position": {
    "height": "calc(100% - 180px)",
    "left": "10px",
    "top": "150px",
    "width": "384px"
   },
   "toc_section_display": true,
   "toc_window_display": true
  }
 },
 "nbformat": 4,
 "nbformat_minor": 5
}
