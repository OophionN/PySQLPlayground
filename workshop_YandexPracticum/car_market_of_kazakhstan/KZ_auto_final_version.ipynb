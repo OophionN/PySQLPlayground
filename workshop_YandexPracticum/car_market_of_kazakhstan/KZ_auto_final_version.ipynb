{
 "cells": [
  {
   "cell_type": "markdown",
   "id": "24d705ee",
   "metadata": {
    "toc": true
   },
   "source": [
    "<h1>Table of Contents<span class=\"tocSkip\"></span></h1>\n",
    "<div class=\"toc\"><ul class=\"toc-item\"><li><span><a href=\"#Описание-проекта\" data-toc-modified-id=\"Описание-проекта-1\"><span class=\"toc-item-num\">1&nbsp;&nbsp;</span><font face=\"liberation serif\" size=\"5\">Описание проекта</font></a></span><ul class=\"toc-item\"><li><span><a href=\"#Описание-данных.\" data-toc-modified-id=\"Описание-данных.-1.1\"><span class=\"toc-item-num\">1.1&nbsp;&nbsp;</span><font face=\"liberation serif\" size=\"4\">Описание данных.</font></a></span></li><li><span><a href=\"#Описание-задачи\" data-toc-modified-id=\"Описание-задачи-1.2\"><span class=\"toc-item-num\">1.2&nbsp;&nbsp;</span><font face=\"liberation serif\" size=\"4\">Описание задачи</font></a></span></li></ul></li><li><span><a href=\"#Общая-подготовка\" data-toc-modified-id=\"Общая-подготовка-2\"><span class=\"toc-item-num\">2&nbsp;&nbsp;</span><font face=\"liberation serif\" size=\"5\">Общая подготовка</font></a></span><ul class=\"toc-item\"><li><span><a href=\"#Используем-стандартные-проверки,-с-использованием-шаблонных-функций-(заготовки-прошлых-периодов)\" data-toc-modified-id=\"Используем-стандартные-проверки,-с-использованием-шаблонных-функций-(заготовки-прошлых-периодов)-2.1\"><span class=\"toc-item-num\">2.1&nbsp;&nbsp;</span>Используем стандартные проверки, с использованием шаблонных функций (заготовки прошлых периодов)</a></span><ul class=\"toc-item\"><li><span><a href=\"#Изучим-наполнение-датасета\" data-toc-modified-id=\"Изучим-наполнение-датасета-2.1.1\"><span class=\"toc-item-num\">2.1.1&nbsp;&nbsp;</span>Изучим наполнение датасета</a></span></li><li><span><a href=\"#Провека-на-очевидные-дубликаты-и-пропуски\" data-toc-modified-id=\"Провека-на-очевидные-дубликаты-и-пропуски-2.1.2\"><span class=\"toc-item-num\">2.1.2&nbsp;&nbsp;</span>Провека на очевидные дубликаты и пропуски</a></span></li></ul></li><li><span><a href=\"#Обработка-пропусков.\" data-toc-modified-id=\"Обработка-пропусков.-2.2\"><span class=\"toc-item-num\">2.2&nbsp;&nbsp;</span><font face=\"liberation serif\" size=\"5\">Обработка пропусков.</font></a></span><ul class=\"toc-item\"><li><span><a href=\"#Объем-двигателя.\" data-toc-modified-id=\"Объем-двигателя.-2.2.1\"><span class=\"toc-item-num\">2.2.1&nbsp;&nbsp;</span>Объем двигателя.</a></span></li><li><span><a href=\"#Год-выпуска.\" data-toc-modified-id=\"Год-выпуска.-2.2.2\"><span class=\"toc-item-num\">2.2.2&nbsp;&nbsp;</span>Год выпуска.</a></span></li><li><span><a href=\"#Тип-топлива\" data-toc-modified-id=\"Тип-топлива-2.2.3\"><span class=\"toc-item-num\">2.2.3&nbsp;&nbsp;</span>Тип топлива</a></span></li><li><span><a href=\"#Коробка-передач\" data-toc-modified-id=\"Коробка-передач-2.2.4\"><span class=\"toc-item-num\">2.2.4&nbsp;&nbsp;</span>Коробка передач</a></span></li><li><span><a href=\"#Тип-привода\" data-toc-modified-id=\"Тип-привода-2.2.5\"><span class=\"toc-item-num\">2.2.5&nbsp;&nbsp;</span>Тип привода</a></span></li><li><span><a href=\"#Итоги-чистки\" data-toc-modified-id=\"Итоги-чистки-2.2.6\"><span class=\"toc-item-num\">2.2.6&nbsp;&nbsp;</span>Итоги чистки</a></span></li></ul></li><li><span><a href=\"#Обработка-типов.\" data-toc-modified-id=\"Обработка-типов.-2.3\"><span class=\"toc-item-num\">2.3&nbsp;&nbsp;</span><font face=\"liberation serif\" size=\"5\">Обработка типов.</font></a></span><ul class=\"toc-item\"><li><span><a href=\"#Кодировка-стран\" data-toc-modified-id=\"Кодировка-стран-2.3.1\"><span class=\"toc-item-num\">2.3.1&nbsp;&nbsp;</span>Кодировка стран</a></span></li></ul></li><li><span><a href=\"#Анализ-данных.\" data-toc-modified-id=\"Анализ-данных.-2.4\"><span class=\"toc-item-num\">2.4&nbsp;&nbsp;</span><font face=\"liberation serif\" size=\"5\">Анализ данных.</font></a></span><ul class=\"toc-item\"><li><span><a href=\"#Визуализация-даных-для-исследования\" data-toc-modified-id=\"Визуализация-даных-для-исследования-2.4.1\"><span class=\"toc-item-num\">2.4.1&nbsp;&nbsp;</span>Визуализация даных для исследования</a></span></li><li><span><a href=\"#Топ-продаж-по-медиативной-цене-и-количество-проданных-авто\" data-toc-modified-id=\"Топ-продаж-по-медиативной-цене-и-количество-проданных-авто-2.4.2\"><span class=\"toc-item-num\">2.4.2&nbsp;&nbsp;</span>Топ продаж по медиативной цене и количество проданных авто</a></span><ul class=\"toc-item\"><li><span><a href=\"#Срез-для-выявления-покупок-для-частных-целей,-и-визуализация-результатов\" data-toc-modified-id=\"Срез-для-выявления-покупок-для-частных-целей,-и-визуализация-результатов-2.4.2.1\"><span class=\"toc-item-num\">2.4.2.1&nbsp;&nbsp;</span>Срез для выявления покупок для частных целей, и визуализация результатов</a></span></li><li><span><a href=\"#Топ-10-бренды-по-количеству-приобретенных-авто\" data-toc-modified-id=\"Топ-10-бренды-по-количеству-приобретенных-авто-2.4.2.2\"><span class=\"toc-item-num\">2.4.2.2&nbsp;&nbsp;</span>Топ-10 бренды по количеству приобретенных авто</a></span></li></ul></li><li><span><a href=\"#Динамика-продаж-по-рынку,-в-штуках-и-в-денежном-выражении.\" data-toc-modified-id=\"Динамика-продаж-по-рынку,-в-штуках-и-в-денежном-выражении.-2.4.3\"><span class=\"toc-item-num\">2.4.3&nbsp;&nbsp;</span>Динамика продаж по рынку, в штуках и в денежном выражении.</a></span></li><li><span><a href=\"#Посмотрим-детальнее-на-динамику,-по-типам:-брендов,-топлива,-приводу,-классу,-региону,-автоцентру-и-сегменту\" data-toc-modified-id=\"Посмотрим-детальнее-на-динамику,-по-типам:-брендов,-топлива,-приводу,-классу,-региону,-автоцентру-и-сегменту-2.4.4\"><span class=\"toc-item-num\">2.4.4&nbsp;&nbsp;</span>Посмотрим детальнее на динамику, по типам: брендов, топлива, приводу, классу, региону, автоцентру и сегменту</a></span><ul class=\"toc-item\"><li><span><a href=\"#Бренд\" data-toc-modified-id=\"Бренд-2.4.4.1\"><span class=\"toc-item-num\">2.4.4.1&nbsp;&nbsp;</span>Бренд</a></span></li><li><span><a href=\"#Автоцентр\" data-toc-modified-id=\"Автоцентр-2.4.4.2\"><span class=\"toc-item-num\">2.4.4.2&nbsp;&nbsp;</span>Автоцентр</a></span></li><li><span><a href=\"#Регион\" data-toc-modified-id=\"Регион-2.4.4.3\"><span class=\"toc-item-num\">2.4.4.3&nbsp;&nbsp;</span>Регион</a></span></li><li><span><a href=\"#Тип-топлива\" data-toc-modified-id=\"Тип-топлива-2.4.4.4\"><span class=\"toc-item-num\">2.4.4.4&nbsp;&nbsp;</span>Тип топлива</a></span></li><li><span><a href=\"#Класс\" data-toc-modified-id=\"Класс-2.4.4.5\"><span class=\"toc-item-num\">2.4.4.5&nbsp;&nbsp;</span>Класс</a></span></li><li><span><a href=\"#Привод\" data-toc-modified-id=\"Привод-2.4.4.6\"><span class=\"toc-item-num\">2.4.4.6&nbsp;&nbsp;</span>Привод</a></span></li><li><span><a href=\"#Сегмент\" data-toc-modified-id=\"Сегмент-2.4.4.7\"><span class=\"toc-item-num\">2.4.4.7&nbsp;&nbsp;</span>Сегмент</a></span></li></ul></li><li><span><a href=\"#Исследование-средних-показателей-по-брендам-и-маркам\" data-toc-modified-id=\"Исследование-средних-показателей-по-брендам-и-маркам-2.4.5\"><span class=\"toc-item-num\">2.4.5&nbsp;&nbsp;</span>Исследование средних показателей по брендам и маркам</a></span></li><li><span><a href=\"#Емкость-рынка\" data-toc-modified-id=\"Емкость-рынка-2.4.6\"><span class=\"toc-item-num\">2.4.6&nbsp;&nbsp;</span>Емкость рынка</a></span></li><li><span><a href=\"#Оценим-долю-рынка-на-примере-компании-mercur-auto\" data-toc-modified-id=\"Оценим-долю-рынка-на-примере-компании-mercur-auto-2.4.7\"><span class=\"toc-item-num\">2.4.7&nbsp;&nbsp;</span>Оценим долю рынка на примере компании mercur auto</a></span><ul class=\"toc-item\"><li><span><a href=\"#Расчет-общей-доли-на-рынке-у-mercur-auto-(количественном-и-стоимостном-выражении)\" data-toc-modified-id=\"Расчет-общей-доли-на-рынке-у-mercur-auto-(количественном-и-стоимостном-выражении)-2.4.7.1\"><span class=\"toc-item-num\">2.4.7.1&nbsp;&nbsp;</span>Расчет общей доли на рынке у mercur auto (количественном и стоимостном выражении)</a></span></li><li><span><a href=\"#Hасчета-доли-рынка-mercur-auto-по-маркам\" data-toc-modified-id=\"Hасчета-доли-рынка-mercur-auto-по-маркам-2.4.7.2\"><span class=\"toc-item-num\">2.4.7.2&nbsp;&nbsp;</span>Hасчета доли рынка mercur auto по маркам</a></span></li><li><span><a href=\"#Рассчитаем-долю-рынка-mercur-auto-по-классам\" data-toc-modified-id=\"Рассчитаем-долю-рынка-mercur-auto-по-классам-2.4.7.3\"><span class=\"toc-item-num\">2.4.7.3&nbsp;&nbsp;</span>Рассчитаем долю рынка mercur auto по классам</a></span></li></ul></li><li><span><a href=\"#Рассчет-для-mercur-auto-в-части-конкурентов\" data-toc-modified-id=\"Рассчет-для-mercur-auto-в-части-конкурентов-2.4.8\"><span class=\"toc-item-num\">2.4.8&nbsp;&nbsp;</span>Рассчет для mercur auto в части конкурентов</a></span><ul class=\"toc-item\"><li><span><a href=\"#Определение-ближайших-конкурентов-для-&quot;mercur-auto&quot;:\" data-toc-modified-id=\"Определение-ближайших-конкурентов-для-&quot;mercur-auto&quot;:-2.4.8.1\"><span class=\"toc-item-num\">2.4.8.1&nbsp;&nbsp;</span>Определение ближайших конкурентов для \"mercur auto\":</a></span></li><li><span><a href=\"#Распределение-продаж-по-месяцам-или-годам-для-'mercur-auto'-и-их-основных-конкурентов\" data-toc-modified-id=\"Распределение-продаж-по-месяцам-или-годам-для-'mercur-auto'-и-их-основных-конкурентов-2.4.8.2\"><span class=\"toc-item-num\">2.4.8.2&nbsp;&nbsp;</span>Распределение продаж по месяцам или годам для 'mercur auto' и их основных конкурентов</a></span></li><li><span><a href=\"#Распределение-продаж-по-регионам,-брендам-и-классам\" data-toc-modified-id=\"Распределение-продаж-по-регионам,-брендам-и-классам-2.4.8.3\"><span class=\"toc-item-num\">2.4.8.3&nbsp;&nbsp;</span>Распределение продаж по регионам, брендам и классам</a></span></li></ul></li></ul></li><li><span><a href=\"#Итоговые-выводы.\" data-toc-modified-id=\"Итоговые-выводы.-2.5\"><span class=\"toc-item-num\">2.5&nbsp;&nbsp;</span><font face=\"liberation serif\" size=\"5\">Итоговые выводы.</font></a></span></li></ul></li></ul></div>"
   ]
  },
  {
   "cell_type": "markdown",
   "id": "3c3bfccc",
   "metadata": {},
   "source": [
    "# <font face='liberation serif' size=5>Описание проекта</font>\n",
    "\n",
    "<font face='liberation serif' size=4>*Проект от Мастерской Яндекс - \"Исследование авторынка Казахстана\". Для исследования используются данные за 2019 год.*</font>"
   ]
  },
  {
   "cell_type": "markdown",
   "id": "31f1f4dd",
   "metadata": {},
   "source": [
    "## <font face='liberation serif' size=4>Описание данных.</font>\n",
    "\n",
    "<font face='liberation serif' size=4>Датасет с данными по продажам автомобилей в Казахстане за 2019 год. Данные получены из\n",
    "официальной статистики VAG, после перевода из эксель в csv обнаружились множественные\n",
    "проблемы с исходными данными: некорректные разделители десятичных разрядов, несоответствие\n",
    "данных типу данных. Дополнительной проблемой является то, что статистику собирал не один\n",
    "человек, поэтому есть неявные дубликаты - например, 4WD, 4 WD и 4-WD, а также одни и те же\n",
    "признаки могут быть записаны как на русском, так и на английском языке. Также необходимо\n",
    "очистить датасет от лишних столбцов, которые используют технические специалисты, но которые не\n",
    "нужны в управленческом учете.</font>\n",
    "\n",
    "<font face='liberation serif' size=4>\n",
    "    \n",
    "- Год – год продажи;   \n",
    "- Месяц – месяц продажи;\n",
    "- Компания – название автоцентра;\n",
    "- Бренд – название продаваемой марки автомобиля;\n",
    "- Модель – название модели автомобиля;\n",
    "- Модификация – модификация модели автомобиля;\n",
    "- Год выпуска – год производства автомобиля;\n",
    "- Страна-производитель – страна, где произведен автомобиль;\n",
    "- Вид топлива – вид топлива, который использует автомобиль;\n",
    "- Объём двиг л – объем двигателя автомобиля в литрах;\n",
    "- Коробка передач – тип коробки переключения передач;\n",
    "- Тип привода – тип привода автомобиля;\n",
    "- Сегмент – сегмент, к которому относится автомобиль;\n",
    "- Регион – регион продажи;\n",
    "- Наименование дилерского центра – наименование автоцентра;\n",
    "- Тип клиента – юридическое или физическое лицо;\n",
    "- Форма расчета – наличный и безналичный расчет;\n",
    "- Количество – количество автомобилей в заказе;\n",
    "- Цена USD – цена автомобиля в долларах США;\n",
    "- Продажа USD – цена заказа (цена авто умноженная на количество и за вычетом скидок если есть);\n",
    "- Область – область продажи;\n",
    "- Сегментация 2013 – сегмент автомобиля актуальный;\n",
    "- Класс 2013 – класс автомобиля актуальный;\n",
    "- Сегментация Eng – английская сегментация;\n",
    "- Локализация производства – где произведен автомобиль;\n",
    "\n",
    "Признаки-категории:\n",
    "- сегмент\n",
    "- класс\n",
    "- тип привода\n",
    "- коробка передач</font>"
   ]
  },
  {
   "cell_type": "markdown",
   "id": "14a20488",
   "metadata": {},
   "source": [
    "## <font face='liberation serif' size=4>Описание задачи</font>\n",
    "\n",
    "<font face='liberation serif' size=4>*Вводная:* Вы являетесь аналитиком в компании <font color='darkblue'><b>ORBIS AUTO</b></font> и перед вами стоят следующие задачи при проведении исследования предоставленного датасета:\n",
    "\n",
    "<font face='liberation serif' size=4>\n",
    "    \n",
    "1. Очистить данные.\n",
    "2. Исследовательский анализ данных:\n",
    "    - Столбцы;\n",
    "    - Строки;\n",
    "    - Анализ дубликатов;\n",
    "    - Анализ пропусков;\n",
    "    - Проанализировать тип данных в каждом столбце, используя python типы и экспертные знания; \n",
    "    - Изменение типа данных и кодирование переменных;\n",
    "    - Анализ числовых признаков;\n",
    "    - Анализ категориальных признаков.\n",
    "3. Проанализировать рынок.\n",
    "4. Посчитать показатели:\n",
    "    - Прибыль и выручка\n",
    "    - Рынок\n",
    "    - Конкуренты\n",
    "5. Сделать выводы / дать рекомендации</font>"
   ]
  },
  {
   "cell_type": "markdown",
   "id": "865d480c",
   "metadata": {},
   "source": [
    "# <font face='liberation serif' size=5>Общая подготовка\n",
    "<font face='liberation serif' size=4>Установка библиотек</font>"
   ]
  },
  {
   "cell_type": "code",
   "execution_count": null,
   "id": "eed2bc5e",
   "metadata": {},
   "outputs": [],
   "source": [
    "#!pip install tabulate\n",
    "#plt.close('all')\n",
    "#!pip install pandas_profiling\n",
    "#!pip install gdown"
   ]
  },
  {
   "cell_type": "markdown",
   "id": "51d37152",
   "metadata": {},
   "source": [
    "<font face='liberation serif' size=4>Обновление библиотек</font>"
   ]
  },
  {
   "cell_type": "code",
   "execution_count": null,
   "id": "5cd586a0",
   "metadata": {},
   "outputs": [],
   "source": [
    "#!pip install -qU pandas seaborn\n",
    "#!pip install -qU pandas\n",
    "#!pip install -qU seaborn"
   ]
  },
  {
   "cell_type": "markdown",
   "id": "4166c2ae",
   "metadata": {},
   "source": [
    "<font face='liberation serif' size=4>Загрузка библиотек</font>"
   ]
  },
  {
   "cell_type": "code",
   "execution_count": null,
   "id": "5310a993",
   "metadata": {
    "scrolled": true
   },
   "outputs": [],
   "source": [
    "import pandas as pd\n",
    "import numpy as np\n",
    "import re\n",
    "from math import ceil\n",
    "from datetime import datetime, timedelta\n",
    "import matplotlib.pyplot as plt\n",
    "from matplotlib.dates import DateFormatter\n",
    "from matplotlib import colors\n",
    "import plotly.graph_objects as go\n",
    "import plotly.express as px\n",
    "from scipy.stats import gaussian_kde\n",
    "from plotly.subplots import make_subplots\n",
    "from scipy.optimize import curve_fit\n",
    "import seaborn as sns\n",
    "from tabulate import tabulate\n",
    "from typing import NoReturn\n",
    "\n",
    "from statistics import mode\n",
    "from scipy.stats import mode\n",
    "from sklearn.preprocessing import LabelEncoder\n",
    "from pandas_profiling import ProfileReport\n",
    "import gdown\n",
    "import warnings\n",
    "warnings.filterwarnings(\"ignore\")"
   ]
  },
  {
   "cell_type": "markdown",
   "id": "6b080d48",
   "metadata": {},
   "source": [
    "<font face='liberation serif' size=4>Настройка параметров</font>"
   ]
  },
  {
   "cell_type": "code",
   "execution_count": null,
   "id": "bac91a87",
   "metadata": {},
   "outputs": [],
   "source": [
    "# опции картинок \n",
    "plt.rcParams[\"font.family\"] = \"Arial\"\n",
    "plt.rcParams['figure.figsize'] = (15, 8) "
   ]
  },
  {
   "cell_type": "code",
   "execution_count": null,
   "id": "813217e9",
   "metadata": {},
   "outputs": [],
   "source": [
    "# опции табличек \n",
    "pd.set_option('display.max_columns', 100)\n",
    "pd.set_option('display.max_rows', 500)\n",
    "pd.set_option('display.max_colwidth', 1000)"
   ]
  },
  {
   "cell_type": "code",
   "execution_count": null,
   "id": "8b6d009a",
   "metadata": {},
   "outputs": [],
   "source": [
    "try:\n",
    "    data = pd.read_csv('/Users/PC_Maks/Desktop/study/workshop_yandex/kz_2019_final_all_dirt.csv',sep = \",\", index_col=0)\n",
    "    \n",
    "except: \n",
    "    url = 'https://drive.google.com/uc?id=168eBeLZX8qZ2be1f6xdO1DXYd_GlpZT7'\n",
    "    file_path = 'data.csv'\n",
    "    gdown.download(url, file_path)\n",
    "    data = pd.read_csv(file_path, sep=',', index_col=0)"
   ]
  },
  {
   "cell_type": "code",
   "execution_count": null,
   "id": "84a5329c",
   "metadata": {},
   "outputs": [],
   "source": [
    "data.sample(10)"
   ]
  },
  {
   "cell_type": "code",
   "execution_count": null,
   "id": "ee1ec7ee",
   "metadata": {
    "scrolled": true
   },
   "outputs": [],
   "source": [
    "data.info()"
   ]
  },
  {
   "cell_type": "markdown",
   "id": "437596c4",
   "metadata": {},
   "source": [
    "<font face='liberation serif' size=4>Имеются пропуски, будем решать что с ними делать по мере проведения исследования, а вот типы данных поправим сейчас"
   ]
  },
  {
   "cell_type": "markdown",
   "id": "33a1c99e",
   "metadata": {},
   "source": [
    "<font face='liberation serif' size=4>Для начала приведем названия столбцов к питоническому формату, а потом обработаем столбцы \"год\" и \"месяц\" "
   ]
  },
  {
   "cell_type": "code",
   "execution_count": null,
   "id": "9bfbe953",
   "metadata": {},
   "outputs": [],
   "source": [
    "def data_preprocessing(data):\n",
    "    \"\"\"\n",
    "    Производит предварительную обработку данных, модифицируя заголовки столбцов и строковые значения.\n",
    "\n",
    "    Параметры:\n",
    "    - data (DataFrame): исходный DataFrame, который требуется предобработать.\n",
    "\n",
    "    Основные шаги функции:\n",
    "    1. Преобразует заголовки столбцов к нижнему регистру и заменяет пробелы на нижние подчеркивания.\n",
    "    2. Преобразует строковые значения всех столбцов к нижнему регистру.\n",
    "\n",
    "    Возвращает:\n",
    "    - DataFrame: предобработанный DataFrame с модифицированными заголовками столбцов и строковыми значениями.\n",
    "\n",
    "    Пример:\n",
    "    >>> data = pd.DataFrame({\"First Name\": [\"John\", \"JANE\"], \"Last Name\": [\"DOE\", \"SMITH\"]})\n",
    "    >>> data_preprocessing(data)\n",
    "       first_name last_name\n",
    "    0       john       doe\n",
    "    1       jane     smith\n",
    "    \"\"\"\n",
    "\n",
    "    data.columns = data.columns.str.lower().str.replace(' ', '_')\n",
    "    data = data.apply(lambda x: x.str.lower() if x.dtype == \"object\" else x)\n",
    "\n",
    "    return data"
   ]
  },
  {
   "cell_type": "code",
   "execution_count": null,
   "id": "b58df8c7",
   "metadata": {
    "scrolled": true
   },
   "outputs": [],
   "source": [
    "data = data_preprocessing (data)"
   ]
  },
  {
   "cell_type": "code",
   "execution_count": null,
   "id": "7af467e4",
   "metadata": {},
   "outputs": [],
   "source": [
    "data.info()"
   ]
  },
  {
   "cell_type": "code",
   "execution_count": null,
   "id": "bac34f57",
   "metadata": {},
   "outputs": [],
   "source": [
    "month_dict = {\n",
    "    'январь': '01',\n",
    "    'февраль': '02',\n",
    "    'март': '03',\n",
    "    'апрель': '04',\n",
    "    'май': '05',\n",
    "    'июнь': '06',\n",
    "    'июль': '07',\n",
    "    'август': '08',\n",
    "    'сентябрь': '09',\n",
    "    'октябрь': '10',\n",
    "    'ноябрь': '11',\n",
    "    'декабрь': '12'\n",
    "}\n",
    "\n",
    "data['месяц'] = data['месяц'].map(month_dict)\n",
    "\n",
    "data['дата'] = pd.to_datetime(data['год'].astype(str) + '-' + data['месяц'], format='%Y-%m')\n"
   ]
  },
  {
   "cell_type": "code",
   "execution_count": null,
   "id": "aea52d0a",
   "metadata": {},
   "outputs": [],
   "source": [
    "# удалим сразу старые столбцы 'год' и 'месяц', а также столбцы которые нам не потребуются для исследования\n",
    "# \"модификация\", \"сегмент\", \"наименование_дилерского_центра\", \"форма_расчета\", \"сегментация_eng\", \"локализация_производства\"\n",
    "data.drop(columns=['год', 'месяц', 'модификация', 'сегмент', 'наименование_дилерского_центра', 'форма_расчета',\\\n",
    "                   'сегментация_eng', 'тип_клиента', 'область', 'локализация_производства'], inplace=True)"
   ]
  },
  {
   "cell_type": "markdown",
   "id": "226e8b0b",
   "metadata": {},
   "source": [
    "<font face='liberation serif' size=4>Скорректируем название столбцов, для удобства"
   ]
  },
  {
   "cell_type": "code",
   "execution_count": null,
   "id": "d8bb37c2",
   "metadata": {},
   "outputs": [],
   "source": [
    "data.shape"
   ]
  },
  {
   "cell_type": "code",
   "execution_count": null,
   "id": "c3ef6e8c",
   "metadata": {
    "scrolled": true
   },
   "outputs": [],
   "source": [
    "data.columns"
   ]
  },
  {
   "cell_type": "code",
   "execution_count": null,
   "id": "6999b31f",
   "metadata": {},
   "outputs": [],
   "source": [
    "data = data.rename(columns={'страна-производитель': 'страна_производитель', 'вид_топлива': 'топливо',\\\n",
    "                        'объём_двиг,_л,':'объем_двигателя', 'цена,_usd':'цена',\\\n",
    "                        'продажа,_usd':'продажа', 'сегментация_2013':'сегментация', 'класс_2013':'класс'})"
   ]
  },
  {
   "cell_type": "code",
   "execution_count": null,
   "id": "9fb901dd",
   "metadata": {},
   "outputs": [],
   "source": [
    "old_cols=data.columns.tolist()\n",
    "new_cols = ['company',\n",
    " 'brand',\n",
    " 'model',\n",
    " 'year_of_production',\n",
    " 'country',\n",
    " 'fuel',\n",
    " 'engine',\n",
    " 'transmission',\n",
    " 'drive_type',\n",
    " 'region',\n",
    " 'quantity',\n",
    " 'price',\n",
    " 'sale',\n",
    " 'segmentation',\n",
    " 'class_2013', \n",
    "           'date'\n",
    "]\n",
    "\n",
    "cols_change_dict = {i: v for i, v in zip (old_cols, new_cols)}\n",
    "data.rename(columns=cols_change_dict, inplace=True)\n"
   ]
  },
  {
   "cell_type": "markdown",
   "id": "e64b2d22",
   "metadata": {},
   "source": [
    "<font face='liberation serif' size=4>Проведем замену названий на более удобные в использовании, с учетом питонического формата"
   ]
  },
  {
   "cell_type": "code",
   "execution_count": null,
   "id": "01d4cfed",
   "metadata": {},
   "outputs": [],
   "source": [
    "data.shape"
   ]
  },
  {
   "cell_type": "markdown",
   "id": "a158121d",
   "metadata": {},
   "source": [
    "## Используем стандартные проверки, с использованием шаблонных функций (заготовки прошлых периодов)"
   ]
  },
  {
   "cell_type": "markdown",
   "id": "f728844b",
   "metadata": {},
   "source": [
    "### Изучим наполнение датасета "
   ]
  },
  {
   "cell_type": "code",
   "execution_count": null,
   "id": "f106e2fb",
   "metadata": {},
   "outputs": [],
   "source": [
    "def check_unique(data):\n",
    "    \"\"\"\n",
    "    Выводит уникальные значения и их количество для строковых столбцов, \n",
    "    диапазон значений для числовых и даты/времени столбцов, а также уникальные значения \n",
    "    для числовых столбцов, где уникальных значений не более 10.\n",
    "\n",
    "    Параметры:\n",
    "    - data (DataFrame): DataFrame, значения которого необходимо проверить.\n",
    "\n",
    "    Возвращает:\n",
    "    - None: Функция выводит информацию напрямую в ячейку выполнения кода.\n",
    "\n",
    "        \"\"\"\n",
    "    for col in data.select_dtypes(include=['object']):\n",
    "        print(f\"Уникальные значения в столбце {col}:\")\n",
    "        print(data[col].unique())\n",
    "        print(f\"Количество уникальных значений: {data[col].nunique()}\")\n",
    "        print('---------------------')\n",
    "\n",
    "    for col in data.select_dtypes(include=['datetime64', 'float64', 'int64']):\n",
    "        print(f\"Диапазон значений в столбце {col}:\")\n",
    "        print(f\"Минимальное значение: {data[col].min()}\")\n",
    "        print(f\"Максимальное значение: {data[col].max()}\")\n",
    "        print('---------------------')\n",
    "\n",
    "    for col in data.select_dtypes(include=['int64', 'float64']):\n",
    "        if len(data[col].unique()) > 10:\n",
    "            print(f\"В столбце {col} более 10 уникальных значений\")\n",
    "        else:\n",
    "            print(f\"Уникальные значения в столбце {col}:\")\n",
    "            print(data[col].unique())\n",
    "        print(f\"Количество уникальных значений: {data[col].nunique()}\")\n",
    "        print('---------------------')"
   ]
  },
  {
   "cell_type": "code",
   "execution_count": null,
   "id": "0972b1f0",
   "metadata": {
    "scrolled": false
   },
   "outputs": [],
   "source": [
    "check_unique(data)"
   ]
  },
  {
   "cell_type": "markdown",
   "id": "c7f0bccc",
   "metadata": {},
   "source": [
    "<font face='liberation serif' size=4>Пропусков хватает((( посмотрим внимательнее на проспуски"
   ]
  },
  {
   "cell_type": "markdown",
   "id": "f61bd73c",
   "metadata": {},
   "source": [
    "### Провека на очевидные дубликаты и пропуски "
   ]
  },
  {
   "cell_type": "code",
   "execution_count": null,
   "id": "0bee5029",
   "metadata": {},
   "outputs": [],
   "source": [
    "def check(data):\n",
    "    \"\"\"\n",
    "    Проверяет DataFrame на наличие дубликатов и пропусков, выводит соответствующую информацию.\n",
    "    В случае наличия дубликатов удаляет их из исходного датасета.\n",
    "\n",
    "    Параметры:\n",
    "    - data (DataFrame): DataFrame, который необходимо проверить.\n",
    "\n",
    "    Возвращает:\n",
    "    - None: Функция выводит информацию напрямую в консоль.\n",
    "    Прим. Удаление дубликатов отключено в данном проекте, с учетом комментариев тимлида об уникальности данных.\n",
    "    \n",
    "    \"\"\"\n",
    "    try:\n",
    "        \n",
    "        display('Проверка на дубликаты:')\n",
    "        duplicates = data.duplicated()\n",
    "        duplicate_rows = data.loc[duplicates]\n",
    "        display(duplicate_rows.info())\n",
    "        display(duplicate_rows.sample())\n",
    "        display('----------------------')\n",
    "        display('Пропуски:')\n",
    "        display(data.isna().sum())\n",
    "        display('Пропуски в процентном отношении к всему датасету:')\n",
    "        display(data.isna().sum() / len(data) * 100)\n",
    "\n",
    "        \n",
    "    except Exception as e:\n",
    "        print(f'ERROR: {e}')"
   ]
  },
  {
   "cell_type": "code",
   "execution_count": null,
   "id": "0d07e6aa",
   "metadata": {
    "scrolled": true
   },
   "outputs": [],
   "source": [
    "check(data)"
   ]
  },
  {
   "cell_type": "markdown",
   "id": "3e02b770",
   "metadata": {},
   "source": [
    "<font face='liberation serif' size=4>Несмотря на, результаты проверки на дубли (15К), взяв во внимание уточнение от тех, кто формировал выгрузку, что дублей по VIN не было, считаем что все авто уникальные.\n",
    "сейчас принимаю решение попробовать заполнить пропуски с учетом имеющихся данных (взять модели авто и год выпуска, и по аналогии с имеющимися данными заполнить пропуски в топливе, объеме, типе КПП, привода), допускаю некоторую неточность, но учитывая что в указанных столбцах пропуски не превышают 6%, считаю это допустимым. но для начала нужно \"причесать\" столбцы с пропусками"
   ]
  },
  {
   "cell_type": "markdown",
   "id": "6eefa2f3",
   "metadata": {},
   "source": [
    "## <font face='liberation serif' size=5>Обработка пропусков.</font>"
   ]
  },
  {
   "cell_type": "markdown",
   "id": "52dbcd14",
   "metadata": {},
   "source": [
    "### Объем двигателя.\n",
    "<font face='liberation serif' size=4>Прийдется использовать функцию, но для начала подготовим данные, выставим заглушку и заменим тип на float"
   ]
  },
  {
   "cell_type": "code",
   "execution_count": null,
   "id": "73232d40",
   "metadata": {},
   "outputs": [],
   "source": [
    "def process_volume(volume):\n",
    "    \"\"\"\n",
    "    Обрабатывает значения объема (двигателя), приводя их к стандартному формату.\n",
    "\n",
    "    Функция выполняет следующие действия:\n",
    "    - Убирает ненужные символы.\n",
    "    - Преобразует значения, указанные в миллилитрах, в литры.\n",
    "    - Заменяет пропуски или значения, равные 0, на 77.\n",
    "    \n",
    "    Параметры:\n",
    "    - volume (str, int, float): Значение объема, которое необходимо обработать.\n",
    "\n",
    "    Возвращает:\n",
    "    - float: Обработанное значение объема в литрах с округлением до десятых.\n",
    "    \"\"\"\n",
    "    if isinstance(volume, str):\n",
    "        \n",
    "        volume = re.sub(r'[^\\d.,]', '', volume)\n",
    "        volume = re.sub(',', '.', volume)\n",
    "        if '.' not in volume and len(volume) > 3:\n",
    "            volume = float(volume) / 1000\n",
    "        else:\n",
    "            volume = float(volume)\n",
    "\n",
    "        volume = round(volume, 1)\n",
    "\n",
    "    elif (isinstance(volume, int) or isinstance(volume, float)) and not np.isnan(volume):\n",
    "        if volume > 100:  # Если значение указано в миллилитрах\n",
    "            volume /= 1000\n",
    "\n",
    "        volume = round(volume, 1)\n",
    "\n",
    "    # Заменяем пропуски на значение 77\n",
    "    if pd.isnull(volume) or volume == 0:\n",
    "        volume = 77\n",
    "\n",
    "    return volume"
   ]
  },
  {
   "cell_type": "code",
   "execution_count": null,
   "id": "6f668cb4",
   "metadata": {},
   "outputs": [],
   "source": [
    "data.engine = data.engine.apply(process_volume)\n",
    "data.engine = data.engine.astype (float)\n",
    "data.engine.unique()"
   ]
  },
  {
   "cell_type": "code",
   "execution_count": null,
   "id": "3a1c8966",
   "metadata": {
    "scrolled": true
   },
   "outputs": [],
   "source": [
    "temp = data.engine.value_counts ().reset_index(drop=False)\n",
    "temp.sort_values (by='engine', ascending = False).reset_index(drop=True).head(1)"
   ]
  },
  {
   "cell_type": "markdown",
   "id": "8af624d4",
   "metadata": {},
   "source": [
    "<font face='liberation serif' size=4>Теперь можем приступить к заполнению пропусков (заглушек - 77)"
   ]
  },
  {
   "cell_type": "code",
   "execution_count": null,
   "id": "dca4a218",
   "metadata": {},
   "outputs": [],
   "source": [
    "# Замена всех 77 на NaN в столбце 'объем_двигателя'\n",
    "data.engine.replace(77, np.nan, inplace=True)\n",
    "\n",
    "# Группировка данных по модели и году выпуска\n",
    "grouped = data.groupby('model')\n",
    "\n",
    "# Заполнение пропусков в столбце 'объем_двигателя' минимальным значением по группам\n",
    "data.engine = grouped['engine'].transform(lambda x: x.fillna(x.min())).round(1)\n",
    "# выставим обратно заглушки на те значения, которые не заполнили в итоге\n",
    "data.engine.fillna(77, inplace=True)"
   ]
  },
  {
   "cell_type": "code",
   "execution_count": null,
   "id": "47938a99",
   "metadata": {
    "scrolled": false
   },
   "outputs": [],
   "source": [
    "temp = data.engine.value_counts ().reset_index(drop=False)\n",
    "temp.sort_values (by='engine', ascending = False).reset_index(drop=True).head(1)\n"
   ]
  },
  {
   "cell_type": "markdown",
   "id": "e49d8a19",
   "metadata": {},
   "source": [
    "<font face='liberation serif' size=4>Удалось заполнить только 1032 (пропуски и нули) значений, что тоже не плохо, мы снизили с 5.96 до 3,4 пропуски, остальное можем срезать"
   ]
  },
  {
   "cell_type": "code",
   "execution_count": null,
   "id": "580221c3",
   "metadata": {
    "scrolled": true
   },
   "outputs": [],
   "source": [
    "data = data.query('engine<50')\n",
    "data.engine.unique()"
   ]
  },
  {
   "cell_type": "markdown",
   "id": "5395c531",
   "metadata": {},
   "source": [
    "### Год выпуска.\n",
    "<font face='liberation serif' size=4>Пропуски в году выпуска, менее 1%, сильной роли не сыграют, но чтобы не терять даже эти данные, заменим на минимальные значение от модели"
   ]
  },
  {
   "cell_type": "code",
   "execution_count": null,
   "id": "fc6d383a",
   "metadata": {
    "scrolled": true
   },
   "outputs": [],
   "source": [
    "data.year_of_production.unique()"
   ]
  },
  {
   "cell_type": "code",
   "execution_count": null,
   "id": "3fa69815",
   "metadata": {},
   "outputs": [],
   "source": [
    "data.year_of_production = data.year_of_production.replace('\\xa0', ' ', regex=True)\n",
    "data.year_of_production = data.year_of_production.str.replace(' ', '')"
   ]
  },
  {
   "cell_type": "code",
   "execution_count": null,
   "id": "08ab4a30",
   "metadata": {},
   "outputs": [],
   "source": [
    "data.year_of_production.fillna(77, inplace=True)\n",
    "data.year_of_production = data.year_of_production.astype (int)\n",
    "#data = data.query('год_выпуска != 77')"
   ]
  },
  {
   "cell_type": "code",
   "execution_count": null,
   "id": "649908d3",
   "metadata": {
    "scrolled": true
   },
   "outputs": [],
   "source": [
    "grouped = data.groupby ('model')['year_of_production'].agg (mode).reset_index(inplace=False)\n",
    "grouped_exploded = grouped.explode('year_of_production')\n",
    "\n",
    "grouped_exploded.year_of_production = grouped_exploded.year_of_production.apply(lambda x: x[0])\n",
    "\n",
    "# Оставляем только столбцы 'модель' и 'год_выпуска'\n",
    "grouped_processed = grouped_exploded[['model', 'year_of_production']]\n",
    "grouped_processed = grouped_processed.query ('2000 < year_of_production <= 2019')\n",
    "grouped_processed.year_of_production.unique()"
   ]
  },
  {
   "cell_type": "code",
   "execution_count": null,
   "id": "9f19975b",
   "metadata": {},
   "outputs": [],
   "source": [
    "for index, row in grouped_processed.iterrows():\n",
    "    # Выбираем соответствующую модель в основной таблице data\n",
    "    model_fix = row['model']\n",
    "    # Получаем значение года выпуска из grouped_processed\n",
    "    year = row['year_of_production']\n",
    "    \n",
    "    # Обновляем значение года выпуска в основной таблице, если встречается 77\n",
    "    data.loc[(data.model == model_fix) & (data.year_of_production == 77), 'year_of_production'] = year\n",
    "    \n",
    "data.year_of_production.replace(77, np.nan, inplace=True)    \n",
    "    "
   ]
  },
  {
   "cell_type": "code",
   "execution_count": null,
   "id": "2fff41f8",
   "metadata": {
    "scrolled": true
   },
   "outputs": [],
   "source": [
    "check (data)"
   ]
  },
  {
   "cell_type": "markdown",
   "id": "6237a6f7",
   "metadata": {},
   "source": [
    "<font face='liberation serif' size=4>В результате манипуляций, количество пропусков в разделе год выпуска удалось снизить с 240 до 112, оставшиеся срезаем ( 0,35%)"
   ]
  },
  {
   "cell_type": "code",
   "execution_count": null,
   "id": "efc8f008",
   "metadata": {},
   "outputs": [],
   "source": [
    "data = data.query ('year_of_production > 2000').reset_index (drop=True)"
   ]
  },
  {
   "cell_type": "code",
   "execution_count": null,
   "id": "ef7fcae9",
   "metadata": {
    "scrolled": true
   },
   "outputs": [],
   "source": [
    "grouped_processed.year_of_production.unique()"
   ]
  },
  {
   "cell_type": "markdown",
   "id": "00a10e3e",
   "metadata": {},
   "source": [
    "### Тип топлива\n",
    "\n",
    "<font face='liberation serif' size=4>Сейчас пропусков 739, или 2,33%. Используем схему, которую использовали при обработке года выпуска"
   ]
  },
  {
   "cell_type": "code",
   "execution_count": null,
   "id": "d709074a",
   "metadata": {
    "scrolled": true
   },
   "outputs": [],
   "source": [
    "check (data)"
   ]
  },
  {
   "cell_type": "code",
   "execution_count": null,
   "id": "388d1b33",
   "metadata": {},
   "outputs": [],
   "source": [
    "data.fuel.unique()"
   ]
  },
  {
   "cell_type": "markdown",
   "id": "3d6f1974",
   "metadata": {},
   "source": [
    "<font face='liberation serif' size=4>Изменять записи не нужно, только убрать пробелы"
   ]
  },
  {
   "cell_type": "code",
   "execution_count": null,
   "id": "f283def1",
   "metadata": {},
   "outputs": [],
   "source": [
    "data.fuel = data.fuel.str.replace(' ', '')\n",
    "data.fuel.value_counts (dropna=False)"
   ]
  },
  {
   "cell_type": "markdown",
   "id": "6b1603b8",
   "metadata": {},
   "source": [
    "<font face='liberation serif' size=4>Проведем кодировку через словарь (настало время костылей)"
   ]
  },
  {
   "cell_type": "code",
   "execution_count": null,
   "id": "4cc8ecf5",
   "metadata": {},
   "outputs": [],
   "source": [
    "fuel_dict = {\n",
    "    'бензин': 'F',\n",
    "    'дизель': 'D',\n",
    "    'гибрид': 'HYB',\n",
    "    'газовый': 'E',\n",
    "    '0': 'not_defined'\n",
    "}\n",
    "\n",
    "data.fuel = data.fuel.map(fuel_dict)\n",
    "data.fuel.fillna ('not_defined', inplace=True)\n",
    "data.fuel.unique()"
   ]
  },
  {
   "cell_type": "code",
   "execution_count": null,
   "id": "813771f2",
   "metadata": {
    "scrolled": true
   },
   "outputs": [],
   "source": [
    "grouped = data.groupby('model')['fuel'].agg (mode).reset_index(inplace=False)\n",
    "grouped_exploded = grouped.explode('fuel')\n",
    "grouped_exploded.fuel = grouped_exploded.fuel.apply(lambda x: x[0])"
   ]
  },
  {
   "cell_type": "code",
   "execution_count": null,
   "id": "024f6958",
   "metadata": {
    "scrolled": true
   },
   "outputs": [],
   "source": [
    "list_code = ['F', 'D', 'HYB', 'E', 'not_defined']\n",
    "grouped_exploded = grouped_exploded.query ('fuel in @list_code')\n",
    "grouped_exploded.fuel.unique()"
   ]
  },
  {
   "cell_type": "code",
   "execution_count": null,
   "id": "a57ee0b4",
   "metadata": {},
   "outputs": [],
   "source": [
    "for index, row in grouped_exploded.iterrows():\n",
    "    # Выбираем соответствующую модель в основной таблице data\n",
    "    model_fix = row['model']\n",
    "    # Получаем значение типа топлива в grouped_exploded\n",
    "    fuel_fix = row['fuel']\n",
    "    \n",
    "    # Обновляем значение топлива выпуска в основной таблице\n",
    "    data.loc[(data.model == model_fix) & (data.fuel == 'not_defined'), 'fuel'] = fuel_fix\n",
    "    \n",
    "data.fuel.replace('not_defined', np.nan, inplace=True)  "
   ]
  },
  {
   "cell_type": "code",
   "execution_count": null,
   "id": "7f898ebf",
   "metadata": {
    "scrolled": true
   },
   "outputs": [],
   "source": [
    "check (data)"
   ]
  },
  {
   "cell_type": "code",
   "execution_count": null,
   "id": "7979e92e",
   "metadata": {},
   "outputs": [],
   "source": [
    "data.fuel.value_counts (dropna=False)"
   ]
  },
  {
   "cell_type": "code",
   "execution_count": null,
   "id": "f2732309",
   "metadata": {},
   "outputs": [],
   "source": [
    "data = data.dropna(subset='fuel').reset_index(drop=True)\n",
    "data.fuel.unique()"
   ]
  },
  {
   "cell_type": "markdown",
   "id": "c47ac384",
   "metadata": {},
   "source": [
    "<font face='liberation serif' size=4>Получилось немного заполнить пропуски в разделе топливо, из 739 (2,33%) изначальных, осталось 289 (0,91%), остальное срезали. "
   ]
  },
  {
   "cell_type": "markdown",
   "id": "836261a3",
   "metadata": {},
   "source": [
    "### Коробка передач\n",
    "<font face='liberation serif' size=4>Сейчас имеем 721 пропуск - 2.3%, используем знакомую схему со словарем, но для начала унифицируем типы, к пропускам отнесем также не указанные значения."
   ]
  },
  {
   "cell_type": "code",
   "execution_count": null,
   "id": "f41f4305",
   "metadata": {
    "scrolled": true
   },
   "outputs": [],
   "source": [
    "check (data)"
   ]
  },
  {
   "cell_type": "code",
   "execution_count": null,
   "id": "5ae65f66",
   "metadata": {},
   "outputs": [],
   "source": [
    "data.transmission.fillna('0', inplace=True)\n",
    "data.transmission.isna().sum ()"
   ]
  },
  {
   "cell_type": "code",
   "execution_count": null,
   "id": "a50461c6",
   "metadata": {},
   "outputs": [],
   "source": [
    "data.transmission.unique()"
   ]
  },
  {
   "cell_type": "code",
   "execution_count": null,
   "id": "d8451a14",
   "metadata": {
    "scrolled": false
   },
   "outputs": [],
   "source": [
    "def replacing_transmission_type (cell: str) -> str:\n",
    "    \"\"\"\n",
    "    Обработка значения коробки передач.\n",
    "\n",
    "    Параметры:\n",
    "    - cell (str): Исходное значение коробки передач.\n",
    "\n",
    "    Возвращает:\n",
    "    - str: 'mt' если коробка передач механическая,\n",
    "           'at' если коробка передач автоматическая,\n",
    "           'not_defined' если значение коробки передач не определено.\n",
    "    \"\"\"\n",
    "    mechanical_keywords = ['мт', 'mт', 'мt', 'mt', 'м/т', 'm/т', 'm/t', 'м/t',\\\n",
    "                           'мех.', 'мппк', 'мкпп', 'механика', 'механическая', 'm', 'м']\n",
    "\n",
    "    if cell in ['-', ' -', '0', 'n']:\n",
    "        return 'not_defined'\n",
    "    elif cell.lower() in mechanical_keywords:\n",
    "        return 'mt'\n",
    "    else:\n",
    "        return 'at'\n",
    "\n",
    "data.transmission = data.transmission.fillna('not_defined')\n",
    "data.transmission = data.transmission.apply(replacing_transmission_type)\n"
   ]
  },
  {
   "cell_type": "code",
   "execution_count": null,
   "id": "36c8eb79",
   "metadata": {},
   "outputs": [],
   "source": [
    "data.transmission.unique()"
   ]
  },
  {
   "cell_type": "code",
   "execution_count": null,
   "id": "9d1f9352",
   "metadata": {},
   "outputs": [],
   "source": [
    "data.transmission.value_counts (dropna=False)"
   ]
  },
  {
   "cell_type": "markdown",
   "id": "afa65c6f",
   "metadata": {},
   "source": [
    "<font face='liberation serif' size=4>Приступим к замене не определенных типов"
   ]
  },
  {
   "cell_type": "code",
   "execution_count": null,
   "id": "d0a0f553",
   "metadata": {},
   "outputs": [],
   "source": [
    "grouped = data.groupby ('model')['transmission'].agg (mode).reset_index(inplace=False)\n",
    "grouped_exploded = grouped.explode('transmission')\n",
    "\n",
    "grouped_exploded.transmission = grouped_exploded.transmission.apply(lambda x: x[0])\n",
    "\n",
    "list_code = ['at','mt', 'not_defined']\n",
    "grouped_exploded = grouped_exploded.query ('transmission in @list_code').reset_index(drop=True)\n"
   ]
  },
  {
   "cell_type": "code",
   "execution_count": null,
   "id": "30a312c2",
   "metadata": {},
   "outputs": [],
   "source": [
    "for index, row in grouped_exploded.iterrows():\n",
    "    # Выбираем соответствующую модель в основной таблице data\n",
    "    model_fix = row['model']\n",
    "    # Получаем значение типа топлива в grouped_exploded\n",
    "    type_transm = row['transmission']\n",
    "    \n",
    "    # Обновляем значение топлива выпуска в основной таблице\n",
    "    data.loc[(data.transmission == model_fix) & (data.transmission == 888),\n",
    "             'transmission'] = type_transm"
   ]
  },
  {
   "cell_type": "code",
   "execution_count": null,
   "id": "f0fea4fb",
   "metadata": {},
   "outputs": [],
   "source": [
    "data.transmission.value_counts (dropna=False)"
   ]
  },
  {
   "cell_type": "markdown",
   "id": "abf2d1b6",
   "metadata": {},
   "source": [
    "<font face='liberation serif' size=4>Убираем неопределившихся, а остальное возращаем к исходному виду"
   ]
  },
  {
   "cell_type": "code",
   "execution_count": null,
   "id": "9bb7e90f",
   "metadata": {},
   "outputs": [],
   "source": [
    "data = data.query('transmission != \"not_defined\"').reset_index(drop=True)"
   ]
  },
  {
   "cell_type": "code",
   "execution_count": null,
   "id": "9d8a054d",
   "metadata": {
    "scrolled": true
   },
   "outputs": [],
   "source": [
    "data.transmission.unique()"
   ]
  },
  {
   "cell_type": "code",
   "execution_count": null,
   "id": "9921b117",
   "metadata": {},
   "outputs": [],
   "source": [
    "data.shape"
   ]
  },
  {
   "cell_type": "markdown",
   "id": "727f7653",
   "metadata": {},
   "source": [
    "<font face='liberation serif' size=4>В результате корректировок, нам удалось заменить 279 записей, из 829 изначальных пропусков/не определившихся, осталось 550 (срезаем 1,6%) "
   ]
  },
  {
   "cell_type": "markdown",
   "id": "18555737",
   "metadata": {},
   "source": [
    "### Тип привода\n",
    "<font face='liberation serif' size=4>Осталось разобраться с типом привода, сейчас класических 643 пропуска (2,08%), нужно еще посмотреть на нестандарные описания и число неизвестных значений веротяно изменится.\n",
    "\n",
    "'FWD' – передний привод\n",
    "\n",
    "'4WD' – полный привод\n",
    "\n",
    "'RWD' – задний привод\n",
    "\n",
    "'2WD’ – все остальное "
   ]
  },
  {
   "cell_type": "code",
   "execution_count": null,
   "id": "51b249c1",
   "metadata": {
    "scrolled": true
   },
   "outputs": [],
   "source": [
    "check (data)"
   ]
  },
  {
   "cell_type": "code",
   "execution_count": null,
   "id": "3856a051",
   "metadata": {},
   "outputs": [],
   "source": [
    "data.drive_type.unique()"
   ]
  },
  {
   "cell_type": "markdown",
   "id": "0c5d0701",
   "metadata": {},
   "source": [
    "<font face='liberation serif' size=4>будем использовать следующую схему распределения \n",
    "\n",
    "<font face='liberation serif' size=4>FWD (передний привод):\n",
    "\n",
    "'fwd'\n",
    "'передний'\n",
    "'передний ' (с пробелом в конце)\n",
    "'ff'\n",
    "\n",
    "<font face='liberation serif' size=4>4WD (полный привод):\n",
    "\n",
    "'quattro'\n",
    "'4wd'\n",
    "'полный'\n",
    "'awd'\n",
    "'4х4'\n",
    "'4x4'\n",
    "'4motion'\n",
    "'полный ' (с пробелом в конце)\n",
    "'4х2.2'\n",
    "'4 wd'\n",
    "'p/time'\n",
    "\n",
    "<font face='liberation serif' size=4>RWD (задний привод):\n",
    "\n",
    "'rwd'\n",
    "'задний'\n",
    "'fr'\n",
    "\n",
    "<font face='liberation serif' size=4>2WD (все остальное):\n",
    "\n",
    "'2wd'\n",
    "'2 wd'\n",
    "'4x2'\n",
    "'4х2'\n",
    "'2х4'\n",
    "'cvt'\n",
    "'0'\n"
   ]
  },
  {
   "cell_type": "code",
   "execution_count": null,
   "id": "b4403e18",
   "metadata": {},
   "outputs": [],
   "source": [
    "data.drive_type = data.drive_type.str.replace(' ', '')\n",
    "data.drive_type.unique()"
   ]
  },
  {
   "cell_type": "code",
   "execution_count": null,
   "id": "7c4a5efc",
   "metadata": {},
   "outputs": [],
   "source": [
    "data.drive_type.fillna('0', inplace=True)\n",
    "data.drive_type.isna().sum ()"
   ]
  },
  {
   "cell_type": "code",
   "execution_count": null,
   "id": "662d31ba",
   "metadata": {},
   "outputs": [],
   "source": [
    "def replacing_drive_type (cell: str) -> str:\n",
    "    \"\"\"\n",
    "    Обработка значения типа привода автомобиля.\n",
    "\n",
    "    Параметры:\n",
    "    - cell (str): Исходное значение типа привода.\n",
    "\n",
    "    Возвращает:\n",
    "    - str: 'FWD' если привод передний,\n",
    "           '2WD' если привод 2-х колёсный,\n",
    "           'RWD' если привод задний,\n",
    "           '4WD' если привод не определен или 4-х колёсный.\n",
    "    \"\"\"\n",
    "    fwd_keywords = ['fwd', 'передний', 'ff']\n",
    "    wd2_keywords = ['2wd', '4x2', '4х2', '2х4', 'cvt', '0']\n",
    "    rwd_keywords = ['rwd', 'задний', 'fr']\n",
    "\n",
    "    if cell in fwd_keywords:\n",
    "        return 'FWD'\n",
    "    elif cell in wd2_keywords:\n",
    "        return '2WD'\n",
    "    elif cell in rwd_keywords:\n",
    "        return 'RWD'\n",
    "    else:\n",
    "        return '4WD'\n",
    "\n",
    "data.drive_type = data.drive_type.apply(replacing_drive_type)"
   ]
  },
  {
   "cell_type": "code",
   "execution_count": null,
   "id": "4002d6ef",
   "metadata": {},
   "outputs": [],
   "source": [
    "data.drive_type.value_counts(dropna=False)"
   ]
  },
  {
   "cell_type": "markdown",
   "id": "513d17eb",
   "metadata": {},
   "source": [
    "<font face='liberation serif' size=4>Пропуски в приводе убрал."
   ]
  },
  {
   "cell_type": "code",
   "execution_count": null,
   "id": "bd373fc7",
   "metadata": {
    "scrolled": true
   },
   "outputs": [],
   "source": [
    "check (data)"
   ]
  },
  {
   "cell_type": "markdown",
   "id": "d9bf6993",
   "metadata": {},
   "source": [
    "<font face='liberation serif' size=4>Осталось только удалить строки с пропускаи в столбце количество"
   ]
  },
  {
   "cell_type": "code",
   "execution_count": null,
   "id": "b9476a36",
   "metadata": {},
   "outputs": [],
   "source": [
    "data=data.dropna().reset_index(drop=True)"
   ]
  },
  {
   "cell_type": "code",
   "execution_count": null,
   "id": "52509eab",
   "metadata": {},
   "outputs": [],
   "source": [
    "data.shape"
   ]
  },
  {
   "cell_type": "markdown",
   "id": "10a27436",
   "metadata": {},
   "source": [
    "### Итоги чистки\n",
    "\n",
    "<font face='liberation serif' size=4>После всех чисток и замен, из 32854 изначальных строк, осталось 30504, или 93%. Приемлемо. Идем дальше"
   ]
  },
  {
   "cell_type": "markdown",
   "id": "b23236c5",
   "metadata": {},
   "source": [
    "## <font face='liberation serif' size=5>Обработка типов.</font> "
   ]
  },
  {
   "cell_type": "code",
   "execution_count": null,
   "id": "7ee928f8",
   "metadata": {},
   "outputs": [],
   "source": [
    "data.info()"
   ]
  },
  {
   "cell_type": "markdown",
   "id": "f4ff36ce",
   "metadata": {},
   "source": [
    "<font face='liberation serif' size=4>Заменим тип в \"Количество\", \"Цена\" и \"Продажа\" на int, такие тоные данные, как 6 знаков после запятой, нам не обязательны. "
   ]
  },
  {
   "cell_type": "code",
   "execution_count": null,
   "id": "7f3aadf5",
   "metadata": {},
   "outputs": [],
   "source": [
    "cols_to_int = ['price', 'sale', 'quantity', 'year_of_production']\n",
    "data [cols_to_int] = data[cols_to_int].astype('int')"
   ]
  },
  {
   "cell_type": "code",
   "execution_count": null,
   "id": "de390f37",
   "metadata": {},
   "outputs": [],
   "source": [
    "#уберем пробелы в сегментации\n",
    "data.segmentation = data.segmentation.str.strip()\n",
    "data.class_2013 = data.class_2013.str.strip()\n",
    "data.loc[data['class_2013'].str.contains('suv', case=False, na=False), 'class_2013'] = 'suv'\n"
   ]
  },
  {
   "cell_type": "code",
   "execution_count": null,
   "id": "3a856840",
   "metadata": {},
   "outputs": [],
   "source": [
    "# А столбцы fuel, transmission, segmentation, class сделаем категориальными\n",
    "cols_to_int = ['fuel', 'transmission', 'segmentation', 'class_2013']\n",
    "data [cols_to_int] = data[cols_to_int].astype('category')"
   ]
  },
  {
   "cell_type": "code",
   "execution_count": null,
   "id": "9874b101",
   "metadata": {},
   "outputs": [],
   "source": [
    "data.info()"
   ]
  },
  {
   "cell_type": "markdown",
   "id": "8200b301",
   "metadata": {},
   "source": [
    "### Кодировка стран"
   ]
  },
  {
   "cell_type": "code",
   "execution_count": null,
   "id": "0afc0d7e",
   "metadata": {},
   "outputs": [],
   "source": [
    "data.country.unique ()"
   ]
  },
  {
   "cell_type": "code",
   "execution_count": null,
   "id": "1e8caceb",
   "metadata": {},
   "outputs": [],
   "source": [
    "# делаем резервную копию датасета\n",
    "data2 = data.copy(deep = True)"
   ]
  },
  {
   "cell_type": "code",
   "execution_count": null,
   "id": "81ee5a57",
   "metadata": {},
   "outputs": [],
   "source": [
    "try:\n",
    "    countries_codes = (pd.read_table('https://www.artlebedev.ru/country-list/', encoding='utf8')[0]\n",
    "                       [['Наименование', 'Полное наименование', 'Alpha3']].\\\n",
    "                       rename(columns={'Наименование':'name', 'Полное наименование':'full_name'}))\n",
    "    \n",
    "except:\n",
    "    countries_codes = pd.read_table('https://www.artlebedev.ru/country-list/tab/')"
   ]
  },
  {
   "cell_type": "code",
   "execution_count": null,
   "id": "9356d5f8",
   "metadata": {
    "scrolled": true
   },
   "outputs": [],
   "source": [
    "countries_codes = data_preprocessing(countries_codes)"
   ]
  },
  {
   "cell_type": "markdown",
   "id": "acf325a7",
   "metadata": {},
   "source": [
    "<font face='liberation serif' size=4>До слияния кодировок, нужно внести правки в названия, например корея - учитывая что есть северная и июная, нужно скорректировать название."
   ]
  },
  {
   "cell_type": "code",
   "execution_count": null,
   "id": "4fae5c0d",
   "metadata": {},
   "outputs": [],
   "source": [
    "data.country = data.country.replace('корея', 'республика корея')\n",
    "data.country = data.country.replace('белоруссия', 'беларусь')"
   ]
  },
  {
   "cell_type": "code",
   "execution_count": null,
   "id": "799ca130",
   "metadata": {},
   "outputs": [],
   "source": [
    "shortname_list = countries_codes.name.tolist()\n",
    "fullname_list = countries_codes.fullname.tolist()\n",
    "alpha_3 = countries_codes.alpha3.tolist()\n",
    "\n",
    "# Создаем словари из списков\n",
    "shortname_dict = {k: v for k, v in zip(shortname_list, alpha_3)}\n",
    "fullname_dict = {k: v for k, v in zip(fullname_list, alpha_3)}\n",
    "\n",
    "# Объединяем два словаря\n",
    "final_dict = shortname_dict.copy()  # начинаем с копии первого словаря\n",
    "for k, v in fullname_dict.items():\n",
    "    if k not in final_dict.keys():\n",
    "        final_dict[k] = v"
   ]
  },
  {
   "cell_type": "code",
   "execution_count": null,
   "id": "59b884db",
   "metadata": {},
   "outputs": [],
   "source": [
    "data.country = data.country.apply(lambda cell: final_dict.get(cell, cell))"
   ]
  },
  {
   "cell_type": "code",
   "execution_count": null,
   "id": "4824cd3d",
   "metadata": {},
   "outputs": [],
   "source": [
    "data.country.unique ()"
   ]
  },
  {
   "cell_type": "markdown",
   "id": "6b19d9e2",
   "metadata": {},
   "source": [
    "## <font face='liberation serif' size=5>Анализ данных.</font>  "
   ]
  },
  {
   "cell_type": "markdown",
   "id": "adce472c",
   "metadata": {},
   "source": [
    "<font face='liberation serif' size=4>Учитывая датасет с которым подошли к этапу анализа, пришло время посмотреть на числовые значения, в том числе на выбросы"
   ]
  },
  {
   "cell_type": "code",
   "execution_count": null,
   "id": "db9ecc5b",
   "metadata": {
    "scrolled": true
   },
   "outputs": [],
   "source": [
    "data.describe ()"
   ]
  },
  {
   "cell_type": "markdown",
   "id": "eb7a0a56",
   "metadata": {},
   "source": [
    "### Визуализация даных для исследования"
   ]
  },
  {
   "cell_type": "code",
   "execution_count": null,
   "id": "680de38b",
   "metadata": {},
   "outputs": [],
   "source": [
    "def plot_distribution_and_box(data, columns):\n",
    "    \"\"\"\n",
    "    Отображает гистограмму распределения и ящик с усами (Box plot) для указанных столбцов датасета.\n",
    "\n",
    "    Эта функция использует Plotly для создания интерактивных графиков. Она предназначена для анализа \n",
    "    распределения значений в столбцах датасета. Для каждого указанного столбца функция выводит два графика: \n",
    "    гистограмму с линией плотности ядерной оценки (KDE) и ящик с усами.\n",
    "\n",
    "    Параметры:\n",
    "    - data (DataFrame): DataFrame, содержащий данные для анализа.\n",
    "    - columns (list): Список столбцов, для которых необходимо создать графики.\n",
    "    \"\"\"\n",
    "    for column in columns:\n",
    "        fig = make_subplots(specs=[[{\"secondary_y\": True}]])\n",
    "        \n",
    "        fig.add_trace(go.Histogram(x=data[column], nbinsx=25, histnorm='probability', name='Распределение', marker_color='steelblue'), secondary_y=False)\n",
    "        fig.update_layout(title=f'Распределение значений в столбце {column}', xaxis_title=column, yaxis_title='Частота')\n",
    "        fig.update_layout(xaxis=dict(showgrid=True, gridwidth=0.5, gridcolor='lightgray'), yaxis=dict(showgrid=True, gridwidth=0.5, gridcolor='lightgray'))\n",
    "        \n",
    "        kde = gaussian_kde(data[column])\n",
    "        x_vals = sorted(data[column])\n",
    "        y_vals = kde(x_vals)\n",
    "        \n",
    "        fig.add_trace(go.Scatter(x=x_vals, y=y_vals, mode='lines', line=dict(color='red', width=2), name='KDE'), secondary_y=True)\n",
    "        fig.update_yaxes(title_text=\"Частота\", secondary_y=False)\n",
    "        fig.update_yaxes(title_text=\"Плотность\", secondary_y=True)\n",
    "        \n",
    "        fig.show()\n",
    "        \n",
    "        fig = go.Figure()\n",
    "        fig.add_trace(go.Box(x=data[column], name='Ящик с усами', marker_color='steelblue'))\n",
    "        fig.update_layout(title=f'Ящик с усами для столбца {column}', xaxis_title=column)\n",
    "        fig.update_layout(xaxis=dict(showgrid=True, gridwidth=0.5, gridcolor='lightgray'), yaxis=dict(showgrid=True, gridwidth=0.5, gridcolor='lightgray'))\n",
    "        \n",
    "        fig.show()"
   ]
  },
  {
   "cell_type": "code",
   "execution_count": null,
   "id": "4770af06",
   "metadata": {
    "scrolled": false
   },
   "outputs": [],
   "source": [
    "columns_to_plot = ['price', 'engine', 'year_of_production', 'quantity']\n",
    "plot_distribution_and_box(data, columns_to_plot)"
   ]
  },
  {
   "cell_type": "markdown",
   "id": "a54ffa77",
   "metadata": {},
   "source": [
    "<font face='liberation serif' size=4>\"Год производства\" - в основном все машины 2018 года, \n",
    "\n",
    "<font face='liberation serif' size=4>медиативный объем двигателя 2 литра, в среднем 2.25, основная масса в пределах 3 литров, есть автомобили с объемом 17.5 (вероятно, автобусы или грузовики), \n",
    "\n",
    "<font face='liberation serif' size=4>\"количество\" - в основном покупают по 1 авто, но есть странные значения, в частности, 91 автомобиль (кто-то открывал такси?), большинство значений в диапазоне 1-4 \n",
    "\n",
    "<font face='liberation serif' size=4>\"цена\" - подавляющее большинство автомобилей стоимостью в пределах 40000, аномальная высокая цена в 254958, могу пока предположить это стоимость всех авто для найденного ранее \"таксопарка\"\n"
   ]
  },
  {
   "cell_type": "markdown",
   "id": "80626f21",
   "metadata": {},
   "source": [
    "<font face='liberation serif' size=4>Посмотрим на распределение в части типов привода, топлива и КП и т.п."
   ]
  },
  {
   "cell_type": "code",
   "execution_count": null,
   "id": "844c805e",
   "metadata": {},
   "outputs": [],
   "source": [
    "def category_plot(data, columns):\n",
    "    \"\"\"\n",
    "    Отображает столбчатые диаграммы для категориальных переменных датасета в зависимости от их частоты.\n",
    "\n",
    "    Эта функция использует Plotly для создания интерактивных графиков. Она предназначена для визуализации\n",
    "    частоты уникальных значений категориальных переменных. Для каждого указанного столбца функция создает\n",
    "    столбчатую диаграмму, отсортированную по убыванию частоты.\n",
    "\n",
    "    Параметры:\n",
    "    - data (DataFrame): DataFrame, содержащий данные для анализа.\n",
    "    - columns (list): Список категориальных столбцов, для которых необходимо создать графики.\n",
    "    \"\"\"\n",
    "    for c in columns:\n",
    "        group_data = data.pivot_table(index=c, values='price', aggfunc='count').reset_index()\n",
    "        group_data = group_data.sort_values(by='price', ascending=False)\n",
    "        \n",
    "        fig = make_subplots(specs=[[{\"secondary_y\": False}]])\n",
    "        \n",
    "        fig.add_trace(go.Bar(x=group_data[c], y=group_data['price'], name='Количество', marker_color='steelblue'))\n",
    "        fig.update_layout(title=f'График распределение по типу {c}', xaxis_title=c, yaxis_title='Количество')\n",
    "        fig.update_layout(xaxis=dict(showgrid=True, gridwidth=0.5, gridcolor='lightgray'), yaxis=dict(showgrid=True, gridwidth=0.5, gridcolor='lightgray'))\n",
    "        \n",
    "        fig.show()"
   ]
  },
  {
   "cell_type": "code",
   "execution_count": null,
   "id": "8b75bbbb",
   "metadata": {
    "scrolled": false
   },
   "outputs": [],
   "source": [
    "columns_to_plot = ['country', 'fuel', 'transmission', 'drive_type', 'segmentation', 'class_2013']\n",
    "category_plot (data, columns_to_plot)"
   ]
  },
  {
   "cell_type": "markdown",
   "id": "16eae6ac",
   "metadata": {},
   "source": [
    "<font face='liberation serif' size=4>Пока отмечаем аномалии и всплески, разбирать их будем чуть позже, сейчас займемся проверкой корреляции И расчетом ТОПов."
   ]
  },
  {
   "cell_type": "markdown",
   "id": "c0710d8a",
   "metadata": {},
   "source": [
    "### Топ продаж по медиативной цене и количество проданных авто"
   ]
  },
  {
   "cell_type": "markdown",
   "id": "9cb41967",
   "metadata": {},
   "source": [
    "#### Срез для выявления покупок для частных целей, и визуализация результатов\n",
    "<font face='liberation serif' size=4>Перед расчетом, необходимо сначала исключить таксопарки, коммерческие закупки. Исходя из логики, могу сделать обоснованное предположение, что если покупается больше 2-х машин за один раз, то это маловероятно для частного использования, а также можно исключить сегмент - коммерческие автомобили, когда указано в явном виде "
   ]
  },
  {
   "cell_type": "code",
   "execution_count": null,
   "id": "82d61560",
   "metadata": {},
   "outputs": [],
   "source": [
    "personal_data = data.query ('quantity <=2 and segmentation != \"коммерческие автомобили\"')"
   ]
  },
  {
   "cell_type": "code",
   "execution_count": null,
   "id": "9d350276",
   "metadata": {},
   "outputs": [],
   "source": [
    "personal_data.segmentation = personal_data.segmentation.astype ('object')\n",
    "personal_data.segmentation.unique ()"
   ]
  },
  {
   "cell_type": "code",
   "execution_count": null,
   "id": "e6dd4447",
   "metadata": {},
   "outputs": [],
   "source": [
    "personal_data.class_2013 = personal_data.class_2013.astype ('object')\n",
    "personal_data.class_2013.unique ()"
   ]
  },
  {
   "cell_type": "code",
   "execution_count": null,
   "id": "22d24782",
   "metadata": {
    "scrolled": false
   },
   "outputs": [],
   "source": [
    "# посмотрим еще раз на визуализацию после выделенния \"частных\" покупок\n",
    "columns_to_plot = ['country', 'fuel', 'transmission', 'drive_type', 'segmentation', 'class_2013']\n",
    "category_plot (personal_data, columns_to_plot)\n"
   ]
  },
  {
   "cell_type": "markdown",
   "id": "62c308d8",
   "metadata": {},
   "source": [
    "<font face='liberation serif' size=4>Как можем отметить, самые популярные - внедорожники, на втором месте легковые авто, в основном продаются автомобили на бензине, с коробкой автомат, и с полным приводом. Если смотреть на класс - то самый популярный suv - по сути внедорожник городского типа, так называемый паркетник."
   ]
  },
  {
   "cell_type": "code",
   "execution_count": null,
   "id": "59f3d9f7",
   "metadata": {
    "scrolled": false
   },
   "outputs": [],
   "source": [
    "columns_to_plot = ['price', 'engine', 'year_of_production', 'quantity']\n",
    "plot_distribution_and_box(personal_data, columns_to_plot)"
   ]
  },
  {
   "cell_type": "markdown",
   "id": "12666558",
   "metadata": {},
   "source": [
    "<font face='liberation serif' size=4>Медиативное значение объема двигателя, после фильтрации, 2 литра, \n",
    "цена в диапазоне от 15 до 35 тысяч долларов "
   ]
  },
  {
   "cell_type": "markdown",
   "id": "20bc560e",
   "metadata": {},
   "source": [
    "#### Топ-10 бренды по количеству приобретенных авто"
   ]
  },
  {
   "cell_type": "code",
   "execution_count": null,
   "id": "a1e3de8c",
   "metadata": {},
   "outputs": [],
   "source": [
    "group_brand = personal_data.groupby ('brand').agg({'sale':'sum', 'quantity':'sum'}).reset_index ().\\\n",
    "sort_values(by ='quantity', ascending = False)"
   ]
  },
  {
   "cell_type": "code",
   "execution_count": null,
   "id": "a3b47f17",
   "metadata": {
    "scrolled": true
   },
   "outputs": [],
   "source": [
    "top_brands = group_brand.reset_index(drop=True).head (10)\n",
    "top_brands"
   ]
  },
  {
   "cell_type": "code",
   "execution_count": null,
   "id": "7e89201b",
   "metadata": {
    "scrolled": true
   },
   "outputs": [],
   "source": [
    "top_brands_sale = group_brand.sort_values(by ='sale', ascending = False).reset_index(drop=True).head (10)\n",
    "top_brands_sale"
   ]
  },
  {
   "cell_type": "markdown",
   "id": "9ef22c25",
   "metadata": {},
   "source": [
    "<font face='liberation serif' size=4>Самая популярная марка - тойота, на втором месте хендай, и тройку лидеров замыкает ravon. \n",
    "\n",
    "<font face='liberation serif' size=4>А в части самой высокой выручки, первое место занимает ожидаемо тайота (очень большое количество продаж)."
   ]
  },
  {
   "cell_type": "markdown",
   "id": "ce650198",
   "metadata": {},
   "source": [
    "### Динамика продаж по рынку, в штуках и в денежном выражении."
   ]
  },
  {
   "cell_type": "markdown",
   "id": "5b39c665",
   "metadata": {},
   "source": [
    "<font face='liberation serif' size=4>сначала посмотрим на общие продажи по дням"
   ]
  },
  {
   "cell_type": "code",
   "execution_count": null,
   "id": "fce581ba",
   "metadata": {},
   "outputs": [],
   "source": [
    "def plot_dinamic (data, column1, column2, task=1):\n",
    "    \"\"\"\n",
    "    Отображает динамику указанного столбца по датам. В зависимости от значения `task` может разделить линии по \n",
    "    значениям другого столбца или предоставить агрегированное представление.\n",
    "\n",
    "    Эта функция использует Plotly Express для создания интерактивных линейных графиков. Она предназначена для \n",
    "    визуализации динамики указанного столбца (column2) по датам с возможностью разделения линий на основе значений \n",
    "    другого столбца (column1).\n",
    "\n",
    "    Параметры:\n",
    "    - data (DataFrame): DataFrame, содержащий данные для анализа.\n",
    "    - column1 (str): Имя столбца, по которому, возможно, будет производиться разделение линий.\n",
    "    - column2 (str): Имя столбца, агрегированное значение которого будет отображено на графике.\n",
    "    - task (int, optional): Если равно 1, будет показана общая динамика column2. Если отличается от 1, \n",
    "                            график будет разделен по значениям column1. По умолчанию равно 1.\n",
    "    \"\"\"\n",
    "    if task == 1:\n",
    "        quantity_by_date = data.groupby(['date'])[column2].sum().reset_index()\n",
    "        fig = px.line(quantity_by_date, x='date', y=column2, title=f'Распределение {column2} по месяцам')\n",
    "        fig.update_xaxes(rangeslider_visible=True, rangeselector=dict(buttons=list([\n",
    "                    dict(count=6, label=\"6m\", step=\"month\", stepmode=\"backward\"),\n",
    "                    dict(count=1, label=\"1y\", step=\"year\", stepmode=\"backward\"),\n",
    "                    dict(step=\"all\")\n",
    "                ])))\n",
    "        fig.show()\n",
    "    else:\n",
    "        quantity_by_date = data.groupby(['date', column1])[column2].sum().reset_index()\n",
    "\n",
    "        fig = px.line(quantity_by_date, x='date', y=column2, color=column1, title=f'Распределение {column2} по {column1} и месяцам')\n",
    "        fig.update_xaxes(rangeslider_visible=True)\n",
    "        fig.show()"
   ]
  },
  {
   "cell_type": "code",
   "execution_count": null,
   "id": "19a64ced",
   "metadata": {
    "scrolled": false
   },
   "outputs": [],
   "source": [
    "plot_dinamic (personal_data, 'quantity', 'quantity', task=1)"
   ]
  },
  {
   "cell_type": "markdown",
   "id": "3b97c24f",
   "metadata": {},
   "source": [
    "<font face='liberation serif' size=4>Как видно из графика, пик продаж приходится на июнь 2019 года - 3467 приобретено автомобилей, а если взять более большой отрезок, то можно отметить общую активность покупателей на период с мая по сентябрь включительно. В июле значения немного снижаются, но могу предположить, что сезон отпусков и в авторынке имеет свой вес."
   ]
  },
  {
   "cell_type": "code",
   "execution_count": null,
   "id": "84238622",
   "metadata": {},
   "outputs": [],
   "source": [
    "plot_dinamic (personal_data, 'sale', 'sale', task=1)"
   ]
  },
  {
   "cell_type": "markdown",
   "id": "20168c14",
   "metadata": {},
   "source": [
    "<font face='liberation serif' size=4>При анализе продаж в денежном выражении выявлена интересная динамика: в августе количество проданных автомобилей почти совпадает с их пиковым значением в июне. Однако общая стоимость приобретенных автомобилей в августе заметно ниже, даже по сравнению с маем. Это может свидетельствовать о том, что в августе покупатели приобретали автомобили более низкого ценового сегмента или модели дешевле."
   ]
  },
  {
   "cell_type": "markdown",
   "id": "dc7392fa",
   "metadata": {},
   "source": [
    "### Посмотрим детальнее на динамику, по типам: брендов, топлива, приводу, классу, региону, автоцентру и сегменту"
   ]
  },
  {
   "cell_type": "markdown",
   "id": "99dc60e1",
   "metadata": {},
   "source": [
    "#### Бренд"
   ]
  },
  {
   "cell_type": "code",
   "execution_count": null,
   "id": "2ea8eac7",
   "metadata": {
    "scrolled": false
   },
   "outputs": [],
   "source": [
    "data_subset_units = personal_data[personal_data['brand'].isin(top_brands.brand)]\n",
    "plot_dinamic (data_subset_units, 'brand', 'quantity', task=2)"
   ]
  },
  {
   "cell_type": "code",
   "execution_count": null,
   "id": "3df491a9",
   "metadata": {},
   "outputs": [],
   "source": [
    "plot_dinamic (data_subset_units, 'brand', 'sale', task=2)"
   ]
  },
  {
   "cell_type": "markdown",
   "id": "2b027e09",
   "metadata": {},
   "source": [
    "<font face='liberation serif' size=4>Лидеры по Продажам:\n",
    "\n",
    "    - Toyota: Безоговорочный лидер по количеству проданных автомобилей на всем периоде наблюдения. Доход от продаж данного бренда также является наивысшим, достигая пика в более 61 млн.\n",
    "    - Hyundai: На втором месте по количеству продаж, однако по доходу занимает третье место после Toyota и Lexus. Интересно, что в апреле Hyundai уступал по доходам Lexus.\n",
    "\n",
    "<font face='liberation serif' size=4>Бренды с Высоким Ценовым Сегментом:\n",
    "\n",
    "    - Lexus: При меньшем количестве проданных автомобилей показывает высокий уровень дохода. Это говорит о том, что бренд сконцентрирован на премиум-сегменте рынка.\n",
    "\n",
    "<font face='liberation serif' size=4>Бренды с Низким Ценовым Сегментом:\n",
    "\n",
    "    - Ravon: На начальном этапе показывает внушительные продажи, однако после февраля 2019 года их продажи резко снижаются. К концу исследуемого периода продажи данного бренда практически исчезают.\n",
    "\n",
    "\n",
    "<font face='liberation serif' size=4>Общие Наблюдения:\n",
    "\n",
    "    - Toyota имеет сильное влияние на рынок, так как общая динамика продаж автомобилей совпадает с графиком продаж данного бренда.\n",
    "    - Бренды Ravon и Lada сконцентрированы на бюджетном сегменте, так как при сравнительно высоком количестве продаж их доход меньше других брендов.\n",
    "    - Бренды JAC, Nissan, Renault, Volkswagen, и Chevrolet не показывают выдающихся результатов как по количеству, так и по доходу от продаж.\n",
    "\n",
    "\n",
    "<font face='liberation serif' size=4>Выводы показывают, что рынок автомобилей в Казахстане доминируется некоторыми ключевыми игроками, в то время как другие бренды занимают ниши или более низкие сегменты рынка. При принятии решений о запуске нового автосалона или расширении действующего бизнеса, необходимо учитывать эти данные для эффективного позиционирования и определения стратегии."
   ]
  },
  {
   "cell_type": "markdown",
   "id": "68585313",
   "metadata": {},
   "source": [
    "#### Автоцентр"
   ]
  },
  {
   "cell_type": "code",
   "execution_count": null,
   "id": "4cf648f5",
   "metadata": {},
   "outputs": [],
   "source": [
    "group_brand = personal_data.groupby ('company').agg({'sale':'sum', 'quantity':'sum'}).reset_index ().\\\n",
    "sort_values(by ='quantity', ascending = False)\n",
    "group_brand.sale = group_brand.sale.round (1)\n",
    "top_company = group_brand.reset_index(drop=True).head (10)\n",
    "top_company"
   ]
  },
  {
   "cell_type": "markdown",
   "id": "ec270a41",
   "metadata": {},
   "source": [
    "<font face='liberation serif' size=4>Ожидаемый лидер - официальный дилер тойота - почти 30% всех продаж, с целью более корректного исследования, исключим данного дилера из рейтинга "
   ]
  },
  {
   "cell_type": "code",
   "execution_count": null,
   "id": "cdda924a",
   "metadata": {},
   "outputs": [],
   "source": [
    "group_brand_no_toyota = group_brand.query ('company != \"toyota motor kazakhstan\"')\n",
    "top_company_units = group_brand_no_toyota.reset_index(drop=True).head (10)\n",
    "top_company_units"
   ]
  },
  {
   "cell_type": "code",
   "execution_count": null,
   "id": "0d507a38",
   "metadata": {
    "scrolled": false
   },
   "outputs": [],
   "source": [
    "data_subset_units = personal_data[personal_data.company.isin(top_company_units.company)]\n",
    "\n",
    "plot_dinamic (data_subset_units, 'company', 'quantity', task=2)\n",
    "plot_dinamic (data_subset_units, 'company', 'sale', task=2)"
   ]
  },
  {
   "cell_type": "markdown",
   "id": "b8cbfe4c",
   "metadata": {},
   "source": [
    "<font face='liberation serif' size=4>Динамика продаж:\n",
    "\n",
    "<font face='liberation serif' size=4>Узавто-Казахстан: Начинает как лидер продаж, однако со временем их продажи резко снижаются. Это указывает на возможные внутренние или внешние проблемы у компании.\n",
    "Astana-motors: С января 2019 года становится непререкаемым лидером рынка и удерживает это положение до сентября 2019 года. Отставание остальных участников составляет в 2-3 раза по выручке. Пик продаж этой компании приходится на май 2019 года с выручкой более 18 млн.\n",
    "Внешние факторы:\n",
    "\n",
    "<font face='liberation serif' size=4>По данным из сети, Узавто-Казахстан сменил свою политику, увеличив экспорт популярных моделей, таких как Chevrolet Cobalt, даже при наличии спроса на внутреннем рынке. Это может объяснить снижение их продаж в Казахстане.\n",
    "Медианный чек:\n",
    "\n",
    "<font face='liberation serif' size=4>Subaru Kazakhstan лидирует среди всех участников рынка по медианному чеку, достигая пика в 2,77 млн. \n",
    "\n",
    "<font face='liberation serif' size=4>Прим. удалось найти в сети информацию, что политика компании Узавто-Казахстан менялась, а именно был увеличен экспорт самых популярных моделей - шевроле кобальт, несмотря на, очереди на внутреннм рынке, могу предположить, что снижение продаж на рынке Казахстана связано именно с данными изменениями. \n"
   ]
  },
  {
   "cell_type": "markdown",
   "id": "e7a465e7",
   "metadata": {},
   "source": [
    "#### Регион"
   ]
  },
  {
   "cell_type": "code",
   "execution_count": null,
   "id": "05ec9692",
   "metadata": {},
   "outputs": [],
   "source": [
    "group_brand = personal_data.groupby ('region').agg({'sale':'sum', 'quantity':'sum'}).reset_index ().\\\n",
    "sort_values(by ='quantity', ascending = False)\n",
    "\n",
    "top_company_units = group_brand.reset_index(drop=True).head (10)\n",
    "display (top_company_units)\n",
    "\n",
    "data_subset_units = personal_data[personal_data.region.isin(top_company_units.region)]\n"
   ]
  },
  {
   "cell_type": "code",
   "execution_count": null,
   "id": "d89ed7b7",
   "metadata": {},
   "outputs": [],
   "source": [
    "plot_dinamic (data_subset_units, 'region', 'quantity', task=2)\n",
    "plot_dinamic (data_subset_units, 'region', 'sale', task=2)"
   ]
  },
  {
   "cell_type": "markdown",
   "id": "5e3780aa",
   "metadata": {},
   "source": [
    "<font face='liberation serif' size=4>Лидеры продаж:\n",
    "\n",
    "<font face='liberation serif' size=4>Алматы и Астана являются абсолютными лидерами по продажам автомобилей на изучаемом отрезке. Эти города существенно превосходят другие регионы как по количеству продаж, так и по их объему в денежном выражении.\n",
    "Сравнивая их с другими участниками рейтинга, объем продаж в Алматы и Астане вместе взятых превышает объем продаж в остальных городах из ТОПа.\n",
    "\n",
    "<font face='liberation serif' size=4>Характеристика рынков:\n",
    "\n",
    "<font face='liberation serif' size=4>Алматы: Наиболее активный регион с точки зрения продаж. Высокие показатели, вероятно, обусловлены большим населением, активной экономикой и большим количеством бизнесов.\n",
    "Астана: Второй по величине рынок автомобилей с высоким уровнем экономической активности.\n",
    "Шымкент, Костанай и Атырау: Заметный рынок, но меньше по объемам, чем в Алматы и Астане.\n",
    "Другие города: Регионы, такие как Караганда, Уральск, Актау, Усть-Каменогорск и Актобе, имеют существенное количество продаж, хотя и в меньших объемах.\n"
   ]
  },
  {
   "cell_type": "markdown",
   "id": "2ddcad6d",
   "metadata": {},
   "source": [
    "#### Тип топлива"
   ]
  },
  {
   "cell_type": "code",
   "execution_count": null,
   "id": "34719d62",
   "metadata": {},
   "outputs": [],
   "source": [
    "group_brand = personal_data.groupby ('fuel').agg({'sale':'sum', 'quantity':'sum'}).reset_index ().\\\n",
    "sort_values(by ='quantity', ascending = False)\n",
    "top_fuel = group_brand.reset_index(drop=True).head (10)\n",
    "top_fuel"
   ]
  },
  {
   "cell_type": "code",
   "execution_count": null,
   "id": "995e2932",
   "metadata": {},
   "outputs": [],
   "source": [
    "data_subset_units = personal_data[personal_data.fuel.isin(top_fuel.fuel)]\n",
    "plot_dinamic (data_subset_units, 'fuel', 'quantity', task=2)\n",
    "plot_dinamic (data_subset_units, 'fuel', 'sale', task=2)"
   ]
  },
  {
   "cell_type": "markdown",
   "id": "8f72058b",
   "metadata": {},
   "source": [
    "<font face='liberation serif' size=4>Результат ожидаемый - явный лидер - бензиновый двигатель"
   ]
  },
  {
   "cell_type": "markdown",
   "id": "1f8f7109",
   "metadata": {},
   "source": [
    "#### Класс"
   ]
  },
  {
   "cell_type": "code",
   "execution_count": null,
   "id": "29f667da",
   "metadata": {},
   "outputs": [],
   "source": [
    "group_brand = personal_data.groupby ('class_2013').agg({'sale':'sum', 'quantity':'sum'}).reset_index ().\\\n",
    "sort_values(by ='quantity', ascending = False)\n",
    "top_klass = group_brand.reset_index(drop=True).head (10)\n",
    "display (top_klass)\n",
    "data_subset_units = personal_data[personal_data.class_2013.isin(top_klass.class_2013)]\n",
    "plot_dinamic (data_subset_units, 'class_2013', 'quantity', task=2)\n",
    "plot_dinamic (data_subset_units, 'class_2013', 'sale', task=2)"
   ]
  },
  {
   "cell_type": "markdown",
   "id": "18a38abd",
   "metadata": {},
   "source": [
    "<font face='liberation serif' size=4>SUV (внедорожники) являются самым популярным классом автомобилей как по объему продаж (sale), так и по количеству проданных автомобилей (quantity). Это может быть связано с повышенной потребностью в автомобилях этого класса из-за их универсальности, пространства и проходимости.\n",
    "\n",
    "<font face='liberation serif' size=4>Автомобили класса B занимают второе место по популярности среди покупателей, что может быть обусловлено их доступностью и практичностью для городской езды.\n",
    "\n",
    "<font face='liberation serif' size=4>Автомобили класса E и C также имеют значительное количество продаж и проданных единиц, что говорит о спросе на более премиальные или большие автомобили.\n",
    "\n",
    "<font face='liberation serif' size=4>Пикапы (pick-ups) и автомобили класса A и D также представлены в данных, но их продажи и количество значительно меньше, что может говорить о более ограниченном спросе или меньшей доступности этих типов автомобилей.\n",
    "\n",
    "<font face='liberation serif' size=4>Классы автомобилей F, полноразмерные минивэны и компактвэны наименее представлены в продажах. Это может быть связано с меньшей популярностью этих типов автомобилей, их стоимостью или недостаточным предложением на рынке."
   ]
  },
  {
   "cell_type": "markdown",
   "id": "d25414bd",
   "metadata": {},
   "source": [
    "#### Привод"
   ]
  },
  {
   "cell_type": "code",
   "execution_count": null,
   "id": "bf5472ad",
   "metadata": {},
   "outputs": [],
   "source": [
    "group_brand = personal_data.groupby ('drive_type').agg({'sale':'sum', 'quantity':'sum'}).reset_index ().\\\n",
    "sort_values(by ='quantity', ascending = False)\n",
    "top_drive_type = group_brand.reset_index(drop=True).head (10)\n",
    "display (top_drive_type)\n",
    "data_subset_units = personal_data[personal_data.drive_type.isin(top_drive_type.drive_type)]\n",
    "plot_dinamic (data_subset_units, 'drive_type', 'quantity', task=2)\n",
    "plot_dinamic (data_subset_units, 'drive_type', 'sale', task=2)"
   ]
  },
  {
   "cell_type": "markdown",
   "id": "9ba1f199",
   "metadata": {},
   "source": [
    "<font face='liberation serif' size=4>Переднеприводные автомобили лидировали вплоть до марта 2019 года, и занимали на март 2019 г. первое место с 1172 продажами, но с апреля 2019  начинают уступать первое место полноприводным авто с продажами на пике в августе 2019 - 1703 шт.\n",
    "Динамика продаж в денежном выражении более равномерная в части лидерства - первое место полноприводные авто, с пиком в июне в размере 65 млн.\n",
    "\n",
    "<font face='liberation serif' size=4>Самым популярным типом привода является 4WD (полный привод), как по объему продаж (sale), так и по количеству проданных автомобилей (quantity). Это может говорить о высоком спросе на автомобили с полным приводом, что может быть связано с условиями дорожного движения, климатическими условиями или предпочтениями покупателей.\n",
    "\n",
    "<font face='liberation serif' size=4>Вторым по популярности является FWD (передний привод). По объему продаж он уступает 4WD, хотя разница в количестве проданных автомобилей не так велика. Это может говорить о том, что автомобили с передним приводом в среднем дешевле автомобилей с полным приводом.\n",
    "\n",
    "<font face='liberation serif' size=4>RWD (задний привод) является наименее популярным типом привода, продажи которого составляют всего лишь небольшую долю от общего числа продаж. Это может быть связано с тем, что автомобили с задним приводом часто ассоциируются с спортивными или премиальными автомобилями, которые обычно имеют более ограниченный рынок.\n",
    "\n",
    "<font face='liberation serif' size=4>Привод 2WD также имеет значительное количество продаж и количество проданных автомобилей, что говорит о том, что эти автомобили также находятся в спросе, хотя и уступают по популярности автомобилям с полным и передним приводом."
   ]
  },
  {
   "cell_type": "markdown",
   "id": "2008e207",
   "metadata": {},
   "source": [
    "#### Сегмент"
   ]
  },
  {
   "cell_type": "code",
   "execution_count": null,
   "id": "b1453676",
   "metadata": {},
   "outputs": [],
   "source": [
    "group_brand = personal_data.groupby ('segmentation').agg({'sale':'sum', 'quantity':'sum'}).reset_index ().\\\n",
    "sort_values(by ='quantity', ascending = False)\n",
    "top_segmentation = group_brand.reset_index(drop=True).head (10)\n",
    "display (top_segmentation)\n",
    "data_subset_units = personal_data[personal_data.segmentation.isin(top_segmentation.segmentation)]\n",
    "plot_dinamic (data_subset_units, 'segmentation', 'quantity', task=2)\n",
    "plot_dinamic (data_subset_units, 'segmentation', 'sale', task=2)"
   ]
  },
  {
   "cell_type": "markdown",
   "id": "4267c371",
   "metadata": {},
   "source": [
    "<font face='liberation serif' size=4>В части количества проданных авто, внедорожники уверенно лидирует с июня 2019 года и на пике имеют 2118 проданных авто, второе место занимаю легкоые авто. В денежном выражении внедорожники удерживают лидерскую позицию на всем исследуемомо отрезке, и имеют пиковое значение почти в 71 млн."
   ]
  },
  {
   "cell_type": "markdown",
   "id": "c3032378",
   "metadata": {},
   "source": [
    "### Исследование средних показателей по брендам и маркам"
   ]
  },
  {
   "cell_type": "markdown",
   "id": "f06512d1",
   "metadata": {},
   "source": [
    "<font face='liberation serif' size=4>Бренды уже рассматривали, там беззаговорочный лидер Tayota. теперь посмотрим по моделям"
   ]
  },
  {
   "cell_type": "code",
   "execution_count": null,
   "id": "116fd422",
   "metadata": {},
   "outputs": [],
   "source": [
    "group_brand = personal_data.groupby('model').agg({\n",
    "    'price':'mean',\n",
    "    'quantity':'sum',\n",
    "    'class_2013':lambda x: x.mode()[0] if len(x.mode()) > 0 else None\n",
    "}).reset_index().sort_values(by='price', ascending=False)\n",
    "\n",
    "group_brand.price=group_brand.price.round (1)\n",
    "top_brands = group_brand.reset_index(drop=True).head (10)\n",
    "top_brands\n"
   ]
  },
  {
   "cell_type": "markdown",
   "id": "729ffcd1",
   "metadata": {},
   "source": [
    "<font face='liberation serif' size=4>В основном представлены автомобили класса F и SUV. Это свидетельствует о предпочтении покупателей премиум-сегмента именно этих классов автомобилей.\n",
    "\n",
    "<font face='liberation serif' size=4>Модель LX отличается от других наличием большого количества продаж (404 единицы), что говорит о ее популярности среди покупателей, несмотря на высокую среднюю цену.\n",
    "\n",
    "<font face='liberation serif' size=4>С другой стороны, модели 911 Carrera S, G-class, LC и Genesis G90 продались в очень маленьком количестве (от 1 до 2 единиц), что может говорить о их эксклюзивности, либо о меньшей популярности среди покупателей по каким-то причинам.\n",
    "\n",
    "<font face='liberation serif' size=4>Самой дорогой моделью является 911 Carrera S, что может свидетельствовать о её высоком статусе или ограниченной доступности.\n",
    "\n",
    "<font face='liberation serif' size=4>Самым продаваемым автомобилем из списка является LX, несмотря на то что его цена значительно выше среднего."
   ]
  },
  {
   "cell_type": "markdown",
   "id": "74b2582a",
   "metadata": {},
   "source": [
    "### Емкость рынка"
   ]
  },
  {
   "cell_type": "code",
   "execution_count": null,
   "id": "9cad324a",
   "metadata": {},
   "outputs": [],
   "source": [
    "total_sales = personal_data['quantity'].sum()\n",
    "display ('Общий объем продаж:', total_sales)"
   ]
  },
  {
   "cell_type": "code",
   "execution_count": null,
   "id": "768e7288",
   "metadata": {},
   "outputs": [],
   "source": [
    "company_sales = personal_data.groupby('company')['quantity'].sum().sort_values(ascending=False)\n",
    "display ('Продажи по салонам', company_sales)\n"
   ]
  },
  {
   "cell_type": "code",
   "execution_count": null,
   "id": "7bfa9aa3",
   "metadata": {
    "scrolled": true
   },
   "outputs": [],
   "source": [
    "region_sales = personal_data.groupby('region')['quantity'].sum().sort_values(ascending=False)\n",
    "display('Продажи по регионам', region_sales)\n"
   ]
  },
  {
   "cell_type": "code",
   "execution_count": null,
   "id": "8a7c9da7",
   "metadata": {},
   "outputs": [],
   "source": [
    "sale_by_date = personal_data.groupby('date')['sale'].sum().reset_index()\n",
    "sale_by_date"
   ]
  },
  {
   "cell_type": "markdown",
   "id": "544d5816",
   "metadata": {},
   "source": [
    "<font face='liberation serif' size=4>Ранее уже проводился анализ данных направлений в срезе Топов, но если обобщить полученную информацию: \n",
    "\n",
    "<font face='liberation serif' size=4>Объем продаж: \n",
    "\n",
    "Всего было продано 27 155 единиц товара.\n",
    "\n",
    "<font face='liberation serif' size=4>Продажи по компаниям:\n",
    "\n",
    "Наибольший объем продаж приходится на компанию 'Toyota Motor Kazakhstan' с 10 440 проданными единицами.\n",
    "За ней следует 'Astana Motors' с 5 703 проданными единицами.\n",
    "'Бипэк Авто' и 'Узавто-Казахстан' также показали значительные продажи - 2 728 и 1 727 единиц соответственно.\n",
    "Наименьшие показатели у компаний 'Sivi Finance Consulting' и 'SMC' - 4 и 1 единица соответственно.\n",
    "\n",
    "<font face='liberation serif' size=4>Продажи по регионам:\n",
    "\n",
    "Наибольший объем продаж был в Алматы (8 013 единиц), затем в Астане (5 881 единица).\n",
    "Другие крупные города, такие как Шымкент, Костанай и Атырау, также показали значительные показатели продаж.\n",
    "Наименьшие объемы продаж были в Щучинске (3 единицы).\n",
    "В общем, продажи сконцентрированы в крупных городах и у крупных автомобильных дистрибьюторов. Вероятно, это связано с наличием у этих дистрибьюторов большего количества автосалонов в крупных городах и лучшим доступом к ресурсам, таким как реклама и распределение.\n",
    "\n",
    "Меньшие продажи в некоторых регионах и у некоторых дистрибьюторов могут указывать на необходимость усилить маркетинговые усилия или присмотреться к спросу в этих регионах.\n",
    "\n",
    "<font face='liberation serif' size=4>Динамика продаж:\n",
    "    \n",
    "Судя по данным, продажи варьируются от месяца к месяцу.\n",
    "Наименьший объем продаж был в январе 2019 года (60 426 429), а наибольший - в июне 2019 года (113 785 455).\n",
    "Отмечается общий тренд к росту продаж с начала года: с января по июнь продажи почти удвоились.\n",
    "После июня 2019 года продажи немного снизились (в июле), но затем снова увеличились и стабилизировались на уровне около 103-105 млн в августе и сентябре.\n",
    "В общем, данная динамика может быть связана с сезонностью или другими факторами, влияющими на спрос. Так, например, рост продаж в первой половине года может быть связан со снижением стоимости автомобилей из-за модельного года или с покупкой автомобилей перед летними каникулами, перед отпусками и т.п."
   ]
  },
  {
   "cell_type": "markdown",
   "id": "438ddd64",
   "metadata": {},
   "source": [
    "### Оценим долю рынка на примере компании mercur auto"
   ]
  },
  {
   "cell_type": "markdown",
   "id": "80f63f99",
   "metadata": {},
   "source": [
    "#### Расчет общей доли на рынке у mercur auto (количественном и стоимостном выражении)"
   ]
  },
  {
   "cell_type": "code",
   "execution_count": null,
   "id": "40829bce",
   "metadata": {},
   "outputs": [],
   "source": [
    "total_quantity = data.quantity.sum()\n",
    "total_sales = data.sale.sum()\n",
    "\n",
    "mercur_quantity = data[data.company == 'mercur auto']['quantity'].sum()\n",
    "mercur_sales = data[data.company == 'mercur auto']['sale'].sum()\n",
    "\n",
    "quantity_market_share = (mercur_quantity / total_quantity) * 100\n",
    "sales_market_share = (mercur_sales / total_sales) * 100\n",
    "\n",
    "display (f\"Количественная доля рынка компании 'mercur auto': {quantity_market_share:.2f}%\")\n",
    "display (f\"Стоимостная доля рынка компании 'mercur auto': {sales_market_share:.2f}%\")"
   ]
  },
  {
   "cell_type": "markdown",
   "id": "722152cd",
   "metadata": {},
   "source": [
    "#### Hасчета доли рынка mercur auto по маркам"
   ]
  },
  {
   "cell_type": "code",
   "execution_count": null,
   "id": "81116cae",
   "metadata": {},
   "outputs": [],
   "source": [
    "total_sales_by_brand = data.groupby('brand')['sale'].sum()\n",
    "\n",
    "mercur_sales_by_brand = data[data.company == 'mercur auto'].groupby('brand')['sale'].sum()\n",
    "\n",
    "brand_market_share = (mercur_sales_by_brand / total_sales_by_brand) * 100\n",
    "\n",
    "display (\"Доли рынка компании 'mercur auto' по маркам:\")\n",
    "display (brand_market_share)\n"
   ]
  },
  {
   "cell_type": "markdown",
   "id": "b958dd0f",
   "metadata": {},
   "source": [
    "#### Рассчитаем долю рынка mercur auto по классам"
   ]
  },
  {
   "cell_type": "code",
   "execution_count": null,
   "id": "22c3c505",
   "metadata": {},
   "outputs": [],
   "source": [
    "total_sales_by_klass = data.groupby('class_2013')['sale'].sum()\n",
    "\n",
    "mercur_sales_by_klass = data[data.company == 'mercur auto'].groupby('class_2013')['sale'].sum()\n",
    "\n",
    "klass_market_share = (mercur_sales_by_klass / total_sales_by_klass) * 100\n",
    "\n",
    "display (\"Доли рынка компании 'mercur auto' по классам:\")\n",
    "display (klass_market_share)\n"
   ]
  },
  {
   "cell_type": "markdown",
   "id": "da8a894e",
   "metadata": {},
   "source": [
    "<font face='liberation serif' size=5> Общие вывод по mercur auto\n",
    "\n",
    "<font face='liberation serif' size=4>*Общая доля рынка:* \n",
    "\n",
    "Компания 'mercur auto' занимает 2,43% рынка по количеству проданных автомобилей и 2.87% рынка по стоимости продаж. Это указывает на то, что средняя стоимость автомобиля, проданного компанией, выше среднего уровня по рынку.\n",
    "\n",
    "<font face='liberation serif' size=4>*Доля рынка по маркам:*\n",
    "\n",
    "Компания 'mercur auto' полностью доминирует на рынке брендов Audi, Porsche и Volkswagen, занимая 100% долю продаж по этим маркам. Это может указывать на эксклюзивные права на продажу или очень сильное присутствие в этом сегменте.\n",
    "По другим маркам у компании нет продаж, что может указывать на специализированный характер деятельности компании или на наличие эксклюзивных договоров с определенными производителями.\n",
    "\n",
    "<font face='liberation serif' size=4>*Доля рынка по классам:*\n",
    "\n",
    "Наибольшую долю рынка 'mercur auto' занимает в сегменте \"спортивные автомобили\", составляющую 84,04%. Это может говорить о том, что компания специализируется на продаже спортивных автомобилей или имеет выдающееся предложение в этом сегменте.\n",
    "Другие выдающиеся сегменты, в которых компания имеет заметное присутствие, включают \"полноразмерные минивэны\" с долей 18,41% и \"микроавтобусы\" с долей 9,71%.\n",
    "В некоторых классах, таких как \"а класс\", \"большие автобусы\", \"компактвэн\" и других, у компании нет продаж, что может говорить о целевой специализации компании или о стратегическом решении не работать с этими сегментами.\n",
    "Общий вывод: Компания 'mercur auto', вероятно, является специализированным дилером, сосредоточенным на определенных марках и классах автомобилей. Её присутствие особенно заметно в сегменте спортивных автомобилей, полноразмерных минивэнов и микроавтобусов. Это может указывать на то, что компания выбрала стратегию дифференциации и фокусируется на конкретных нишах рынка."
   ]
  },
  {
   "cell_type": "markdown",
   "id": "9283ba98",
   "metadata": {},
   "source": [
    "### Рассчет для mercur auto в части конкурентов"
   ]
  },
  {
   "cell_type": "code",
   "execution_count": null,
   "id": "495a8d49",
   "metadata": {},
   "outputs": [],
   "source": [
    "company_ranking = data.groupby('company')['sale'].sum().sort_values(ascending=False)\n",
    "\n",
    "display (\"Лидеры рынка по объему продаж:\")\n",
    "display (company_ranking.head())\n"
   ]
  },
  {
   "cell_type": "markdown",
   "id": "dee77067",
   "metadata": {},
   "source": [
    "<font face='liberation serif' size=4>Ранее мы уже смотрели на топ рынка по продажам, и отмечали лидирующие позиции toyota motor kazakhstan, теперь посмотрим на топ-5 в сравнении с mercur auto"
   ]
  },
  {
   "cell_type": "markdown",
   "id": "51529cdb",
   "metadata": {},
   "source": [
    "#### Определение ближайших конкурентов для \"mercur auto\":"
   ]
  },
  {
   "cell_type": "code",
   "execution_count": null,
   "id": "bf34b6dd",
   "metadata": {},
   "outputs": [],
   "source": [
    "mercur_regions = data[data.company == 'mercur auto']['region'].unique()\n",
    "mercur_brands = data[data.company == 'mercur auto']['brand'].unique()\n",
    "mercur_klasses = data[data.company == 'mercur auto']['class_2013'].unique()\n",
    "\n",
    "competitor_data = data[(data.region.isin(mercur_regions)) & \n",
    "                     (data.brand.isin(mercur_brands)) & \n",
    "                     (data.class_2013.isin(mercur_klasses))]\n",
    "\n",
    "\n",
    "competitor_ranking = competitor_data.groupby('company')['sale'].sum().sort_values(ascending=False)\n",
    "\n",
    "# Исключим \"mercur auto\" из списка, чтобы увидеть конкурентов\n",
    "competitor_ranking = competitor_ranking[competitor_ranking.index != 'mercur auto']\n",
    "\n",
    "display (\"Ближайшие конкуренты 'mercur auto' по объему продаж:\")\n",
    "display (competitor_ranking.head())\n"
   ]
  },
  {
   "cell_type": "markdown",
   "id": "56f8a153",
   "metadata": {},
   "source": [
    "<font face='liberation serif' size=4>Странно, якобы никого нет, нужно проверить, исключая по очереди наши параметры"
   ]
  },
  {
   "cell_type": "code",
   "execution_count": null,
   "id": "449e0cb8",
   "metadata": {},
   "outputs": [],
   "source": [
    "regional_competitor_data = data[data.region.isin(mercur_regions)]\n",
    "regional_competitor_ranking = regional_competitor_data.groupby('company')['sale'].sum().sort_values(ascending=False)\n",
    "regional_competitor_ranking = regional_competitor_ranking[regional_competitor_ranking.index != 'mercur auto']\n",
    "display (\"Конкуренты 'mercur auto' по объему продаж в регионах:\")\n",
    "display (regional_competitor_ranking.head())"
   ]
  },
  {
   "cell_type": "markdown",
   "id": "7bee663f",
   "metadata": {},
   "source": [
    "<font face='liberation serif' size=4>По регионам явно проблем нет с поиском конкурентов "
   ]
  },
  {
   "cell_type": "code",
   "execution_count": null,
   "id": "b6471c72",
   "metadata": {
    "scrolled": true
   },
   "outputs": [],
   "source": [
    "brand_competitor_data = data[data.brand.isin(mercur_brands)]\n",
    "brand_competitor_ranking = brand_competitor_data.groupby('company')['sale'].sum().sort_values(ascending=False)\n",
    "brand_competitor_ranking = brand_competitor_ranking[brand_competitor_ranking.index != 'mercur auto']\n",
    "display (\"Конкуренты 'mercur auto' по объему продаж среди брендов:\")\n",
    "display (brand_competitor_ranking.head())\n",
    "\n",
    "klass_competitor_data = data[data.class_2013.isin(mercur_klasses)]\n",
    "klass_competitor_ranking = klass_competitor_data.groupby('company')['sale'].sum().sort_values(ascending=False)\n",
    "klass_competitor_ranking = klass_competitor_ranking[klass_competitor_ranking.index != 'mercur auto']\n",
    "display (\"Конкуренты 'mercur auto' по объему продаж в классах машин:\")\n",
    "display (klass_competitor_ranking.head())\n"
   ]
  },
  {
   "cell_type": "markdown",
   "id": "633a02e5",
   "metadata": {},
   "source": [
    "#### Распределение продаж по месяцам или годам для 'mercur auto' и их основных конкурентов"
   ]
  },
  {
   "cell_type": "code",
   "execution_count": null,
   "id": "36c09cdc",
   "metadata": {
    "scrolled": false
   },
   "outputs": [],
   "source": [
    "# соберем данные по месяцам:\n",
    "monthly_sales = data.groupby(['company', data['date'].dt.to_period('M')])['sale'].sum().reset_index()\n",
    "# лидеров рынка по классам машин и mercur auto\n",
    "list_of_competitors = ['mercur auto', 'toyota motor kazakhstan', 'бипэк авто', 'astana motors',\\\n",
    "                       'nissan manufacturing rus', 'автоцентр-бавария']\n",
    "monthly_sales = monthly_sales.query('company == @ list_of_competitors')"
   ]
  },
  {
   "cell_type": "code",
   "execution_count": null,
   "id": "b5e45331",
   "metadata": {
    "scrolled": true
   },
   "outputs": [],
   "source": [
    "monthly_sales['date'] = monthly_sales['date'].astype(str)\n",
    "fig = px.line(monthly_sales, x='date', y='sale', color='company', title='Распределение продаж по месяцам')\n",
    "fig.update_xaxes(rangeslider_visible=True)\n",
    "fig.show()"
   ]
  },
  {
   "cell_type": "markdown",
   "id": "7e262255",
   "metadata": {},
   "source": [
    "<font face='liberation serif' size=4>*Лидеры рынка по регионам:*\n",
    "\n",
    "Как уже отмечалось, компания \"toyota motor kazakhstan\" является абсолютным лидером рынка с продажами, превышающими 415 миллионов.\n",
    "Следом идут компании \"бипэк авто\" и \"astana motors\" с продажами около 117 и 115 миллионов соответственно.\n",
    "\"вираж\" и \"nissan manufacturing rus\" также находятся в списке лидеров, но их продажи значительно меньше — 45 и 42 миллиона соответственно.\n",
    "\n",
    "<font face='liberation serif' size=4>*По брендам:*\n",
    "\n",
    "На основе предоставленных данных 'mercur auto' является единственной компанией, предлагающей некоторые из рассматриваемых брендов. Это может указывать на эксклюзивное право 'mercur auto' на продажу этих брендов или на то, что конкуренты не работают с этими конкретными брендами.\n",
    "\n",
    "<font face='liberation serif' size=4>*По классам машин:*\n",
    "\n",
    "Снова, \"toyota motor kazakhstan\" лидирует с продажами более 468 миллионов.\n",
    "\"бипэк авто\" и \"astana motors\" следуют за ней с продажами 149 и 124 миллиона соответственно.\n",
    "\"nissan manufacturing rus\" и \"автоцентр-бавария\" замыкают пятерку лидеров с продажами 43 и 23 миллиона соответственно.\n",
    "\n",
    "\n",
    "<font face='liberation serif' size=4>*Общие выводы:*\n",
    "\n",
    "\"toyota motor kazakhstan\" является ключевым игроком на рынке в рассматриваемых регионах и классах машин.\n",
    "'mercur auto' имеет уникальное преимущество в определенных брендах, что может служить конкурентным преимуществом.\n",
    "Хотя 'mercur auto' может не иметь такого большого объема продаж, как некоторые из лидеров рынка, уникальные бренды и возможное эксклюзивное право на их продажу могут дать возможность для стратегического позиционирования и разработки маркетинговых кампаний. Посмотрим более детально на продажи по регионам, брендам и классам, в срезе лидеров рынка и mercur auto"
   ]
  },
  {
   "cell_type": "markdown",
   "id": "78473713",
   "metadata": {},
   "source": [
    "#### Распределение продаж по регионам, брендам и классам"
   ]
  },
  {
   "cell_type": "code",
   "execution_count": null,
   "id": "575a970d",
   "metadata": {},
   "outputs": [],
   "source": [
    "def plot_sales_by_category(data, category, list_of_competitors):\n",
    "    \"\"\"\n",
    "    Составляет график продаж по заданной категории.\n",
    "\n",
    "    Аргументы:\n",
    "    - данные (pd.DataFrame): набор данных.\n",
    "    - категория (str): категория, по которой следует группировать продажи (например, \"бренд\", \"класс\", \"регион\").\n",
    "    - list_of_competitors (список): список конкурентов для фильтрации данных.\n",
    "\n",
    "    Что возвращает:\n",
    "    - ничего: отображает график.\n",
    "    \"\"\"\n",
    "    grouped_data = data.groupby([category, 'company'])['sale'].sum().reset_index()\n",
    "    filtered_data = grouped_data[grouped_data['company'].isin(list_of_competitors)]\n",
    "    fig = px.bar(filtered_data, x=category, y='sale', color='company', title=f'Продажи по {category}')\n",
    "    fig.show()"
   ]
  },
  {
   "cell_type": "code",
   "execution_count": null,
   "id": "26dbc1cb",
   "metadata": {
    "scrolled": false
   },
   "outputs": [],
   "source": [
    "plot_sales_by_category(data, 'brand', list_of_competitors)\n",
    "plot_sales_by_category(data, 'class_2013', list_of_competitors)\n",
    "plot_sales_by_category(data, 'region', list_of_competitors)"
   ]
  },
  {
   "cell_type": "markdown",
   "id": "90f25c11",
   "metadata": {},
   "source": [
    "<font face='liberation serif' size=5>Если кратко обобщить результаты визуализации\n",
    "\n",
    "<font face='liberation serif' size=4>Бренды:\n",
    "\n",
    "Toyota является абсолютным лидером, причем их дистрибьютор 'Toyota Motor Kazakhstan' контролирует наибольшую долю рынка. Другие выдающиеся бренды включают Lada, Hyundai, Lexus, и Kia.\n",
    "С другой стороны, 'Mercur Auto' предоставляет такие бренды как Audi, Porsche и Volkswagen. Несмотря на то, что Volkswagen имеет заметные продажи в 20,438,224, другие бренды этого дистрибьютора, такие как Audi и Porsche, имеют относительно меньший объем продаж.\n",
    "    \n",
    "<font face='liberation serif' size=4>Категории транспортных средств:\n",
    "\n",
    "'Toyota Motor Kazakhstan' и 'Astana Motors' доминируют в ряде высокодоходных категорий, таких как SUV, E класс и коммерческие транспортные средства.\n",
    "В то время как 'Mercur Auto' занимает значимые позиции в категориях F класс и микроавтобусы. Однако, в целом, их доля на рынке в этих категориях меньше по сравнению с 'Toyota Motor Kazakhstan' и 'Astana Motors'.\n",
    "\n",
    "<font face='liberation serif' size=4>Сравнение с 'Mercur Auto':\n",
    "\n",
    "Несмотря на то, что 'Mercur Auto' представляет несколько высококачественных брендов, их общий объем продаж ниже, чем у ключевых лидеров рынка.\n",
    "Они занимают ведущие позиции в определенных нишевых категориях, но их общий рыночный охват и разнообразие представленных категорий меньше по сравнению с главными игроками рынка.\n",
    "В заключении, 'Mercur Auto' является активным участником рынка, предоставляя ряд премиальных брендов и занимая лидирующие позиции в некоторых категориях. Однако, по общему объему продаж и разнообразию представленного транспорта, они уступают таким гигантам рынка, как 'Toyota Motor Kazakhstan' и 'Astana Motors'."
   ]
  },
  {
   "cell_type": "markdown",
   "id": "9c8e6a33",
   "metadata": {},
   "source": [
    "## <font face='liberation serif' size=5>Итоговые выводы.</font>  "
   ]
  },
  {
   "cell_type": "markdown",
   "id": "60839e7e",
   "metadata": {},
   "source": [
    "<font face='liberation serif' size=5>Общие выводы:\n",
    "\n",
    "<font face='liberation serif' size=4>Объем продаж: \n",
    "    \n",
    "Всего было продано 27 155 единиц товара.\n",
    "\n",
    "<font face='liberation serif' size=4>Продажи по компаниям:\n",
    "\n",
    "'Toyota Motor Kazakhstan' является лидером рынка с 10 440 проданными единицами.\n",
    "'Astana Motors' и 'Бипэк Авто' также являются ключевыми игроками с 5 703 и 2 728 проданными единицами соответственно.\n",
    "Компании 'Sivi Finance Consulting' и 'SMC' показали наименьший объем продаж - 4 и 1 единица соответственно.\n",
    "Между тем, компания \"mercur auto\" занимает долю рынка в размере 2.83% по количеству и 3.18% по стоимости.\n",
    "\n",
    "<font face='liberation serif' size=4>Продажи по регионам:\n",
    "\n",
    "Алматы и Астана являются ключевыми регионами с продажами 8 013 и 5 881 единиц соответственно.\n",
    "Города Шымкент, Костанай и Атырау также показали значительные показатели.\n",
    "Щучинск стоит выделить как регион с наименьшим объемом продаж - всего 3 единицы.\n",
    "Динамика продаж: Продажи имеют тенденцию к росту с января по июнь, вероятно, из-за сезонности или экономических факторов.\n",
    "\n",
    "<font face='liberation serif' size=4>Классы автомобилей:\n",
    "\n",
    "Самыми популярными являются автомобили класса F и SUV. В частности, \"mercur auto\" особенно сильно представлено в классе F (39.05%) и классе спортивных автомобилей (84.04%).\n",
    "Модель LX наиболее популярна среди покупателей, продавшись в количестве 404 единиц.\n",
    "Модели 911 Carrera S, G-class, LC и Genesis G90 менее популярны, с продажами в диапазоне от 1 до 2 единиц.\n",
    "\n",
    "<font face='liberation serif' size=4>Выводы по компании Mercur Auto\n",
    "\n",
    "<font face='liberation serif' size=4>-Рыночное положение: \n",
    "    \n",
    "'Mercur Auto' обладает количественной долей рынка в 2.43% и стоимостной долей в 2.87%. Это показывает, что хотя их общий объем продаж может быть меньше, чем у некоторых других игроков, они, вероятно, продавали автомобили более высокого класса или стоимости.\n",
    "\n",
    "<font face='liberation serif' size=4>-По маркам: \n",
    "    \n",
    "'Mercur Auto' является единственным представителем марок Audi, Porsche и Volkswagen на рынке. Это дает им уникальное конкурентное преимущество в этих категориях.\n",
    "\n",
    "<font face='liberation serif' size=4>-По классам: \n",
    "    \n",
    "'Mercur Auto' занимает лидирующие позиции в классе F (39.05%), полноразмерных минивэнах (18.41%) и спортивных автомобилях (84.04%). Это подтверждает их присутствие в премиум-сегменте.\n",
    "\n",
    "<font face='liberation serif' size=4>Рекомендации:\n",
    "\n",
    "<font face='liberation serif' size=4>-По классам:\n",
    "        \n",
    "        - F класс: Учитывая высокую долю рынка в 39.05%, Mercur Auto должна продолжать активное продвижение и укрепление своего положения в этом классе.\n",
    "\n",
    "        - Полноразмерный минивэн: С долей рынка 18.41% следует рассмотреть возможность увеличения ассортимента и предложений в этой категории.\n",
    "\n",
    "        - Спортивные автомобили: Огромная доля рынка в 84.04% указывает на доминирование компании в этом сегменте. Необходимо сохранить этот статус и возможно расширить ассортимент или предложить специальные акции.\n",
    "\n",
    "<font face='liberation serif' size=4>- По городам:\n",
    "\n",
    "        - Алматы: Учитывая его статус крупнейшего города и экономического центра страны, Mercur Auto должна активизировать свои усилия в этом регионе. Возможно, учитывая спрос на премиум-сегмент, стоит расширить присутствие в городе.\n",
    "        - Астана (Нур-Султан): Как столица страны, Астана представляет собой еще один важный регион для укрепления присутствия.\n",
    "        - Шымкент и другие крупные города: Предложить пробные поездки или провести рекламные кампании, чтобы привлечь больше клиентов из этих регионов.\n",
    "        \n",
    "    - Маркетинговые усилия: Рассмотреть возможность усилить рекламные кампании в регионах с меньшими продажами, а также провести исследование потребительских предпочтений в этих регионах.\n",
    "\n",
    "    - Анализ конкурентов: Важно учитывать действия ключевых конкурентов, таких как 'Toyota Motor Kazakhstan' и 'Astana Motors', чтобы определить возможные стратегические шаги для увеличения доли рынка \"mercur auto\".\n",
    "\n",
    "<font face='liberation serif' size=4>Учитывая вышеуказанные выводы и рекомендации, Mercur Auto имеет все шансы на успешное развитие на рынке. С учетом их уникального присутствия в определенных марках и классах автомобилей, важно сосредоточить усилия на сохранении этих позиций, а также на расширении присутствия в стратегически важных регионах."
   ]
  }
 ],
 "metadata": {
  "kernelspec": {
   "display_name": "Python 3 (ipykernel)",
   "language": "python",
   "name": "python3"
  },
  "language_info": {
   "codemirror_mode": {
    "name": "ipython",
    "version": 3
   },
   "file_extension": ".py",
   "mimetype": "text/x-python",
   "name": "python",
   "nbconvert_exporter": "python",
   "pygments_lexer": "ipython3",
   "version": "3.9.13"
  },
  "nbTranslate": {
   "displayLangs": [
    "*"
   ],
   "hotkey": "alt-t",
   "langInMainMenu": true,
   "sourceLang": "en",
   "targetLang": "fr",
   "useGoogleTranslate": true
  },
  "toc": {
   "base_numbering": 1,
   "nav_menu": {},
   "number_sections": true,
   "sideBar": true,
   "skip_h1_title": false,
   "title_cell": "Table of Contents",
   "title_sidebar": "Contents",
   "toc_cell": true,
   "toc_position": {
    "height": "calc(100% - 180px)",
    "left": "10px",
    "top": "150px",
    "width": "263px"
   },
   "toc_section_display": true,
   "toc_window_display": true
  },
  "varInspector": {
   "cols": {
    "lenName": 16,
    "lenType": 16,
    "lenVar": 40
   },
   "kernels_config": {
    "python": {
     "delete_cmd_postfix": "",
     "delete_cmd_prefix": "del ",
     "library": "var_list.py",
     "varRefreshCmd": "print(var_dic_list())"
    },
    "r": {
     "delete_cmd_postfix": ") ",
     "delete_cmd_prefix": "rm(",
     "library": "var_list.r",
     "varRefreshCmd": "cat(var_dic_list()) "
    }
   },
   "types_to_exclude": [
    "module",
    "function",
    "builtin_function_or_method",
    "instance",
    "_Feature"
   ],
   "window_display": false
  }
 },
 "nbformat": 4,
 "nbformat_minor": 5
}
